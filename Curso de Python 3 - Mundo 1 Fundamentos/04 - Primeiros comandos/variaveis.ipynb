{
 "cells": [
  {
   "cell_type": "markdown",
   "metadata": {},
   "source": [
    "# Introdução a Linguagem Python\n",
    "\n",
    "## Variáveis\n",
    "\n",
    "Não importa o quão complexo seja um programa, ele começa com uma única linha de código. Essa primeira linha geralmente é uma variável. Os programas usam variáveis para lembrar informações.\n",
    "\n",
    "Como caixas móveis, as variáveis têm conteúdo e nomes que nos dizem o que está dentro. O próprio nome sugere que o conteúdo dessas caixas pode ser variado (quase) de qualquer forma.\n",
    "\n",
    "O que todas as variáveis Python têm?\n",
    "\n",
    "- um nome\n",
    "- um operador de atribuição (=)\n",
    "- um valor (o conteúdo da caixa)\n"
   ]
  },
  {
   "cell_type": "code",
   "execution_count": 4,
   "metadata": {},
   "outputs": [],
   "source": [
    "# Uma variável é um nome que se refere a um valor.\n",
    "# A sintaxe para criar uma variável é o nome da variável seguido por um operador de atribuição (sinal de igual) e o valor que você deseja associar à variável.\n",
    "\n",
    "message = \"Hello Python world!\"\n",
    "\n",
    "# message é o nome da variável\n",
    "# = é o operador de atribuição que diz ao Python para atribuir o valor a direita do sinal de igual a variável a esquerda do sinal de igual.\n",
    "# \"Hello Python world!\" é o valor que queremos associar à variável message."
   ]
  },
  {
   "cell_type": "markdown",
   "metadata": {},
   "source": [
    "### Nomes de variáveis\n",
    "\n",
    "Vamos começar com os problemas relacionados ao nome de uma variável.\n",
    "As variáveis não aparecem em um programa automaticamente. Como desenvolvedor, você deve decidir quantas variáveis e quais usar em seus programas.\n",
    "\n",
    "Se quiser dar um nome a uma variável, você deve seguir algumas regras estritas:\n",
    "\n",
    "- O nome da variável deve ser composto de letras maiúsculas ou minúsculas, dígitos e o caractere _ (sublinhado)\n",
    "- O nome da variável deve começar com uma letra\n",
    "- O caractere de sublinhado é uma letra\n",
    "- As letras maiúsculas e minúsculas são tratadas como diferentes (um pouco diferente do que no mundo real - Alice e ALICE são os mesmos nomes, mas em Python são dois nomes de variáveis diferentes e, consequentemente, duas variáveis diferentes)\n",
    "- O nome da variável não deve ser nenhuma das palavras reservadas do Python (as palavras-chave).\n",
    "- O Python não impõe restrições ao comprimento dos nomes de variáveis, mas isso não significa que um nome de variável longo seja melhor do que um nome curto.\n",
    "- O Python permite que você use não apenas letras latinas, mas também caracteres específicos de idiomas que usam outros alfabetos.\n",
    "\n",
    "Dito isso, vejamos alguns exemplos válidos e inválidos para nomes de variáveis:"
   ]
  },
  {
   "cell_type": "code",
   "execution_count": 5,
   "metadata": {},
   "outputs": [],
   "source": [
    "# Exemplos de nomes de variáveis válidos:\n",
    "\n",
    "nome = \"Alice\"\n",
    "idade = 25\n",
    "\n",
    "saldo_conta = 1000.0 # Este padrão de nome de variável é conhecido como notação snake_case. Em Python, a convenção para nomes de variáveis é usar letras minúsculas e sublinhados para separar palavras em nomes compostos, como `saldo_conta`. A notação snake_case é a convenção mais comum para nomes de variáveis e funções em Python.\n",
    "\n",
    "numero123 = 42 # Ao nomear uma variável, recomenda-se que o nome seja descritivo e que represente o valor que a variável armazena. No entanto, o nome da variável não pode começar com um número, mas pode conter números em qualquer outro lugar do nome.\n",
    "\n",
    "_endereco = \"Rua Principal\" # Pode começar com um sublinhado, porém não é recomendado pois tem um significado especial em Python. Em Python, uma variável iniciada com um sublinhado (_) é uma convenção para indicar que a variável é considerada \"privada\" ao módulo em que está definida. Essa prática é uma sugestão aos programadores para não acessarem diretamente a variável fora do escopo do módulo, embora a linguagem não impeça esse acesso. É uma convenção de boas práticas, não uma regra estrita de acesso restrito.\n",
    "\n",
    "NomeCompleto = \"Bob Marley\" # Este padrão de nome de variável é conhecido como notação CamelCase. Em Python, a convenção para nomes de variáveis é usar letras minúsculas e sublinhados para separar palavras em nomes compostos, como `nome_completo`. A notação CamelCase é usada em outras linguagens de programação, como Java e C#, para nomes de variáveis e funções.\n",
    "\n",
    "PI = 3.14159 # Em Python, a convenção para variáveis escritas completamente em maiúsculas, como `CONSTANTE`, é frequentemente usada para representar valores que não devem ser modificados ao longo do programa, indicando que são constantes. Essa prática é uma convenção para facilitar a identificação de valores imutáveis, embora a linguagem em si não impeça a modificação dessas variáveis.\n",
    "\n",
    "# Exemplos de nomes de variáveis inválidos:\n",
    "\n",
    "# 123numero = 42  # Inválido: começa com um número\n",
    "# nome variavel = \"John\"  # Inválido: espaço não é permitido\n",
    "# idade! = 30  # Inválido: caractere especial ! não é permitido\n",
    "# class = \"Programação\"  # Inválido: palavra-chave reservada do Python\n",
    "# minha-variavel = 10  # Inválido: hífen não é permitido\n",
    "\n",
    "# Observação:\n",
    "\n",
    "# Lista de palavras-chave do Python (evitar como nomes de variáveis):\n",
    "# and, as, assert, break, class, continue, def, del, elif, else, except, False, finally, for, from, global, if, import, in, is, lambda, None, nonlocal, not, or, pass, raise, return, True, try, while, with, yield\n"
   ]
  },
  {
   "cell_type": "markdown",
   "metadata": {},
   "source": [
    "O PEP 8 - Guia de Estilo para Código Python recomenda a seguinte convenção de nomeclatura para variáveis e funções em Python:\n",
    "\n",
    "- Os nomes de variáveis devem estar em letras minúsculas, com palavras separadas por sublinhados para melhorar a legibilidade (por exemplo, var, my_variable)\n",
    "- Nomes de funções seguem a mesma convenção que nomes de variáveis (por exemplo, fun, my_function)\n",
    "- Também é possível usar casos mistos (por exemplo, myVariable), mas apenas em contextos onde esse já é o estilo predominante, para manter a compatibilidade com a convenção adotada"
   ]
  },
  {
   "cell_type": "markdown",
   "metadata": {},
   "source": [
    "### Como criar variáveis\n",
    "\n",
    "O valor de uma variável é o que você coloca nela. Pode variar com a frequência desejada. Pode ser um inteiro um momento e um momento depois, se tornar uma string.\n",
    "\n",
    "Uma variável passa a existir como resultado da atribuição de um valor a ela. Ao contrário de outros idiomas, você não precisa declará-lo de nenhuma maneira especial. Se você atribuir qualquer valor a uma variável inexistente, a variável será criada automaticamente. Você não precisa fazer mais nada, nem mesmo definir o tipo de dado. O Python se encarrega disso.\n",
    "\n",
    "A criação (ou seja, sua sintaxe) é extremamente simples. Consiste em: \n",
    "\n",
    "- Nomear a variável, seguindo as regras definidas anteriormente.\n",
    "- Utilizar o sinal de atribuição (=) (Falaremos mais sobre operadores adiante)\n",
    "- Seguido do valor que deseja colocar na variável.\n",
    "\n",
    "Para nos ajudar a entender o que está numa variável, escolhemos nomes descritivos em vez de abreviações e etc"
   ]
  },
  {
   "cell_type": "code",
   "execution_count": 6,
   "metadata": {},
   "outputs": [],
   "source": [
    "# Armazenar um valor em uma variável é como colocar coisas em uma caixa rotulada.\n",
    "caixa = \"Conteúdo\"\n",
    "\n",
    "# Tipagem dinâmica - Tipos de dados serão abordados em detalhes mais adiante\n",
    "variavel = 10           # Python infere que a variável é do tipo inteiro\n",
    "variavel = 10.0         # Agora, Python infere que a variável é do tipo float\n",
    "variavel = \"texto\"      # Agora, Python infere que a variável é do tipo string"
   ]
  },
  {
   "cell_type": "markdown",
   "metadata": {},
   "source": [
    "Você tem permissão para usar quantas declarações de variáveis forem necessárias para atingir seu objetivo.\n",
    "No entanto, você não pode usar uma variável que não existe (em outras palavras, uma variável que não recebeu um valor).\n",
    "\n",
    "As variáveis são chamadas de variáveis porque os valores que elas armazenam podem ser alterados. Podemos atualizar redeclarando a variável e dando-lhe um novo valor.\n",
    "\n",
    "Podemos atualizar as variáveis quantas vezes quisermos."
   ]
  },
  {
   "cell_type": "code",
   "execution_count": 9,
   "metadata": {},
   "outputs": [
    {
     "name": "stdout",
     "output_type": "stream",
     "text": [
      "True\n"
     ]
    }
   ],
   "source": [
    "caixa = 'Conteúdo atual'    # O conteúdo original\n",
    "caixa = 'Novo conteúdo'     # O conteúdo da caixa foi alterado\n",
    "caixa = 10                  # O conteúdo da caixa foi alterado novamente\n",
    "caixa = 10.5                # Sempre que um novo valor é atribuído, a variável esquece o valor anterior\n",
    "caixa = True                # O conteúdo da caixa foi alterado mais uma vez.\n",
    "# Ao executar este código, será exibido o último valor atribuído à variável caixa\n",
    "print(caixa)                # Saída: True"
   ]
  },
  {
   "cell_type": "markdown",
   "metadata": {},
   "source": [
    "Podemos atribuir qualquer tipo de valor a uma variável (Falaremos sobre tipos de dados mais a frente mas veja alguns a seguir).\n"
   ]
  },
  {
   "cell_type": "code",
   "execution_count": 5,
   "metadata": {},
   "outputs": [],
   "source": [
    "# Tipos de dados em Python\n",
    "inteiro = 42            # Exemplo de inteiro\n",
    "ponto_flutuante = 3.14  # Exemplo de float - serparamos os decimais com ponto em vez de vírgula.\n",
    "texto = \"Olá, Python!\"  # Exemplo de string\n",
    "booleano = True         # Exemplo de booleano\n",
    "lista = [1, 2, 3]       # Exemplo de variável composta (lista)\n",
    "\n",
    "# Devido a tipagem dinâmica do Python, não é necessário declarar o tipo de variável. O interpretador Python infere o tipo de variável a partir do valor atribuído a ela.\n",
    "\n",
    "# Por exemplo, se o inteiro 42 for atribuído a uma variável, o Python infere que a variável é do tipo inteiro. Mas se colocarmos um ponto decimal no final do número, o Python infere que a variável é do tipo float.\n",
    "\n",
    "inteiro = 42.0  # Agora, Python infere que a variável é do tipo float"
   ]
  },
  {
   "cell_type": "markdown",
   "metadata": {},
   "source": [
    "Com essa caracteristica, isso significa que também podemos atribuir uma variável a outra variável. Nesse caso utilizamos o nome da variável no processo de atribuição, que representará o seu valor.\n",
    "\n",
    "Lembrado que quando atualizamos uma variável, ela esquece o seu valor anterior."
   ]
  },
  {
   "cell_type": "code",
   "execution_count": 15,
   "metadata": {
    "ExecuteTime": {
     "end_time": "2024-02-05T01:18:53.778705400Z",
     "start_time": "2024-02-05T01:18:53.759863800Z"
    }
   },
   "outputs": [
    {
     "name": "stdout",
     "output_type": "stream",
     "text": [
      "a = 1\n",
      "b = 2\n",
      "Valores trocados:\n",
      "a = 2\n",
      "b = 2\n"
     ]
    }
   ],
   "source": [
    "a = 1 # a recebe o valor 1\n",
    "print('a =', a)\n",
    "\n",
    "b = 2 # b recebe o valor 2\n",
    "print('b =', b)\n",
    "\n",
    "a = b # a recebe o valor de b que é 2\n",
    "print('Valores trocados:')\n",
    "\n",
    "print('a =', a)\n",
    "print('b =', b)\n"
   ]
  },
  {
   "cell_type": "markdown",
   "metadata": {},
   "source": [
    "Imagine que queremos trocar o valor entre duas variáveis, ou seja, fazer a valer 2 e b valer 1.\n",
    "\n",
    "Como vimos anteriormente, ao atualizar o valor de uma variável ela esquece seu valor anterior já que cada instrução é executada individualmente, de cima para baixo.\n",
    "\n",
    "Uma forma de resolver o problema seria criar uma variável temporária que armazenaria um dos valores."
   ]
  },
  {
   "cell_type": "code",
   "execution_count": 16,
   "metadata": {},
   "outputs": [
    {
     "name": "stdout",
     "output_type": "stream",
     "text": [
      "a = 1\n",
      "b = 2\n",
      "t = 1\n",
      "Valores trocados:\n",
      "a = 2\n",
      "b = 1\n"
     ]
    }
   ],
   "source": [
    "a = 1 # a recebe o valor 1\n",
    "print('a =', a)\n",
    "\n",
    "b = 2 # b recebe o valor 2\n",
    "print('b =', b)\n",
    "\n",
    "t = a # t recebe o valor de a que é 1 temporariamente para que não sea perdido\n",
    "print('t =', t)\n",
    "\n",
    "print('Valores trocados:')\n",
    "\n",
    "a = b # a recebe o valor de b que é 2. Nesse momento, a perde seu valor original, mas a variável t ainda mantém o valor 1.\n",
    "print('a =', a)\n",
    "\n",
    "b = t # b recebe o valor de t que é 1\n",
    "print('b =', b)"
   ]
  },
  {
   "cell_type": "markdown",
   "metadata": {},
   "source": [
    "Obviamente este exemplo é muito simples e poderíamos simplesmente atualizar manualmente as variáveis, repetindo a atribuição."
   ]
  },
  {
   "cell_type": "code",
   "execution_count": 13,
   "metadata": {},
   "outputs": [
    {
     "name": "stdout",
     "output_type": "stream",
     "text": [
      "a = 1\n",
      "b = 2\n",
      "Valores trocados:\n",
      "a = 2\n",
      "b = 1\n"
     ]
    }
   ],
   "source": [
    "a = 1 # a recebe o valor 1\n",
    "print('a =', a)\n",
    "\n",
    "b = 2 # b recebe o valor 2\n",
    "print('b =', b)\n",
    "\n",
    "print('Valores trocados:')\n",
    "a = 2 # a recebe o valor 2\n",
    "print('a =', a)\n",
    "\n",
    "b = 1 # b recebe o valor 1\n",
    "print('b =', b)"
   ]
  },
  {
   "cell_type": "markdown",
   "metadata": {},
   "source": [
    "Mas com a tecnica de desempacotamento poderíamos fazer algo semelhante de forma mais concisa e elegante. Essa técnica aproveita a capacidade do Python de realizar atribuições simultâneas. Neste caso, os valores à direita do sinal de igualdade são empacotados em uma tupla (b, a) e, em seguida, desempacotados nas variáveis à esquerda (a, b). Isso resulta na troca dos valores entre as variáveis a e b sem a necessidade de uma variável temporária. \n",
    "\n",
    "Obs.: Tuplas serão abordadas em detalhes mais adiante."
   ]
  },
  {
   "cell_type": "code",
   "execution_count": 20,
   "metadata": {
    "ExecuteTime": {
     "end_time": "2024-02-05T01:19:01.724604400Z",
     "start_time": "2024-02-05T01:19:01.665660200Z"
    }
   },
   "outputs": [
    {
     "name": "stdout",
     "output_type": "stream",
     "text": [
      "a = 1 b = 2\n",
      "a = 2 b = 1\n"
     ]
    }
   ],
   "source": [
    "a = 1 # a recebe o valor 1 inicialmente\n",
    "b = 2 # b recebe o valor 2 inicialmente\n",
    "print('a =', a,'b =', b)\n",
    "\n",
    "a, b = b, a # a recebe o valor de b que é 2 e b recebe o valor de a que é 1\n",
    "# Dessa forma os valores originais não são perdidos pois a troca ocorre simultaneamente\n",
    "print('a =', a,'b =', b)"
   ]
  },
  {
   "cell_type": "markdown",
   "metadata": {},
   "source": [
    "Outra técnica útil quando você deseja inicializar várias variáveis com o mesmo valor, economizando linhas de código e tornando o código mais conciso é chamada de \"atribuição em cadeia\" em Python."
   ]
  },
  {
   "cell_type": "code",
   "execution_count": null,
   "metadata": {},
   "outputs": [],
   "source": [
    "a = b = c = d = 0 # a, b, c e d recebem o valor 0\n",
    "# se a recebe b, e b recebe c, e c recebe d, e d recebe 0, então a, b, c e d são iguais a 0"
   ]
  },
  {
   "cell_type": "markdown",
   "metadata": {},
   "source": [
    "Neste caso específico, você está atribuindo o valor 0 para todas as variáveis a, b, c e d em uma única linha.\n",
    "\n",
    "Essa forma de atribuição é possível porque o valor à direita do sinal de igualdade é avaliado apenas uma vez e atribuído a todas as variáveis da esquerda para a direita. Portanto, todas essas variáveis acabam com o mesmo valor, que é 0."
   ]
  }
 ],
 "metadata": {
  "kernelspec": {
   "display_name": "Python 3",
   "language": "python",
   "name": "python3"
  },
  "language_info": {
   "codemirror_mode": {
    "name": "ipython",
    "version": 3
   },
   "file_extension": ".py",
   "mimetype": "text/x-python",
   "name": "python",
   "nbconvert_exporter": "python",
   "pygments_lexer": "ipython3",
   "version": "3.12.1"
  }
 },
 "nbformat": 4,
 "nbformat_minor": 2
}
