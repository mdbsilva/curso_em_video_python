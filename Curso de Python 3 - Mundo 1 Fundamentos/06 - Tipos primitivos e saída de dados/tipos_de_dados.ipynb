{
 "cells": [
  {
   "cell_type": "markdown",
   "metadata": {},
   "source": [
    "\n",
    "# Introdução a Linguagem Python\n",
    "\n",
    "## Tipos de dados\n",
    "\n",
    "Literais são dados cujos valores são determinados pelo próprio literal. Em outras palavras, um literal representa um valor fixo, não variável.\n",
    "\n",
    "Por exemplo, em termos de valor literal, 1 e '1' têm o mesmo valor, que é 1, mas seus tipos são diferentes. O valor literal refere-se ao valor intrínseco que o dado representa. Portanto, o valor literal de 1 e '1' é o mesmo (1), mas o tipo de dado associado a cada um deles é diferente.\n",
    "\n",
    "(Neste exemplo, você encontrará dois tipos diferentes de literais: Uma string e um número inteiro.)\n",
    "\n",
    "A função print() os apresenta exatamente da mesma maneira ‒ este exemplo é óbvio, pois sua representação legível por humanos também é a mesma.\n",
    "\n",
    "Internamente, na memória do computador, esses dois valores são armazenados de formas completamente diferentes ‒ a string existe apenas como uma string ‒ uma série de letras. O número é convertido em representação de máquina (um conjunto de bits). A função print() é capaz de mostrar ambos em um formato legível para humanos."
   ]
  },
  {
   "cell_type": "markdown",
   "metadata": {},
   "source": [
    "## Strings"
   ]
  },
  {
   "cell_type": "markdown",
   "metadata": {},
   "source": [
    "Os dados de texto que são delimitados por aspas simples ou duplas são chamados de cadeias de caracteres, ou simplesmente strings. Uma string é um conjunto de caracteres que podem ser letras, números, símbolos ou espaços. Uma string é sempre colocada entre aspas simples ou duplas, dependendo do contexto.\n",
    "\n",
    " A utilização do tipo de aspas depende do que queremos armazenar na variável. Por exemplo, se quisermos armazenar uma string que contenha citação, usamos aspas simples para envolver a string e aspas duplas para envolver a citação dentro dela e vice versa. Caso isso não seja feito, o Python não saberá onde a string termina e gerará um erro de sintaxe."
   ]
  },
  {
   "cell_type": "code",
   "execution_count": 1,
   "metadata": {
    "ExecuteTime": {
     "end_time": "2024-02-05T01:19:50.183176300Z",
     "start_time": "2024-02-05T01:19:50.171945800Z"
    }
   },
   "outputs": [],
   "source": [
    "texto = 'Sou uma cadeia de caracteres. Posso conter letras, números (1, 2, 3), espaços e símbolos (!, @, #, $).'\n",
    "\n",
    "texto = \"Sou uma cadeia de caracteres. Posso conter letras, números (1, 2, 3), espaços e símbolos (!, @, #, $).\"\n",
    "\n",
    "# Uma string vazia ainda permanece uma string:\n",
    "texto = ''\n",
    "texto = \"\""
   ]
  },
  {
   "cell_type": "markdown",
   "metadata": {},
   "source": [
    "## Números\n",
    "\n",
    "Os números manipulados pelos computadores podem ser de dois tipos:\n",
    "\n",
    "- inteiros, ou seja, aqueles desprovidos da parte fracionária (int)\n",
    "- números de ponto flutuante (ou simplesmente float), que contêm (ou conseguem conter) a parte fracionária."
   ]
  },
  {
   "cell_type": "markdown",
   "metadata": {},
   "source": [
    "### Inteiros (int)\n",
    "\n",
    "Tomemos, por exemplo, o número onze milhões cento e onze mil cento e onze. Se você pegasse um lápis na mão agora, escreveria o número assim: 11.111.111, ou até mesmo assim: 11 111 111.\n",
    "\n",
    "É claro que essa disposição facilita a leitura, especialmente quando o número consiste em muitos dígitos. No entanto, o Python não aceita coisas como essas. É proibido."
   ]
  },
  {
   "cell_type": "code",
   "execution_count": 3,
   "metadata": {},
   "outputs": [],
   "source": [
    "# numero_grande = 11 11 111 - Não é um número válido devido aos espaços\n",
    "# numero_grande = 11.111.111 - Não é um número válido devido aos pontos\n",
    "# numero_grande = 11111111 - É um número válido\n",
    "\n",
    "# O que o Python 3.6+ permite, porém, é o uso de sublinhados em literais numéricos.*\n",
    "\n",
    "# Portanto, você pode escrever este número da seguinte forma: \n",
    "numero_grande = 11111111\n",
    "\n",
    "# ou desta forma:\n",
    "numero_grande = 11_111_111\n",
    "\n",
    "# Para números negativos basta colocar o sinal de menos na frente do literal: -11111111 ou -11_111_111.\n",
    "# Números positivos não carecem de um sinal, mas você pode colocá-lo se quiser: +11111111 ou +11_111_111."
   ]
  },
  {
   "cell_type": "markdown",
   "metadata": {},
   "source": [
    "### Ponto Flutuante (float)\n",
    "\n",
    "Valores float são números que contêm (ou são capazes de conter) um componente fracionário. Eles são escritos com um ponto decimal como separador entre a parte inteira e a parte fracionária.\n",
    "\n",
    "Por exemplo: 2.5 ou -0.4\n",
    "\n",
    "Embora se o seu idioma nativo preferir usar vírgula em vez de um ponto no número, você deve garantir que seu número não contenha nenhuma vírgula. O Python não aceitará isso, ou (em casos muito raros, mas possíveis) pode interpretar mal suas intenções, pois a própria vírgula tem seu próprio significado reservado em Python.\n",
    "\n",
    "Se você quiser usar apenas um valor de dois e meio, escreva-o como mostrado acima. Observe mais uma vez: há um ponto entre 2 e 5, não uma vírgula.\n",
    "\n",
    "Como você provavelmente pode imaginar, o valor de zero ponto quatro poderia ser escrito em Python como 0.4, mas não se esqueça desta regra simples - você pode omitir zero quando for o único dígito antes ou depois da vírgula.\n",
    "\n",
    "Em essência, você pode escrever o valor 0.4 como .4\n",
    "\n",
    "O valor de 4.0 pode ser escrito como 4.\n",
    "\n",
    "4 é um número inteiro, enquanto 4.0 é um número de ponto flutuante.\n",
    "\n",
    "Isso não mudará seu tipo nem seu valor de float para int, desde que haja um ponto decimal no literal.\n",
    "Por outro lado, não são apenas os pontos que fazem um float. Você também pode usar a letra e.\n",
    "\n",
    "A letra e (ou E) é usada para indicar a potência de dez. Por exemplo, para evitar escrever tantos zeros, os livros de física usam uma forma abreviada, que você provavelmente já viu: 3 x 10 ** 8. O Python permite que você escreva o mesmo valor como 3e8.\n",
    "\n",
    "A letra E (você também pode usar a letra minúscula e - vem da palavra expoente) é um registro conciso da frase vezes dez à potência de.\n",
    "\n",
    "- o expoente (o valor após o E) tem que ser um número inteiro;\n",
    "- a base (o valor na frente do E) pode ser um número inteiro ou um valor flutuante.\n",
    "\n",
    "Vamos ver como essa convenção é usada para registrar números muito pequenos (no sentido de seu valor absoluto, que é próximo de zero).\n",
    "\n",
    "Uma constante física chamada constante de Planck (e indicada como h), conforme os livros didáticos, tem o valor de: 6,62607 x 10-34. O Python permite que você escreva o mesmo valor como 6.62607e-34.\n",
    "O Python sempre escolhe a forma mais econômica de apresentação do número, e você deve levar isso em consideração ao criar literais."
   ]
  },
  {
   "cell_type": "code",
   "execution_count": 3,
   "metadata": {
    "ExecuteTime": {
     "end_time": "2024-02-05T01:19:50.214182100Z",
     "start_time": "2024-02-05T01:19:50.185173300Z"
    }
   },
   "outputs": [
    {
     "name": "stdout",
     "output_type": "stream",
     "text": [
      "300000000.0\n",
      "1e-22\n"
     ]
    }
   ],
   "source": [
    "print(3e8) # 300000000.0\n",
    "print(0.0000000000000000000001)  # 1e-22"
   ]
  },
  {
   "cell_type": "markdown",
   "metadata": {},
   "source": [
    "## Booleans\n",
    "\n",
    "Essas literais não são tão óbvias quanto as anteriores, pois são usadas para representar um valor muito abstrato - a veracidade. O nome vem do matemático George Boole, o primeiro a definir um sistema de álgebra booleana, a base da lógica moderna e da computação que usa apenas dois valores: verdadeiro e falso denotados como 1 e 0, respectivamente.\n",
    "\n",
    "Cada vez que você pergunta ao Python se um número é maior que outro, a pergunta resulta na criação de alguns dados específicos - um valor booleano. Você nunca receberá uma resposta como: não sei ou Provavelmente, sim, mas não tenho certeza.\n",
    "\n",
    "O Python sempre responderá com um dos dois valores: True ou False. Você não pode mudar nada. É necessário aceitar esses símbolos como eles são, inclusive distinção entre maiúsculas e minúsculas.\n",
    "\n",
    "\"True\" e \"False\" ou true e false não são o mesmo que True e False"
   ]
  },
  {
   "cell_type": "markdown",
   "metadata": {},
   "source": [
    "### True\n",
    "\n",
    "True é ótimo para situações como verificar se um recurso está ativado ou se os dados estão disponíveis.\n",
    "\n",
    "Podemos armazenar em uma variável como uma cadeia de caracteres ou um número. Exibi-lo também funciona da mesma forma."
   ]
  },
  {
   "cell_type": "code",
   "execution_count": 4,
   "metadata": {
    "ExecuteTime": {
     "end_time": "2024-02-05T01:19:50.241729200Z",
     "start_time": "2024-02-05T01:19:50.199712900Z"
    }
   },
   "outputs": [
    {
     "name": "stdout",
     "output_type": "stream",
     "text": [
      "True\n"
     ]
    }
   ],
   "source": [
    "ligado = True  # Indica que algo está ligado\n",
    "print(ligado)"
   ]
  },
  {
   "cell_type": "markdown",
   "metadata": {},
   "source": [
    "### False\n",
    "\n",
    "False é outro valor especial e o oposto de True.\n",
    "Podemos salvar False em uma variável."
   ]
  },
  {
   "cell_type": "code",
   "execution_count": 5,
   "metadata": {
    "ExecuteTime": {
     "end_time": "2024-02-05T01:19:50.339738300Z",
     "start_time": "2024-02-05T01:19:50.219184900Z"
    }
   },
   "outputs": [
    {
     "name": "stdout",
     "output_type": "stream",
     "text": [
      "False\n"
     ]
    }
   ],
   "source": [
    "ligado = False # Indica que algo está desligado\n",
    "print(ligado)"
   ]
  }
 ],
 "metadata": {
  "kernelspec": {
   "display_name": "Python 3",
   "language": "python",
   "name": "python3"
  },
  "language_info": {
   "codemirror_mode": {
    "name": "ipython",
    "version": 3
   },
   "file_extension": ".py",
   "mimetype": "text/x-python",
   "name": "python",
   "nbconvert_exporter": "python",
   "pygments_lexer": "ipython3",
   "version": "3.12.1"
  }
 },
 "nbformat": 4,
 "nbformat_minor": 2
}
