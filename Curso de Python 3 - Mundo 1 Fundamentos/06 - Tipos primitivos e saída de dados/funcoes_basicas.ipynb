{
 "cells": [
  {
   "cell_type": "markdown",
   "metadata": {},
   "source": [
    "# Introdução a linguagem Python\n",
    "\n",
    "## Funções - Introdução\n",
    "\n",
    "Vimos anteriormente a sintaxe básica da criação de variáveis e atribuição de valores. Vimos também que o Python é uma linguagem de tipagem dinâmica, ou seja, não precisamos declarar o tipo de uma variável antes de atribuir um valor a ela. O tipo é inferido no momento da atribuição.\n",
    "\n",
    "Fizemos uma introdução aos tipos de dados básicos do Python. Agora veremos como podemos utilizar as variáveis em expressões e exibir o conteúdo delas na tela, atribuir valores através de entrada do usuário e converter tipos de dados."
   ]
  },
  {
   "cell_type": "markdown",
   "metadata": {},
   "source": [
    "## print()\n",
    "\n",
    "A palavra chave print() é um comando que instrui o interpretador a exibir um texto na tela. O interpretador Python sabe que print() é um comando porque é uma palavra reservada da linguagem Python."
   ]
  },
  {
   "cell_type": "code",
   "execution_count": 1,
   "metadata": {},
   "outputs": [
    {
     "name": "stdout",
     "output_type": "stream",
     "text": [
      "Olá, Mundo!\n"
     ]
    }
   ],
   "source": [
    "print('Olá, Mundo!')"
   ]
  },
  {
   "cell_type": "markdown",
   "metadata": {},
   "source": [
    "Como você pode ver, este primeiro programa consiste nas seguintes partes:\n",
    "\n",
    "- A palavra print\n",
    "- Um parêntese de abertura e um de fechamento.\n",
    "- Uma linha de texto: \"Olá, Mundo!\" entre os parênteses.\n",
    "- Um par de aspas envolvendo o texto.\n",
    "\n",
    "Cada uma das opções acima desempenha um papel muito importante no código.\n",
    "\n",
    "Os parênteses de abertura e fechamento são usados para executar uma função. Uma função é um conjunto de instruções que executa uma tarefa específica. A função print() exibe um texto na tela.\n",
    "\n",
    "O texto que você deseja exibir na tela é chamado de argumento da função. O argumento é o valor que a função usa para executar sua tarefa. No caso da função print(), o argumento é o texto que você deseja exibir na tela. O argumento é colocado entre os parênteses de abertura e fechamento.\n",
    "\n",
    "Utilizamos os parênteses para envolver o texto que queremos exibir na tela. Isso é necessário porque o interpretador Python precisa saber onde o texto começa e onde termina. O interpretador Python sabe que o texto começa e termina onde os parênteses de abertura e fechamento estão localizados.\n",
    "\n",
    "O único argumento entregue à função print() neste exemplo é uma string.\n"
   ]
  },
  {
   "cell_type": "markdown",
   "metadata": {},
   "source": [
    "### Instruções\n",
    "\n",
    "Linhas de código são instruções para o computador seguir. Quando executamos código, dizemos ao computador para seguir as instruções que montamos.\n",
    "\n",
    "A ordem das instruções é importante porque o computador segue as instruções, linha por linha.\n",
    "\n",
    "O programa a seguir chama a função print() duas vezes, e você pode ver duas linhas separadas no console ‒ isso significa que print() começa sua saída a partir de uma nova linha cada vez que inicia sua execução.\n",
    "\n",
    "Você pode mudar esse comportamento, mas também pode usá-lo a seu favor."
   ]
  },
  {
   "cell_type": "code",
   "execution_count": 4,
   "metadata": {},
   "outputs": [
    {
     "name": "stdout",
     "output_type": "stream",
     "text": [
      "A Dona Aranha subiu pela parede,\n",
      "Já chegou a chuva e a derrubou.\n"
     ]
    }
   ],
   "source": [
    "print(\"A Dona Aranha subiu pela parede,\")\n",
    "print(\"Já chegou a chuva e a derrubou.\")"
   ]
  },
  {
   "cell_type": "markdown",
   "metadata": {},
   "source": [
    "Como dito, funções podem receber qualquer número de argumentos, inclusive zero. O código abaixo é válido, mas também não é recomendado:"
   ]
  },
  {
   "cell_type": "code",
   "execution_count": 8,
   "metadata": {},
   "outputs": [
    {
     "name": "stdout",
     "output_type": "stream",
     "text": [
      "A Dona Aranha subiu pela parede,\n",
      "\n",
      "Já chegou a chuva e a derrubou.\n"
     ]
    }
   ],
   "source": [
    "print(\"A Dona Aranha subiu pela parede,\")\n",
    "print()  # Essa instrução imprime uma linha em branco, pois esse efeito é causado pelo argumento padrão da função print() chamado end que por padrão é \\n (caractere de nova linha)\n",
    "print(\"Já chegou a chuva e a derrubou.\")"
   ]
  },
  {
   "cell_type": "markdown",
   "metadata": {},
   "source": [
    "Cada invocação print() contém uma string diferente, como seu argumento, e o conteúdo do console a reflete ‒ isso significa que as instruções no código são executadas na mesma ordem em que foram colocadas no arquivo-fonte e nenhuma instrução subsequente é executada até que a anterior seja concluída (existem algumas exceções a esta regra, mas você pode ignorá-las por enquanto.)\n",
    "\n",
    "A sintaxe do Python é bastante específica nessa área. Ao contrário da maioria das linguagens de programação, o Python exige que não haja mais de uma instrução em uma linha apesar de ser possível utilizando vírgulas ou ponto e vírgulas.\n",
    "\n",
    "Uma linha pode estar vazia (ou seja, pode não conter nenhuma instrução), mas não deve conter duas, três ou mais instruções."
   ]
  },
  {
   "cell_type": "markdown",
   "metadata": {},
   "source": [
    "### Escape do Python e caracteres de novas linhas\n",
    "\n",
    "Curiosamente, enquanto você pode ver dois caracteres em \\n, o Python vê um.\n",
    "A barra invertida (\\\\) tem um significado muito especial quando usada dentro de strings – isso é chamado de caractere de escape. A letra n colocada após a barra invertida vem da palavra newline (nova linha).\n",
    "\n",
    "Esta convenção tem duas consequências importantes:\n",
    "\n",
    "1. Se você quiser colocar apenas uma barra invertida numa string, não se esqueça de sua natureza de escape - você precisa dobrá-la.  \n",
    "\n",
    "2. Nem todos os pares de escape (a barra invertida juntamente com outro caractere) significam algo.\n"
   ]
  },
  {
   "cell_type": "code",
   "execution_count": 15,
   "metadata": {},
   "outputs": [
    {
     "name": "stdout",
     "output_type": "stream",
     "text": [
      "\"\n",
      "\\\n"
     ]
    }
   ],
   "source": [
    "print(\"\\\"\") # Exibe uma aspas dupla\n",
    "\n",
    "print(\"\\\\\") # Exibe uma barra"
   ]
  },
  {
   "cell_type": "markdown",
   "metadata": {},
   "source": [
    "### Usando vários argumentos\n",
    "\n",
    "Há uma chamada de função print(), mas ela contém três argumentos. Todos eles são cadeias de caracteres.\n",
    "\n",
    "Os argumentos são separados por vírgulas. Nós os cercamos de espaços para torná-los mais visíveis, mas não é realmente necessário."
   ]
  },
  {
   "cell_type": "code",
   "execution_count": 24,
   "metadata": {},
   "outputs": [
    {
     "name": "stdout",
     "output_type": "stream",
     "text": [
      "Um elefante incomoda muita gente dois elefantes incomodam, incomodam muito mais.\n"
     ]
    }
   ],
   "source": [
    "print(\"Um elefante incomoda muita gente\", \"dois elefantes\", \"incomodam, incomodam muito mais.\")"
   ]
  },
  {
   "cell_type": "markdown",
   "metadata": {},
   "source": [
    "Nesse caso, as vírgulas que separam os argumentos desempenham uma função completamente diferente da vírgula dentro da sequência. O primeiro faz parte da sintaxe do Python, enquanto o último deve ser exibido no console.\n",
    "\n",
    "Duas conclusões emergem desse exemplo:\n",
    "- uma função print() chamada com mais de um argumento gera todos eles em uma linha\n",
    "- a função print() coloca um espaço entre os argumentos gerados por sua própria iniciativa. Este efeito é causado pelo argumento sep (separador) que por padrão, é um espaço."
   ]
  },
  {
   "cell_type": "markdown",
   "metadata": {},
   "source": [
    "### Argumentos de palavra-chave\n",
    "\n",
    "A função print() tem dois argumentos de palavra-chave que você pode usar para seus propósitos. Um parâmetro é um valor que a função espera receber quando é chamada. Nesse caso, end e sep são parâmetros opcionais, pois possuem um valor padrão. Portanto ao não serem especificados adotam seu comportamento padrão.\n",
    "\n",
    "O primeiro é chamado de end.\n",
    "Para usá-lo, é necessário conhecer algumas regras:\n",
    "\n",
    "- um argumento de palavra-chave consiste em três elementos: uma palavra-chave que identifica o argumento (end aqui) um sinal de igual (=) e um valor atribuído a esse argumento\n",
    "  \n",
    "- qualquer argumento de palavra-chave deve ser colocado após o último argumento posicional. Por isso são passados após o valor que desejamos exibir. (isso é muito importante)\n",
    "\n",
    "O comportamento padrão reflete a situação em que o argumento de palavra-chave end é usado implicitamente da seguinte maneira:\n",
    "\n",
    ">end=\"\\n\". (caractere de escape de nova linha)\n",
    "\n",
    "Se o argumento end for definido como nada, a função print() também não gera nada, uma vez que seus argumentos posicionais se esgotam. Nenhum caractere de nova linha será enviado para a saída."
   ]
  },
  {
   "cell_type": "code",
   "execution_count": 22,
   "metadata": {},
   "outputs": [
    {
     "name": "stdout",
     "output_type": "stream",
     "text": [
      "Olá, mundo! % Olá, mundo!\n",
      "Olá, mundo! % "
     ]
    }
   ],
   "source": [
    "print('Olá, mundo!', end=' % ') # Estamos usando o argumento end para imprimir um caractere de porcentagem no final da string, ao invés de uma nova linha. Isso faz ocorrer a impressão de um espaço em branco após a string, na mesma linha.\n",
    "\n",
    "print('Olá, mundo!', end='\\n') # Nessa instrução estamos usando o argumento end para imprimir um caractere de nova linha no final da string. Como este é o seu valor padrão, definir explicitamente o argumento end para \\n é redundante.\n",
    "\n",
    "print('Olá, mundo!', end=' % ') # Ao redefinir novamente o argumento end para imprimir um caractere de porcentagem no final da string, de novo, a próxima instrução print() irá imprimir um espaço em branco após a string, na mesma linha."
   ]
  },
  {
   "cell_type": "markdown",
   "metadata": {},
   "source": [
    "\n",
    "O segundo argumento de palavra-chave é chamado de sep. Ele define o caractere usado para separar os argumentos. \n",
    "\n",
    "Dissemos anteriormente que a função print() separa seus argumentos em saída com espaços. Esse comportamento também pode ser alterado.\n",
    "\n",
    "O valor padrão é um único espaço, mas você pode alterá-lo para qualquer caractere ou sequência de caracteres válidos."
   ]
  },
  {
   "cell_type": "code",
   "execution_count": 26,
   "metadata": {},
   "outputs": [
    {
     "name": "stdout",
     "output_type": "stream",
     "text": [
      "Meu nome é Monty Python.\n"
     ]
    }
   ],
   "source": [
    "print(\"Meu\", \"nome\", \"é\", \"Monty\", \"Python.\")"
   ]
  },
  {
   "cell_type": "code",
   "execution_count": 27,
   "metadata": {},
   "outputs": [
    {
     "name": "stdout",
     "output_type": "stream",
     "text": [
      "Meu-nome-é-Monty-Python.\n"
     ]
    }
   ],
   "source": [
    "print(\"Meu\", \"nome\", \"é\", \"Monty\", \"Python.\", sep=\"-\") \n",
    "# A função print() agora usa um traço, em vez de um espaço, para separar os argumentos de saída."
   ]
  },
  {
   "cell_type": "code",
   "execution_count": 28,
   "metadata": {},
   "outputs": [
    {
     "name": "stdout",
     "output_type": "stream",
     "text": [
      "Meu\n",
      "nome\n",
      "é\n",
      "Monty\n",
      "Python.\n"
     ]
    }
   ],
   "source": [
    "print(\"Meu\", \"nome\", \"é\", \"Monty\", \"Python.\", sep=\"\\n\") \n",
    "# A função print() agora usa uma nova linha, em vez de um espaço, para separar os argumentos de saída. Isso significa que cada argumento é impresso em uma nova linha."
   ]
  },
  {
   "cell_type": "markdown",
   "metadata": {},
   "source": [
    "Aspas triplas podem ser usadas para escrever textos de várias linhas.\n",
    "\n",
    "O texto será impresso exatamente como foi escrito, incluindo os espaços em branco e as quebras de linha."
   ]
  },
  {
   "cell_type": "code",
   "execution_count": 35,
   "metadata": {},
   "outputs": [
    {
     "name": "stdout",
     "output_type": "stream",
     "text": [
      "Este é um texto de\n",
      "várias linhas. Ele é formado por três linhas.\n",
      "\n",
      "A primeira linha tem apenas algumas palavras. A segunda linha tem mais \n",
      "\n",
      "\n",
      "palavras. A terceira linha tem ainda mais palavras.\n"
     ]
    }
   ],
   "source": [
    "print(\"\"\"Este é um texto de\n",
    "várias linhas. Ele é formado por três linhas.\n",
    "\n",
    "A primeira linha tem apenas algumas palavras. A segunda linha tem mais \n",
    "\n",
    "\n",
    "palavras. A terceira linha tem ainda mais palavras.\"\"\")\n"
   ]
  },
  {
   "cell_type": "markdown",
   "metadata": {},
   "source": [
    "### Padrão ANSI\n",
    "\n",
    "O padrão ANSI de cores é um padrão de cores universal que define uma tabela de cores com códigos numéricos.\n",
    "\n",
    "> \\033[styletextbackgroundm\n",
    "\n",
    "\n",
    "STYLE:\n",
    "0 - None, 1 - Bold, 4 - Underline, 7 - Negative\n",
    "\n",
    "TEXT:\n",
    "30 - Branco (padrão), 31 - Vermelho, 32 - Verde, 33 - Amarelo, 34 - Azul, 35 - Roxo, 36 - Azul-claro, 37 - Cinza\n",
    "\n",
    "BACKGROUND:\n",
    "40 - Branco (padrão), 41 - Vermelho, 42 - Verde, 43 - Amarelo, 44 - Azul, 45 - Roxo, 46 - Azul-claro, 47 -"
   ]
  },
  {
   "cell_type": "code",
   "execution_count": 36,
   "metadata": {},
   "outputs": [
    {
     "name": "stdout",
     "output_type": "stream",
     "text": [
      "\u001b[0;35;41m Texto \n"
     ]
    }
   ],
   "source": [
    "print('\\033[0;35;41m Texto ')\n",
    "# A ordem é opcional, pois cada faixa de código corresponde a um padrão específico"
   ]
  },
  {
   "cell_type": "markdown",
   "metadata": {},
   "source": [
    "### Expressões\n",
    "\n",
    "Podemos usar print() para exibir variáveis também - print(variavel) - Quando exibimos variáveis no console, seus valores aparecem em vez de seus nomes. Estamos dizendo - Mostre o que há dentro da variável.\n",
    "\n",
    "Valores combinados com operadores são outra maneira de utilizar variáveis. \n",
    "\n",
    "Você pode usar a função print() e combinar texto e variáveis usando o operador + para gerar sequências e variáveis.\n",
    "\n",
    "O sinal de + (mais), quando aplicado a duas cadeias de caracteres, torna-se um operador de concatenação. \n",
    "\n",
    "Ela simplesmente concatena (cola) duas sequências de caracteres em uma. Obviamente, como seu irmão aritmético, ele pode ser usado mais de uma vez em uma expressão e, nesse contexto, se comporta de acordo com a ligação do lado esquerdo.\n",
    "\n",
    "Em contraste com seu irmão aritmético, o operador de concatenação não é comutativo, ou seja, \"ab\" + \"ba\" não é o mesmo que \"ba\" + \"ab\".\n",
    "\n",
    "Não se esqueça - se você quiser que o sinal de + seja um concatenador, não um somador, certifique-se de que ambos os argumentos sejam cadeias.\n",
    "\n",
    "Por exemplo:"
   ]
  },
  {
   "cell_type": "code",
   "execution_count": 40,
   "metadata": {},
   "outputs": [
    {
     "ename": "TypeError",
     "evalue": "can only concatenate str (not \"int\") to str",
     "output_type": "error",
     "traceback": [
      "\u001b[1;31m---------------------------------------------------------------------------\u001b[0m",
      "\u001b[1;31mTypeError\u001b[0m                                 Traceback (most recent call last)",
      "Cell \u001b[1;32mIn[40], line 2\u001b[0m\n\u001b[0;32m      1\u001b[0m var \u001b[38;5;241m=\u001b[39m \u001b[38;5;241m3\u001b[39m\n\u001b[1;32m----> 2\u001b[0m \u001b[38;5;28mprint\u001b[39m(\u001b[38;5;124;43m\"\u001b[39;49m\u001b[38;5;124;43mVersão Python: \u001b[39;49m\u001b[38;5;124;43m\"\u001b[39;49m\u001b[43m \u001b[49m\u001b[38;5;241;43m+\u001b[39;49m\u001b[43m \u001b[49m\u001b[43mvar\u001b[49m)\n",
      "\u001b[1;31mTypeError\u001b[0m: can only concatenate str (not \"int\") to str"
     ]
    }
   ],
   "source": [
    "var = \"3.8.5\"\n",
    "print(\"Versão Python: \" + var)"
   ]
  },
  {
   "cell_type": "markdown",
   "metadata": {},
   "source": [
    "O operador + é usado para concatenar (ou seja, juntar) duas sequências. Observe que o operador + não adiciona espaços entre as sequências, portanto, se você precisar deles, deverá adicioná-los explicitamente. Este operador só funciona se ambas as sequências forem do mesmo tipo (ou seja, ambas as sequências devem ser strings).\n",
    "\n",
    "Outra forma de concatenar strings é usando o operador de vírgula (,). Observe que o operador de vírgula adiciona um espaço entre as sequências. Este operador funciona com valores de qualquer tipo.\n",
    "\n",
    "O resultado será uma string com os dois valores concatenados\n"
   ]
  },
  {
   "cell_type": "code",
   "execution_count": 41,
   "metadata": {},
   "outputs": [
    {
     "name": "stdout",
     "output_type": "stream",
     "text": [
      "Versão Python: 33\n"
     ]
    }
   ],
   "source": [
    "print(\"Versão Python:\", var)"
   ]
  },
  {
   "cell_type": "markdown",
   "metadata": {},
   "source": [
    "Lembre-se: A função print() possui dois argumentos opcionais: sep e end. O valor padrão de sep é um único caractere de espaço, e o valor padrão de end é uma nova linha. Você pode alterar esses valores usando argumentos nomeados."
   ]
  },
  {
   "cell_type": "markdown",
   "metadata": {},
   "source": [
    "O sinal * (asterisco), quando aplicado a uma string e um número (ou um número e uma string, pois permanece comutativo nessa posição) se torna um operador de replicação:\n",
    "\n",
    ">string * number\n",
    ">\n",
    ">number * string\n",
    "\n",
    "Por exemplo:"
   ]
  },
  {
   "cell_type": "code",
   "execution_count": 45,
   "metadata": {},
   "outputs": [
    {
     "name": "stdout",
     "output_type": "stream",
     "text": [
      "JamesJamesJames\n",
      "ananan\n",
      "22222\n"
     ]
    }
   ],
   "source": [
    "print(\"James\" * 3) \n",
    "print(3 * \"an\")\n",
    "print(5 * \"2\") # 22222 não 10"
   ]
  },
  {
   "cell_type": "markdown",
   "metadata": {},
   "source": [
    "### f-strings\n",
    "\n",
    "Aprendemos que podemos utilizar + para adicionar duas strings e exibi-las juntas.\n",
    "\n",
    "Usar + para combinar dados numéricos com strings produz um erro.\n",
    "\n",
    "A solução seria utilizar vírgula (,) para concatenar valores diferentes em uma expressão.\n",
    "\n",
    "Existe um recurso mais moderno. As f strings (abreviação de strings formatadas) nos permitem exibir expressões como adicionar um número a uma string, sem nenhum erro.\n",
    "\n",
    "Cada instrução f-string consiste em duas partes: primeiro o caractere f e depois a string que queremos, contendo um conjunto de chaves {} (abertura e fechamento) contendo o valor que desejamos exibir na instrução print()."
   ]
  },
  {
   "cell_type": "code",
   "execution_count": 47,
   "metadata": {},
   "outputs": [
    {
     "name": "stdout",
     "output_type": "stream",
     "text": [
      "16 novas mensagens\n"
     ]
    }
   ],
   "source": [
    "print(f'{2} novas mensagens')"
   ]
  },
  {
   "cell_type": "code",
   "execution_count": 48,
   "metadata": {},
   "outputs": [
    {
     "name": "stdout",
     "output_type": "stream",
     "text": [
      "Nome: Ana\n"
     ]
    }
   ],
   "source": [
    "# Inserir variáveis entre as chaves também funciona.\n",
    "nome = 'Ana'\n",
    "print(f'Nome: {nome}')"
   ]
  },
  {
   "cell_type": "code",
   "execution_count": 49,
   "metadata": {},
   "outputs": [
    {
     "name": "stdout",
     "output_type": "stream",
     "text": [
      "Faltam percorrer 6Km.\n"
     ]
    }
   ],
   "source": [
    "# Também podemos usar expressões (com variáveis ou sem)\n",
    "distancia = 10\n",
    "distancia_percorrida = 4\n",
    "\n",
    "print(f'Faltam percorrer {distancia - distancia_percorrida}Km.')"
   ]
  },
  {
   "cell_type": "code",
   "execution_count": 50,
   "metadata": {},
   "outputs": [
    {
     "name": "stdout",
     "output_type": "stream",
     "text": [
      "A distância é de 10Km.\n",
      "Você percorreu 4Km.\n",
      "Faltam percorrer 6Km.\n"
     ]
    }
   ],
   "source": [
    "# Podemos usar quantas chaves forem necessárias para chegar ao resultado desejado.\n",
    "print(f'A distância é de {distancia}Km.\\nVocê percorreu {distancia_percorrida}Km.\\nFaltam percorrer {distancia - distancia_percorrida}Km.')"
   ]
  },
  {
   "cell_type": "code",
   "execution_count": 53,
   "metadata": {},
   "outputs": [
    {
     "name": "stdout",
     "output_type": "stream",
     "text": [
      "74 novas notificações\n"
     ]
    }
   ],
   "source": [
    "# Podemos armazenar a f-string em uma variável\n",
    "notificacoes = 89\n",
    "status = f'{notificacoes} novas notificações'\n",
    "print(status)"
   ]
  },
  {
   "cell_type": "markdown",
   "metadata": {},
   "source": [
    "Podemos formatar o número de casas decimais que queremos com o método :.quantidadef onde quantidade é o número de casas decimais que queremos exibir.\n",
    "\n",
    "A notação de dois pontos : indica uma máscara de formatação. O ponto . indica que queremos formatar um número real. O número 3 indica que queremos 3 casas decimais. O f indica que queremos um número real (float)."
   ]
  },
  {
   "cell_type": "code",
   "execution_count": 55,
   "metadata": {},
   "outputs": [
    {
     "name": "stdout",
     "output_type": "stream",
     "text": [
      "A divisão é 0.07936507936507936\n"
     ]
    }
   ],
   "source": [
    "n1 = int(input('Digite um número: '))\n",
    "n2 = int(input('Digite outro número: '))\n",
    "\n",
    "divisao = n1 / n2\n",
    "\n",
    "print(f'A divisão é {divisao:.3f}')"
   ]
  },
  {
   "cell_type": "markdown",
   "metadata": {},
   "source": [
    "Com a notação de dois pontos : podemos formatar o texto. No exemplo abaixo reservamos 20  espaços de caracteres para o texto. Se utilizar menos será preenchido por espaços após.\n",
    "\n",
    "Podemos usar os símbolos <, > e ^ para escolher o alinhamento, a direita, esquerda ou centralizado. Podemos escolher o caractere específico que irá preencher os espaços em branco, o indicando antes do símbolo de alinhamento."
   ]
  },
  {
   "cell_type": "code",
   "execution_count": 58,
   "metadata": {},
   "outputs": [
    {
     "name": "stdout",
     "output_type": "stream",
     "text": [
      "OláNNNNNNNANA\n"
     ]
    }
   ],
   "source": [
    "nome = input('Qual é o seu nome? ')\n",
    "\n",
    "print(f'Olá{nome:^10}')"
   ]
  },
  {
   "cell_type": "markdown",
   "metadata": {},
   "source": [
    "Python oferece uma variedade de opções de formatação, incluindo alinhamento (:>, <:, ^:), preenchimento (:_, 0, <, >), especificação de largura e precisão, e especificadores de tipo. Aqui estão alguns exemplos de formatação de strings mais avançados:"
   ]
  },
  {
   "cell_type": "code",
   "execution_count": 59,
   "metadata": {},
   "outputs": [
    {
     "name": "stdout",
     "output_type": "stream",
     "text": [
      "|    Python|\n",
      "|Python    |\n",
      "|  Python  |\n"
     ]
    }
   ],
   "source": [
    "# Alinhamento: Você pode especificar o alinhamento de uma string dentro de uma área com uma largura especificada. Os operadores de alinhamento incluem:\n",
    "\n",
    "# :> para alinhamento à direita\n",
    "# :< para alinhamento à esquerda\n",
    "# :^ para alinhamento centralizado\n",
    "\n",
    "texto = \"Python\"\n",
    "print(f\"|{texto:>10}|\")  # Saída: |    Python|\n",
    "print(f\"|{texto:<10}|\")  # Saída: |Python    |\n",
    "print(f\"|{texto:^10}|\")  # Saída: |  Python  |"
   ]
  },
  {
   "cell_type": "code",
   "execution_count": 60,
   "metadata": {},
   "outputs": [
    {
     "name": "stdout",
     "output_type": "stream",
     "text": [
      "______42\n",
      "00000042\n"
     ]
    }
   ],
   "source": [
    "# Preenchimento: Você pode especificar um caractere de preenchimento ao formatar uma string. Os caracteres de preenchimento comuns incluem _, 0, <, >.\n",
    "\n",
    "# _ preenche com espaços\n",
    "# 0 preenche com zeros à esquerda para números\n",
    "# < preenche à esquerda\n",
    "# > preenche à direita\n",
    "\n",
    "numero = 42\n",
    "print(f\"{numero:_>8}\")  # Saída: ____42\n",
    "print(f\"{numero:0>8}\")  # Saída: 00000042"
   ]
  },
  {
   "cell_type": "code",
   "execution_count": null,
   "metadata": {},
   "outputs": [],
   "source": [
    "# Largura e Precisão: Você pode especificar a largura mínima e a precisão de números de ponto flutuante.\n",
    "\n",
    "# Largura mínima: :{largura}\n",
    "# Precisão de ponto flutuante: :.precisaof\n",
    "\n",
    "pi = 3.14159\n",
    "print(f\"{pi:10.2f}\")  # Saída:      3.14"
   ]
  },
  {
   "cell_type": "code",
   "execution_count": 66,
   "metadata": {},
   "outputs": [
    {
     "name": "stdout",
     "output_type": "stream",
     "text": [
      "0000002a\n"
     ]
    }
   ],
   "source": [
    "# Especificadores de Tipo: Você pode especificar o tipo de dados a ser formatado.\n",
    "\n",
    "# s para strings\n",
    "# d para números inteiros\n",
    "# f para números de ponto flutuante\n",
    "# x para números hexadecimais\n",
    "\n",
    "numero = 42\n",
    "print(f\"{numero:08x}\")  # Saída: 0000002a"
   ]
  },
  {
   "cell_type": "markdown",
   "metadata": {},
   "source": [
    "## Comentários\n",
    "\n",
    "Uma observação inserida no programa, omitida em tempo de execução, é chamada de comentário. Em Python, um comentário é um pedaço de texto que começa com um sinal # (hash) e se estende até o final da linha.\n",
    "\n",
    "Os comentários podem ser usados para deixar informações adicionais no código. As informações deixadas no código-fonte são endereçadas aos leitores humanos.\n",
    "\n",
    "Se você deseja um comentário que se estenda por várias linhas, deve colocar um hash na frente de todas elas. Assim como aqui:\n"
   ]
  },
  {
   "cell_type": "code",
   "execution_count": null,
   "metadata": {},
   "outputs": [],
   "source": [
    "# Esse programa calcula a hipotenusa c.\n",
    "# a e b são os tamanhos dos lados.\n",
    "a = 3.0\n",
    "b = 4.0\n",
    "c = (a ** 2 + b ** 2) ** 0.5  # Nós usamos ** ao invés de raiz quadrada.\n",
    "print(\"c =\", c)"
   ]
  },
  {
   "cell_type": "markdown",
   "metadata": {},
   "source": [
    "Se você deseja colocar um comentário que abrange várias linhas, você precisa colocar # na frente de todas ou utilizar aspas triplas.\n",
    "\n",
    "Além disso, você pode usar um comentário para marcar um pedaço de código que não é necessário no momento (veja a última linha do snippet abaixo), por exemplo:"
   ]
  },
  {
   "cell_type": "code",
   "execution_count": 68,
   "metadata": {},
   "outputs": [
    {
     "name": "stdout",
     "output_type": "stream",
     "text": [
      "Olá!\n",
      "Em Python.\n"
     ]
    }
   ],
   "source": [
    "# Este programa imprime\n",
    "# uma introdução à tela.\n",
    "print(\"Olá!\")  # Chamando a função print()\n",
    "# print(\"Em Python.\")"
   ]
  },
  {
   "cell_type": "markdown",
   "metadata": {},
   "source": [
    "Sempre que possível e justificado, você deve fornecer nomes auto comentados a variáveis, por exemplo, se você estiver usando duas variáveis para armazenar o length e width de algo, podem ter uma escolha melhor que o myvar1 e o myvar2.\n",
    "\n",
    "É importante usar comentários para facilitar a compreensão dos programas e usar nomes de variáveis legíveis e significativos no código. No entanto, é igualmente importante não usar nomes de variáveis que são confusos ou deixar comentários que contêm informações incorretas!\n",
    "\n",
    "Os comentários podem ser importantes quando você está lendo seu próprio código depois de algum tempo (confie em nós, os desenvolvedores esquecem o que seu próprio código) e quando outros estão lendo seu código (eles podem ajudá-los a entender o que seus programas fazem e como eles fazem isso mais rapidamente).\n",
    "\n"
   ]
  },
  {
   "cell_type": "markdown",
   "metadata": {},
   "source": [
    "## input()\n",
    "\n",
    "Se quisermos criar uma interatividade com o usuário utilizamos a função input().\n",
    "A função input() é capaz de ler os dados inseridos pelo usuário e retornar os mesmos dados para o programa em execução. \n",
    "\n",
    "A sintaxe é input('Texto opicional que será exibido')\n",
    "\n",
    "Dê uma olhada no nosso exemplo:\n",
    "\n",
    "O programa solicita que o usuário insira alguns dados (provavelmente usando um teclado, embora também seja possível inserir dados usando voz ou imagem)\n",
    "\n",
    "A função input() é invocada sem argumentos (essa é a maneira mais simples de usar a função)\n",
    "A função mudará o console para o modo de entrada. Você verá um cursor piscando e poderá inserir algumas teclas, finalizando pressionando a tecla Enter todos os dados inseridos serão enviados ao seu programa através do resultado da função.\n",
    "\n",
    "Nota: você precisa atribuir o resultado a uma variável isso é crucial - perder esta etapa fará com que os dados inseridos sejam perdidos."
   ]
  },
  {
   "cell_type": "code",
   "execution_count": 69,
   "metadata": {},
   "outputs": [
    {
     "name": "stdout",
     "output_type": "stream",
     "text": [
      "Conta-me qualquer coisa...\n",
      "Você disse \"KKKK\".\n"
     ]
    }
   ],
   "source": [
    "print(\"Conta-me qualquer coisa...\")\n",
    "\n",
    "qualquer_coisa = input()\n",
    "\n",
    "print(f'Você disse \"{qualquer_coisa}\".')"
   ]
  },
  {
   "cell_type": "markdown",
   "metadata": {},
   "source": [
    "##### A função input() com um argumento\n",
    "\n",
    "A função input() vem com um parâmetro opcional: a string de prompt.\n",
    "\n",
    "É uma string contendo uma mensagem que será exibida no console antes que o usuário tenha a oportunidade de digitar qualquer coisa."
   ]
  },
  {
   "cell_type": "code",
   "execution_count": 70,
   "metadata": {},
   "outputs": [
    {
     "name": "stdout",
     "output_type": "stream",
     "text": [
      "Você disse \"KKKK\".\n"
     ]
    }
   ],
   "source": [
    "qualquer_coisa = input(\"Conta-me qualquer coisa...\")\n",
    "print(f'Você disse \"{qualquer_coisa}\".')"
   ]
  },
  {
   "cell_type": "markdown",
   "metadata": {},
   "source": [
    "Já dissemos isso, mas deve ser afirmado de forma inequívoca mais uma vez: o resultado da função input() é uma string. Uma string contendo todos os caracteres que o usuário insere no teclado. Não é um inteiro ou um float.\n",
    "\n",
    "Observação: Se nada for digitado, ou seja, apenas pressionar enter, ainda sim o resultado será uma string vazia.\n",
    "\n",
    "Isso significa que você não deve usá-lo como argumento de nenhuma operação aritmética, por exemplo, você não pode usar esses dados para elevá-los ao quadrado, dividi-los por qualquer coisa ou dividir qualquer coisa por eles."
   ]
  },
  {
   "cell_type": "code",
   "execution_count": 73,
   "metadata": {},
   "outputs": [
    {
     "ename": "TypeError",
     "evalue": "unsupported operand type(s) for ** or pow(): 'str' and 'float'",
     "output_type": "error",
     "traceback": [
      "\u001b[1;31m---------------------------------------------------------------------------\u001b[0m",
      "\u001b[1;31mTypeError\u001b[0m                                 Traceback (most recent call last)",
      "Cell \u001b[1;32mIn[73], line 2\u001b[0m\n\u001b[0;32m      1\u001b[0m numero_digitado \u001b[38;5;241m=\u001b[39m \u001b[38;5;28minput\u001b[39m(\u001b[38;5;124m\"\u001b[39m\u001b[38;5;124mDigite um número: \u001b[39m\u001b[38;5;124m\"\u001b[39m)\n\u001b[1;32m----> 2\u001b[0m calculando \u001b[38;5;241m=\u001b[39m \u001b[43mnumero_digitado\u001b[49m\u001b[43m \u001b[49m\u001b[38;5;241;43m*\u001b[39;49m\u001b[38;5;241;43m*\u001b[39;49m\u001b[43m \u001b[49m\u001b[38;5;241;43m2.0\u001b[39;49m\n\u001b[0;32m      3\u001b[0m \u001b[38;5;28mprint\u001b[39m(\u001b[38;5;124mf\u001b[39m\u001b[38;5;124m'\u001b[39m\u001b[38;5;124mO quadrado de \u001b[39m\u001b[38;5;132;01m{\u001b[39;00mnumero_digitado\u001b[38;5;132;01m}\u001b[39;00m\u001b[38;5;124m é \u001b[39m\u001b[38;5;132;01m{\u001b[39;00mcalculando\u001b[38;5;132;01m}\u001b[39;00m\u001b[38;5;124m.\u001b[39m\u001b[38;5;124m'\u001b[39m) \u001b[38;5;66;03m# TypeError: unsupported operand type(s) for ** or pow(): 'str' and 'float'\u001b[39;00m\n",
      "\u001b[1;31mTypeError\u001b[0m: unsupported operand type(s) for ** or pow(): 'str' and 'float'"
     ]
    }
   ],
   "source": [
    "numero_digitado = input(\"Digite um número: \")\n",
    "calculando = numero_digitado ** 2.0\n",
    "print(f'O quadrado de {numero_digitado} é {calculando}.') # TypeError: unsupported operand type(s) for ** or pow(): 'str' and 'float'"
   ]
  },
  {
   "cell_type": "markdown",
   "metadata": {},
   "source": [
    "A última linha da frase explica tudo - você tentou aplicar o operador ** a 'str' (string) acompanhado de 'float'. Isso é proibido.\n",
    "\n",
    "Isso deve ser óbvio - você pode prever o valor de \"ser ou não ser\" elevado à potência de 2?"
   ]
  },
  {
   "cell_type": "markdown",
   "metadata": {},
   "source": [
    "## Conversão de valores\n",
    "\n",
    "O Python oferece funções simples para especificar um tipo de dados e resolver esse problema tipo de problema.\n",
    "\n",
    "Isso é muito simples e muito eficaz. Além disso, você pode chamar qualquer uma das funções passando os resultados de input() diretamente para elas. Não há necessidade de usar nenhuma variável como armazenamento intermediário.\n",
    "\n",
    "Dê uma olhada no exemplo: o programa solicita que o usuário insira um número inteiro e, em seguida, calcula o seu quadrado."
   ]
  },
  {
   "cell_type": "code",
   "execution_count": 75,
   "metadata": {},
   "outputs": [
    {
     "name": "stdout",
     "output_type": "stream",
     "text": [
      "3.0\n"
     ]
    }
   ],
   "source": [
    "numero_digitado = int(input(\"Digite um número: \"))\n",
    "calculando = numero_digitado ** 2\n",
    "print(calculando)"
   ]
  },
  {
   "cell_type": "markdown",
   "metadata": {},
   "source": [
    "### type()\n",
    "\n",
    "Vimos os tipos de dados básicos em Python. Se não tivermos certeza do tipo de valor, podemos verificá-lo. O método type() verifica o tipo de dado.\n",
    "\n",
    "A sintaxe é type(valor)\n",
    "\n",
    "Podemos verificar o tipo de qualquer variável com type(), colocando-a entre os parênteses.\n",
    "\n",
    "Se combinarmos o método type() com o método print(), podemos ver uma versão abreviada do tipo de dado no console. \n",
    "\n",
    "Após ter certeza do tipo de dado, podemos converter um tipo de dado em outro. Para isso, usamos os métodos int(), float(), str() e bool()."
   ]
  },
  {
   "cell_type": "code",
   "execution_count": 76,
   "metadata": {},
   "outputs": [
    {
     "name": "stdout",
     "output_type": "stream",
     "text": [
      "<class 'int'>\n",
      "int\n"
     ]
    }
   ],
   "source": [
    "dado = 100  # A variável recebe um valor do tipo inteiro\n",
    "print(type(dado))  # Exibe <class 'int'>.\n",
    "\n",
    "print(type(dado).__name__)  # Exibe int.\n",
    "# __name__ é um atributo especial que contém o nome da classe do objeto. Neste caso, o nome da classe do objeto é int."
   ]
  },
  {
   "cell_type": "markdown",
   "metadata": {},
   "source": [
    "### int()\n",
    "\n",
    "a função int() usa um argumento (por exemplo, uma string: int(string)) e tenta convertê-lo em um número inteiro se falhar, o programa inteiro também falhará (há uma solução para essa situação, mas mostraremos isso um pouco mais tarde)\n",
    "\n",
    "Se usarmos int() em números de ponto flutuante, simplesmente removeremos o ponto decimal e os valores subsequentes. Não haverá arredondamento!"
   ]
  },
  {
   "cell_type": "code",
   "execution_count": 77,
   "metadata": {},
   "outputs": [
    {
     "name": "stdout",
     "output_type": "stream",
     "text": [
      "9\n"
     ]
    }
   ],
   "source": [
    "preco = 9.99\n",
    "print(int(preco))"
   ]
  },
  {
   "cell_type": "markdown",
   "metadata": {},
   "source": [
    "Obs.: Se quisermos arredondar um número de ponto flutuante, podemos usar round(). Isso arredondará o número para o inteiro mais próximo respeiTando a regra matemática de arredondamento: se a parte fracionária for maior ou igual a 0.5, o número será arredondado para cima; caso contrário, será arredondado para baixo."
   ]
  },
  {
   "cell_type": "code",
   "execution_count": 78,
   "metadata": {},
   "outputs": [
    {
     "name": "stdout",
     "output_type": "stream",
     "text": [
      "10\n"
     ]
    }
   ],
   "source": [
    "preco = 9.99\n",
    "preco = round(preco)\n",
    "print(preco) # 10"
   ]
  },
  {
   "cell_type": "code",
   "execution_count": 79,
   "metadata": {},
   "outputs": [
    {
     "name": "stdout",
     "output_type": "stream",
     "text": [
      "9\n"
     ]
    }
   ],
   "source": [
    "preco = 9.49\n",
    "preco = round(preco)\n",
    "print(preco) # 9"
   ]
  },
  {
   "cell_type": "markdown",
   "metadata": {},
   "source": [
    "Se utilizarmos int() em um boolean, o valor numérico equivalente será 1 para True e 0 para False (1.0 e 0.0 caso seja converta para float)."
   ]
  },
  {
   "cell_type": "code",
   "execution_count": 12,
   "metadata": {},
   "outputs": [
    {
     "name": "stdout",
     "output_type": "stream",
     "text": [
      "1.0\n",
      "0.0\n",
      "1\n",
      "0\n"
     ]
    }
   ],
   "source": [
    "print(float(True))\n",
    "print(float(False))\n",
    "\n",
    "print(int(True))\n",
    "print(int(False))"
   ]
  },
  {
   "cell_type": "markdown",
   "metadata": {},
   "source": [
    "### float()\n",
    "\n",
    "a função float() usa um argumento (por exemplo, uma string: float(string)) e tenta convertê-la em um flutuante (o resto é o mesmo).\n",
    "\n",
    "Se usarmos float() em um número inteiro serão adicionados um ponto decimal e um zero subsequente."
   ]
  },
  {
   "cell_type": "code",
   "execution_count": 13,
   "metadata": {},
   "outputs": [
    {
     "name": "stdout",
     "output_type": "stream",
     "text": [
      "98.0\n"
     ]
    }
   ],
   "source": [
    "print(float(98))"
   ]
  },
  {
   "cell_type": "markdown",
   "metadata": {},
   "source": [
    "### bool()\n",
    "\n",
    "Podemos usar bool() para converter uma variável para boolean. Se a variável tiver conteúdo ela se tornará True. Se estiver vazia ou for 0, ela se tornará False."
   ]
  },
  {
   "cell_type": "code",
   "execution_count": 80,
   "metadata": {},
   "outputs": [
    {
     "name": "stdout",
     "output_type": "stream",
     "text": [
      "True\n",
      "False\n",
      "True\n",
      "False\n"
     ]
    }
   ],
   "source": [
    "nome = input('Digite seu nome: ')  # A variável recebe um valor do tipo string\n",
    "print(bool(nome)) # True\n",
    "\n",
    "sobrenome = input('Digite seu sobrenome: ')  # A variável recebe um valor do tipo string vazio\n",
    "print(bool(sobrenome)) # False\n",
    "\n",
    "idade = int(input('Digite sua idade: '))  # A variável recebe um valor do tipo inteiro diferente de 0\n",
    "print(bool(idade)) # True\n",
    "\n",
    "dinheiro = int(input('Digite seu saldo: '))  # A variável recebe um valor do tipo inteiro igual a 0\n",
    "print(bool(dinheiro))  # False"
   ]
  },
  {
   "cell_type": "markdown",
   "metadata": {},
   "source": [
    "### str()\n",
    "\n",
    "O método str() nos permite pegar valores numéricos e convertê-los em strings.\n",
    "\n",
    "Obs.: Não podemos concatenar um número com uma string. Isso causará um erro. Mas seria possível utilizar a vírgula para combinar os valores de diferentes tipos dentro do print()."
   ]
  },
  {
   "cell_type": "code",
   "execution_count": 82,
   "metadata": {},
   "outputs": [
    {
     "name": "stdout",
     "output_type": "stream",
     "text": [
      "<class 'int'>\n",
      "O ano é 2024\n",
      "<class 'str'>\n"
     ]
    }
   ],
   "source": [
    "ano = 2024\n",
    "print(type(ano)) # Exibe <class 'int'>.\n",
    "\n",
    "ano = str(ano) # Agora a variável ano é uma string.\n",
    "# Agora podemos concatenar o ano com uma string.\n",
    "print('O ano é ' + ano)\n",
    "\n",
    "print(type(ano)) # Exibe <class 'str'>."
   ]
  }
 ],
 "metadata": {
  "kernelspec": {
   "display_name": "Python 3",
   "language": "python",
   "name": "python3"
  },
  "language_info": {
   "codemirror_mode": {
    "name": "ipython",
    "version": 3
   },
   "file_extension": ".py",
   "mimetype": "text/x-python",
   "name": "python",
   "nbconvert_exporter": "python",
   "pygments_lexer": "ipython3",
   "version": "3.12.1"
  }
 },
 "nbformat": 4,
 "nbformat_minor": 2
}
