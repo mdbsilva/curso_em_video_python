{
 "cells": [
  {
   "cell_type": "markdown",
   "metadata": {},
   "source": [
    "# Introdução a linguagem Python\n",
    "\n",
    "### Manipulando textos\n",
    "\n",
    "Uma cadeia de caracteres, ou string, é um texto entre aspas simples ou duplas.\n",
    "\n",
    "Ao atribuir uma frase a uma variável, a frase é dividida em espaços na memória e cada um desses espaços recebe um índice que identifica sua posição, iniciando em zero. Os caracteres da frase, incluindo os espaços entre as palavras, ocupam essas posições. Esse é o comportamento de uma lista; Uma string é uma lista de caracteres."
   ]
  },
  {
   "cell_type": "code",
   "execution_count": null,
   "metadata": {},
   "outputs": [],
   "source": [
    "frase = 'Curso em Vídeo Python'\n",
    "#        012345678901234567890"
   ]
  },
  {
   "cell_type": "markdown",
   "metadata": {},
   "source": [
    "## Fatiamento\n",
    "\n",
    "Podemos realizar operações com string.\n",
    "\n",
    "Tecnicamente, uma string é uma lista de caracteres. Sendo assim, podemos acessar os seus índices da mesma forma que faríamos com uma lista. (Veremos mais sobre listas adiante)"
   ]
  },
  {
   "cell_type": "markdown",
   "metadata": {},
   "source": [
    "### Análise\n",
    "\n",
    "O método len() mostra o comprimento da cadeia de caracteres."
   ]
  },
  {
   "cell_type": "code",
   "execution_count": null,
   "metadata": {},
   "outputs": [],
   "source": [
    "tamanho_frase = len(frase)\n",
    "print(tamanho_frase)"
   ]
  },
  {
   "cell_type": "code",
   "execution_count": null,
   "metadata": {},
   "outputs": [],
   "source": [
    "# A frase \"Curso em Vídeo Python\" tem 21 caracteres incluindo os espaços.\n",
    "\n",
    "# CURSO EM VÍDEO PYTHON\n",
    "# 012345678901234567890\n",
    "\n",
    "# Não se esqueça: o último índice é 20, pois começa do 0.\n",
    "# Podemos afirmar que o último índice é o tamanho da frase - 1"
   ]
  },
  {
   "cell_type": "markdown",
   "metadata": {},
   "source": [
    "O método .count('valor') mostra a quantidade de ocorrências de um valor informado entre as aspas."
   ]
  },
  {
   "cell_type": "code",
   "execution_count": null,
   "metadata": {},
   "outputs": [],
   "source": [
    "# Irá exibir a quantidade de ocorrências de o minúsculo.\n",
    "print(frase.count('o'))\n",
    "\n",
    "# Esse método aceita a indicação de um intervalo em seus argumentos\n",
    "print(frase.count('o', 0, 13))\n",
    "\n",
    "# O índice 13 não é incluído na contagem. Com isso percebemos o comportamento de intervalo de Python. O intervalo é sempre aberto à direita, ou seja, o último índice não é incluído."
   ]
  },
  {
   "cell_type": "markdown",
   "metadata": {},
   "source": [
    "\n",
    "O método find() em Python é usado para encontrar a primeira ocorrência de uma substring em uma string. Ele retorna o índice da primeira ocorrência da substring especificada na string. Se a substring não for encontrada, o método retorna -1.\n",
    "\n",
    "Aqui está a sintaxe do método find():\n",
    "\n",
    "> string.find(substring, start, end)\n",
    "\n",
    "- string: A string na qual você deseja procurar a substring.\n",
    "- substring: A substring que você deseja encontrar na string.\n",
    "- start (opcional): O índice a partir do qual a pesquisa deve começar. Por padrão, é 0.\n",
    "\n",
    "- end (opcional): O índice até o qual a pesquisa deve ser feita. Por padrão, é o comprimento da string."
   ]
  },
  {
   "cell_type": "code",
   "execution_count": null,
   "metadata": {},
   "outputs": [],
   "source": [
    "print(frase.find('deo'))\n",
    "# Exibe 11, que é a posição do caractere d\n",
    "print(frase.find('o '))\n",
    "# Exibe 4, que é a posição do caractere o - PRIMEIRA OCORRÊNCIA\n",
    "print(frase.find('do'))\n",
    "# Se o valor não for encontrado, o retorno será -1\n"
   ]
  },
  {
   "cell_type": "markdown",
   "metadata": {},
   "source": [
    "\n",
    "O método rfind() em Python é semelhante ao método find(), mas em vez de encontrar a primeira ocorrência de uma substring em uma string, ele encontra a última ocorrência. Ou seja, ele retorna o índice da última ocorrência da substring especificada na string. Se a substring não for encontrada, o método retorna -1.\n",
    "\n",
    "Aqui está a sintaxe do método rfind():\n",
    "\n",
    "> string.rfind(substring, start, end)\n",
    "\n",
    "Em outras palavras, rfind inicia a verificação pela direita. Sendo assim é semelhante a usar find('substring',-1)\n",
    "\n",
    "\n",
    "\n"
   ]
  },
  {
   "cell_type": "markdown",
   "metadata": {},
   "source": [
    "### O operador de pertencimento in\n",
    "O operador in pode ser utilizado para retornar um boolean ao verificar se há uma correspondência dentro da string"
   ]
  },
  {
   "cell_type": "code",
   "execution_count": null,
   "metadata": {},
   "outputs": [],
   "source": [
    "print('Curso' in frase) # Exibe True pois a palavra corresponde ao conteúdo da variável\n",
    "print('curso' in frase) # Exibe False pois a palavra está com a primeira letra maiúscula, diferente do conteúdo da variável"
   ]
  },
  {
   "cell_type": "markdown",
   "metadata": {},
   "source": [
    "Métodos startswith e endswith\n",
    "\n",
    "O método startswith() e endswith() são duas funções embutidas em Python usadas para verificar se uma string começa ou termina com determinado prefixo ou sufixo, respectivamente.\n",
    "\n",
    "Esses métodos são úteis para verificar padrões simples no início ou no final de uma string, o que é comum em muitos cenários de programação. Eles oferecem uma maneira eficiente e fácil de realizar essas verificações em Python."
   ]
  },
  {
   "cell_type": "markdown",
   "metadata": {},
   "source": [
    "> startswith(prefix[, start[, end]]):\n",
    "\n",
    "Este método verifica se a string começa com o prefixo especificado.\n",
    "Parâmetros:\n",
    "\n",
    "- prefix: A substring que se deseja verificar se a string começa com ela.\n",
    "- start (opcional): O índice a partir do qual a verificação deve começar Por padrão, é 0.\n",
    "- end (opcional): O índice até o qual a verificação deve ser feita. Por padrão, é o comprimento da string.\n",
    " \n",
    "Retorna True se a string começar com o prefixo especificado, caso contrário, retorna False.\n",
    "\n"
   ]
  },
  {
   "cell_type": "code",
   "execution_count": 1,
   "metadata": {},
   "outputs": [
    {
     "name": "stdout",
     "output_type": "stream",
     "text": [
      "A string começa com 'Hello'\n"
     ]
    }
   ],
   "source": [
    "string = \"Hello, world!\"\n",
    "\n",
    "# Verifica se a string começa com \"Hello\"\n",
    "if string.startswith(\"Hello\"):\n",
    "    print(\"A string começa com 'Hello'\")\n",
    "else:\n",
    "    print(\"A string não começa com 'Hello'\")\n"
   ]
  },
  {
   "cell_type": "markdown",
   "metadata": {},
   "source": [
    "> endswith(suffix[, start[, end]]):\n",
    "\n",
    "Este método verifica se a string termina com o sufixo especificado.\n",
    "Parâmetros:\n",
    "\n",
    "- suffix: A substring que se deseja verificar se a string termina com ela.\n",
    "- start (opcional): O índice a partir do qual a verificação deve começar. Por padrão, é 0.\n",
    "- end (opcional): O índice até o qual a verificação deve ser feita. Por padrão, é o comprimento da string.\n",
    "\n",
    "Retorna True se a string terminar com o sufixo especificado, caso contrário, retorna False.\n"
   ]
  },
  {
   "cell_type": "code",
   "execution_count": 2,
   "metadata": {},
   "outputs": [
    {
     "name": "stdout",
     "output_type": "stream",
     "text": [
      "A string termina com 'world!'\n"
     ]
    }
   ],
   "source": [
    "string = \"Hello, world!\"\n",
    "\n",
    "# Verifica se a string termina com \"world!\"\n",
    "if string.endswith(\"world!\"):\n",
    "    print(\"A string termina com 'world!'\")\n",
    "else:\n",
    "    print(\"A string não termina com 'world!'\")"
   ]
  },
  {
   "cell_type": "markdown",
   "metadata": {},
   "source": [
    "### Transformação\n",
    "\n",
    "Uma string é imutável, mas podemos utilizar alguns métodos para alterá-la.\n",
    "\n",
    "Às vezes precisamos atualizar os dados numa string sem criar uma string totalmente nova.\n",
    "\n",
    "Podemos substituir uma parte de uma string armazenada numa variável codificando primeiro o nome da variável e depois o método .replace()\n",
    "\n",
    "O método .replace(valor, novo_valor) altera um valor por outro, mas não altera a string original, apenas exibe a mudança.\n",
    "\n",
    "Dentro dos parênteses, adicionamos a parte que queremos substituir, uma vírgula e depois o novo valor\n",
    "\n",
    "replace é útil para atualizar strings, mas também para remover caracteres indesejados\n",
    "\n",
    "Por exemplo, se quisermos remover os espaços em branco de uma string, podemos usar o método .replace(' ', '')\n",
    "\n",
    "Quando usamos replace() substituiremos todas as ocorrências do valor dentro da string"
   ]
  },
  {
   "cell_type": "code",
   "execution_count": null,
   "metadata": {},
   "outputs": [],
   "source": [
    "frase = 'Curso em Vídeo Python'\n",
    "frase.replace('Python', 'Android')\n",
    "\n",
    "print(frase)\n",
    "# Se codificarmos a variável original, notaremos que o valor dela permanece inalterado. Isso ocorre pois o método .replace() não altera o valor da variável original, mas cria uma nova string com o valor atualizado.\n",
    "\n",
    "nova_frase = frase.replace('Python', 'Android')\n",
    "print(nova_frase) # Exibe a frase com o valor atualizado\n",
    "\n",
    "print(frase) # Exibe a frase original"
   ]
  },
  {
   "cell_type": "markdown",
   "metadata": {},
   "source": [
    "Os métodos .upper() e .lower() transformam os caracteres em maiúsculas e minúsculas respectivamente."
   ]
  },
  {
   "cell_type": "code",
   "execution_count": null,
   "metadata": {},
   "outputs": [],
   "source": [
    "print(frase.upper()) # Exibe a frase em maiúsculo. \n",
    "print(frase) # O método .upper() não altera o valor da variável original, mas cria uma nova string com o valor atualizado.\n",
    "\n",
    "print(frase.lower()) # Exibe a frase em minúsculo.\n",
    "print(frase) # O método .lower() não altera o valor da variável original, mas cria uma nova string com o valor atualizado."
   ]
  },
  {
   "cell_type": "markdown",
   "metadata": {},
   "source": [
    "O método .title() transforma apenas o primeiro caractere de cada palavra em maiúsculo."
   ]
  },
  {
   "cell_type": "code",
   "execution_count": null,
   "metadata": {},
   "outputs": [],
   "source": [
    "print(frase.title()) # Exibe a frase com a primeira letra de cada palavra em maiúsculo. Também não altera o valor da variável original.\n",
    "print(frase) # Exibe a frase original"
   ]
  },
  {
   "cell_type": "markdown",
   "metadata": {},
   "source": [
    "O método .capitalize() transforma apenas o primeiro caractere em maiúsculo"
   ]
  },
  {
   "cell_type": "code",
   "execution_count": null,
   "metadata": {},
   "outputs": [],
   "source": [
    "print(frase.capitalize()) # Exibe a frase com a primeira letra em maiúsculo e as demais em minúsculo. Também não altera o valor da variável original.\n",
    "print(frase) # Exibe a frase original"
   ]
  },
  {
   "cell_type": "markdown",
   "metadata": {},
   "source": [
    "### Divisão de strings\n",
    "\n",
    "Ao trabalhar com diferentes tipos de dados, muitas vezes os receberemos em um formato que pode dificultar o trabalho.\n",
    "\n",
    "Conseguimos dividir strings e armazenar os valores individuais numa lista utilizando o método .split() - split significa dividir.\n",
    "\n",
    "O método split() utiliza os espaços entre as palavras e divíde a string, criando uma lista com as palavras.\n",
    "\n",
    "Cada palavra será um elemento e terá sua própria indexação e cada caractere das palavras receberão seus próprios índices."
   ]
  },
  {
   "cell_type": "code",
   "execution_count": null,
   "metadata": {},
   "outputs": [],
   "source": [
    "frase = 'Curso em Vídeo Python'\n",
    "print(frase.split())\n",
    "# O método .split() divide a string em uma lista de strings.\n",
    "# O padrão é dividir a string nos espaços em branco.\n",
    "# Será exibida uma lista com as palavras da frase: ['Curso', 'em', 'Vídeo', 'Python']\n",
    "\n",
    "print(frase)\n",
    "# O método .split() não altera o valor da variável original.\n",
    "\n",
    "# Podemos armazenar o valor da lista em uma variável\n",
    "frase_dividida = frase.split()\n",
    "print(frase_dividida) # Exibe a lista ['Curso', 'em', 'Vídeo', 'Python']\n",
    "\n",
    "# Nesse exemplo, o primeiro valor indica a palavra e o segundo o caractere\n",
    "print(frase_dividida[2]) # Exibe 'Vídeo' pois é o terceiro [2] valor da lista\n",
    "print(frase_dividida[2][0]) # Exibe 'V' pois é o primeiro [0] caractere da palavra 'Vídeo'. Indicamos a palavra e o caractere."
   ]
  },
  {
   "cell_type": "markdown",
   "metadata": {},
   "source": [
    "Podemos usar o método .split() para dividir uma string em qualquer caractere que quisermos.\n",
    "\n",
    "Podemos especificar exatamente como queremos dividir uma string colocando um separador entre parênteses.\n",
    "\n",
    "Por exemplo, se quisermos dividir uma string em cada vírgula, colocamos a vírgula entre parênteses.\n"
   ]
  },
  {
   "cell_type": "code",
   "execution_count": null,
   "metadata": {},
   "outputs": [],
   "source": [
    "texto = 'Maycon, Masculino, Pardo, Douglas, Masculino, Branco, Maria, Feminino, Branca'\n",
    "\n",
    "print(texto.split(', '))\n",
    "\n",
    "lista_texto = texto.split(', ')\n",
    "\n",
    "# Exibindo somente os nomes\n",
    "print(lista_texto[0::3]) # Exibe os nomes que estão na posição 0, 3, 6, 9\n",
    "print(lista_texto[1::3]) # Exibe os nomes que estão na posição 1, 4, 7, 10\n",
    "print(lista_texto[2::3]) # Exibe os nomes que estão na posição 2, 5, 8, 11"
   ]
  },
  {
   "cell_type": "markdown",
   "metadata": {},
   "source": [
    "### Junção\n",
    "\n",
    "O método 'separador'.join(valor) reúne os itens de um conjunto separado utilizando o separador indicado."
   ]
  },
  {
   "cell_type": "code",
   "execution_count": null,
   "metadata": {},
   "outputs": [],
   "source": [
    "print('***'.join(lista_texto))"
   ]
  },
  {
   "cell_type": "markdown",
   "metadata": {},
   "source": [
    "Ou somente separa os caracteres com o separador indicado"
   ]
  },
  {
   "cell_type": "code",
   "execution_count": null,
   "metadata": {},
   "outputs": [],
   "source": [
    "print('-'.join(frase))"
   ]
  },
  {
   "cell_type": "markdown",
   "metadata": {},
   "source": [
    "O método .strip() irá remover os espaços desnecessários, na esquerda de na direita, mas não os espaços entre as palavras. Strip significa retirar, remover.\n",
    "\n",
    "Nesse exemplo a string recebeu espaços excedentes"
   ]
  },
  {
   "cell_type": "code",
   "execution_count": null,
   "metadata": {},
   "outputs": [],
   "source": [
    "frase = '   Aprenda Python   '\n",
    "print(frase)\n",
    "print(len(frase))\n",
    "\n",
    "print(frase.strip())\n",
    "# Há duas variações: Somente da direita rstrip() e somente da esquerda lstrip()\n",
    "print(len(frase.strip()))"
   ]
  },
  {
   "cell_type": "markdown",
   "metadata": {},
   "source": [
    "### Análise de strings\n",
    "\n",
    "Em Python tudo é tratado como objeto.\n",
    "\n",
    "Objetos possuem métodos. Os métodos são funções que podem ser executadas por um objeto.\n",
    "\n",
    "Existem métodos para analisar as strings. A sintaxe dos métodos é em notação de ponto.\n",
    "\n",
    "objeto.método()\n",
    "\n",
    "Podemos usar a função dir() para exibir todos os métodos disponíveis para um objeto."
   ]
  },
  {
   "cell_type": "code",
   "execution_count": null,
   "metadata": {},
   "outputs": [],
   "source": [
    "algo = input('Digite algo: ')"
   ]
  },
  {
   "cell_type": "code",
   "execution_count": null,
   "metadata": {},
   "outputs": [],
   "source": [
    "dir(algo)\n",
    "# Exibe todos os métodos disponíveis para a variável"
   ]
  },
  {
   "cell_type": "markdown",
   "metadata": {},
   "source": [
    "Algums métodos de string são:"
   ]
  },
  {
   "cell_type": "code",
   "execution_count": null,
   "metadata": {},
   "outputs": [],
   "source": [
    "print(algo.isnumeric())  # Verifica se o valor é um número para dizer se é possível converter para int ou float\n",
    "\n",
    "print(algo.isalpha())  # Verifica se o valor é alfabético\n",
    "\n",
    "print(algo.isalnum())  # Verifica se o valor possui letras e números.\n",
    "\n",
    "print(algo.isupper())  # Verifica se o valor está em maiúsculo.\n",
    "\n",
    "print(algo.islower())  # Verifica se o valor está em minúsculo.\n",
    "\n",
    "print(algo.isspace())  # Verifica se o valor é um espaço (espaço, tab, quebra de linha)\n",
    "\n",
    "print(algo.istitle())  # Verifica se o valor está em formato de título. Ex: Curso em Vídeo\n",
    "\n",
    "print(algo.isprintable())  # Verifica se o valor é imprimível. Ex: \\n não é imprimível\n",
    "\n",
    "print(algo.isascii())  # Verifica se o valor está em formato ASCII. Acentos não são ASCII\n",
    "\n",
    "print(algo.isdecimal())  # Verifica se o valor é decimal\n",
    "\n",
    "print(algo.isdigit())  # Verifica se o valor é um dígito. \n",
    "\n",
    "print(algo.isidentifier())  # Verifica se o valor é um identificador. Ex: Nome de variável, função, classe, etc."
   ]
  },
  {
   "cell_type": "markdown",
   "metadata": {},
   "source": [
    "Exemplo de uso de isnumeric: Consiste em um programa que solicita ao usuário para digitar um número inteiro e, em seguida, exibe o dobro desse número. O programa deve verificar se a entrada do usuário é numérica antes de realizar a operação."
   ]
  },
  {
   "cell_type": "code",
   "execution_count": null,
   "metadata": {},
   "outputs": [],
   "source": [
    "# Solicita ao usuário para digitar um número\n",
    "entrada_usuario = input('Digite um número inteiro: ')\n",
    "\n",
    "# Verifica se a entrada do usuário é numérica\n",
    "if entrada_usuario.isnumeric():\n",
    "    # Converte a entrada para um número inteiro\n",
    "    numero_inteiro = int(entrada_usuario)\n",
    "    \n",
    "    # Realiza alguma operação com o número (por exemplo, dobrá-lo)\n",
    "    resultado = numero_inteiro * 2\n",
    "    \n",
    "    # Exibe o resultado\n",
    "    print(f'O dobro do número digitado é: {resultado}')\n",
    "else:\n",
    "    print('Por favor, digite um número inteiro válido.')\n"
   ]
  }
 ],
 "metadata": {
  "kernelspec": {
   "display_name": "Python 3",
   "language": "python",
   "name": "python3"
  },
  "language_info": {
   "codemirror_mode": {
    "name": "ipython",
    "version": 3
   },
   "file_extension": ".py",
   "mimetype": "text/x-python",
   "name": "python",
   "nbconvert_exporter": "python",
   "pygments_lexer": "ipython3",
   "version": "3.12.1"
  }
 },
 "nbformat": 4,
 "nbformat_minor": 2
}
