{
 "cells": [
  {
   "cell_type": "markdown",
   "metadata": {},
   "source": [
    "# Introdução a linguagem Python\n",
    "\n",
    "Os programas repetem as mesmas linhas de código continuamente para construir todo o tipo de coisas, como elementos repetidos de aplicativos.\n",
    "\n",
    "Uma maneira de repetir linhas de código é escrevê-las repetidamente, mas isso leva muito tempo se quisermos criar programas maiores."
   ]
  },
  {
   "cell_type": "markdown",
   "metadata": {},
   "source": [
    "### Autoatribuição e operadores\n",
    "\n",
    "Vamos aprender um novo conceito que explica como as variáveis controlam as coisas como adicionar ou retirar reais de uma carteira.\n",
    "\n",
    "Autoatibuição é quando definimos uma variável com seu próprio valor. Por exemplo, podemos definir carteira com valor 3 com"
   ]
  },
  {
   "cell_type": "code",
   "execution_count": 1,
   "metadata": {},
   "outputs": [],
   "source": [
    "carteira = 3"
   ]
  },
  {
   "cell_type": "markdown",
   "metadata": {},
   "source": [
    "Como podemos autoatribuir variáveis, podemos aumentar ou diminuir variáveis definidas com números."
   ]
  },
  {
   "cell_type": "code",
   "execution_count": 2,
   "metadata": {},
   "outputs": [
    {
     "name": "stdout",
     "output_type": "stream",
     "text": [
      "4\n"
     ]
    }
   ],
   "source": [
    "carteira = 3\n",
    "carteira = carteira + 1  # 3 + 1 = 4\n",
    "print(carteira)\n",
    "# Estamos dizendo que queremos manter o valor atual da variável e adicionar 1 a ela."
   ]
  },
  {
   "cell_type": "markdown",
   "metadata": {},
   "source": [
    "O Python oferece uma maneira reduzida de escrever operações como essas.\n",
    "\n",
    "Variáveis autoatribuídas nos permitem rastrear dados que mudam ao longo do tempo."
   ]
  },
  {
   "cell_type": "code",
   "execution_count": 3,
   "metadata": {},
   "outputs": [
    {
     "name": "stdout",
     "output_type": "stream",
     "text": [
      "4\n"
     ]
    }
   ],
   "source": [
    "carteira = 3\n",
    "carteira = carteira + 2  # 3 + 2 = 5\n",
    "carteira = carteira - 1  # 5 - 1 = 4\n",
    "print(carteira)"
   ]
  },
  {
   "cell_type": "markdown",
   "metadata": {},
   "source": [
    "Como a autoatribuição é uma ferramenta poderosa para criar programas, vamos aprender alguns operadores que nos ajudam a escrever código com mais rapidez.\n",
    "\n",
    "Sabemos que podemos adicionar 1 a uma variável escrevendo o nome da variável."
   ]
  },
  {
   "cell_type": "code",
   "execution_count": 4,
   "metadata": {},
   "outputs": [
    {
     "name": "stdout",
     "output_type": "stream",
     "text": [
      "6\n"
     ]
    }
   ],
   "source": [
    "likes = 5\n",
    "likes = likes + 1 # 5 + 1 = 6\n",
    "print(likes)"
   ]
  },
  {
   "cell_type": "markdown",
   "metadata": {},
   "source": [
    "Em vez de escrever o nome da variável, podemos usar o operador += para adicionar um número com likes += 1.\n",
    "\n",
    "Também funciona com outros operadores aritiméticos.\n",
    "\n",
    "Acompanhe a evolução dos valores."
   ]
  },
  {
   "cell_type": "code",
   "execution_count": 7,
   "metadata": {},
   "outputs": [
    {
     "name": "stdout",
     "output_type": "stream",
     "text": [
      "5\n",
      "6\n"
     ]
    }
   ],
   "source": [
    "likes = 5\n",
    "print(likes) # 5\n",
    "\n",
    "# Incrementando\n",
    "likes += 1 # 5 + 1 = 6\n",
    "print(likes) # 6\n",
    "# Decrementando\n",
    "likes -= 1 # 6 - 1 = 5\n",
    "print(likes) # 5\n",
    "# Multiplicando\n",
    "likes *= 2 # 5 * 2 = 10\n",
    "print(likes) # 10\n",
    "# Dividindo\n",
    "likes /= 2 # 10 / 2 = 5.0\n",
    "print(likes) # 5.0"
   ]
  },
  {
   "cell_type": "markdown",
   "metadata": {},
   "source": [
    "## while\n",
    "\n",
    "A estrutura while executa o código enquanto uma condição for verdadeira.\n",
    "\n",
    "Em geral, em Python, um loop pode ser representado da seguinte forma:"
   ]
  },
  {
   "cell_type": "code",
   "execution_count": null,
   "metadata": {},
   "outputs": [],
   "source": [
    "# enquanto há algo para fazer:\n",
    "#    faça isso\n",
    "\n",
    "# while:\n",
    "#    instruction"
   ]
  },
  {
   "cell_type": "markdown",
   "metadata": {},
   "source": [
    "Observe que esse registro deixa inplicito que se nada precisa ser feito, nada será feito. Mesmo que hajam instruções dentro do loop, elas não serão executadas se não houver nada a fazer.\n",
    "\n",
    "Se você observar algumas semelhanças com a instrução if, tudo bem. Na verdade, a diferença sintática é apenas uma: você usa a palavra while em vez da palavra if.\n",
    "\n",
    "A diferença semántica é mais importante: quando a condição é atendida, if executa suas instruções apenas uma vez; Enquanto um loop repete a execução, enquanto a condição avalia como True.\n",
    "\n",
    "Nota: todas as regras relacionadas à indentação também são aplicáveis aqui. Mostraremos isso em breve.\n",
    "\n",
    "Importante:\n",
    "\n",
    "- se você quiser executar mais de uma instrução dentro de um loop while, você deve (como no if) recuar todas as instruções da mesma maneira;\n",
    "\n",
    "- uma instrução ou um conjunto de instruções executadas dentro do loop while é chamado de corpo do loop;\n",
    "\n",
    "- se a condição for False (igual a zero) quando for testada pela primeira vez, o corpo não será executado uma única vez (observe a analogia de não ter que fazer nada se não houver nada a fazer);\n",
    "\n",
    "- o corpo deve ser capaz de alterar o valor da condição, porque se a condição for True no início, o corpo poderá ser executado continuamente até o infinito (observe que fazer algo geralmente diminui o número de coisas a fazer).\n",
    "\n",
    "O laço while pode ser usado para criar um menu de opções, pois pode executar o código enquanto o usuário não digitar uma opção de saída entre as opções disponíveis. Isso é conhecido como loop infinito.\n"
   ]
  },
  {
   "cell_type": "code",
   "execution_count": 8,
   "metadata": {},
   "outputs": [],
   "source": [
    "# while True:\n",
    "#   print(\"Estou preso dentro de um loop.\")"
   ]
  },
  {
   "cell_type": "markdown",
   "metadata": {},
   "source": [
    "Esse loop exibirá infinitamente \"Estou preso dentro de um loop\" pois não há nada que altere a condição do loop. Ela sempre será True.\n",
    "\n",
    "Vamos mostrar como usar esse loop recém-aprendido para encontrar o maior número de um grande conjunto de dados inseridos."
   ]
  },
  {
   "cell_type": "code",
   "execution_count": 11,
   "metadata": {},
   "outputs": [
    {
     "name": "stdout",
     "output_type": "stream",
     "text": [
      "O maior número é: 125\n"
     ]
    }
   ],
   "source": [
    "# Armazene o maior número atual aqui.\n",
    "maior_numero = float('-inf') # float('-inf') é uma tecnica para definir o menor valor possivel para um float. Chamamos a tecnica de \"sentinela\".\n",
    "\n",
    "# Insira o primeiro valor.\n",
    "number = int(input(\"Digite um número ou digite -1 para parar: \"))\n",
    "\n",
    "# Se o número não for igual a -1, continue.\n",
    "while number != -1:\n",
    "    # O número é maior que o maior_número?\n",
    "    if number > maior_numero:\n",
    "        # Sim, atualize o maior_número.\n",
    "        maior_numero = number\n",
    "    # Insira o próximo número.\n",
    "    number = int(input(\"Digite um número ou digite -1 para parar: \"))\n",
    "\n",
    "# Imprima o maior número.\n",
    "print(\"O maior número é:\", maior_numero)\n"
   ]
  },
  {
   "cell_type": "markdown",
   "metadata": {},
   "source": [
    "Vejamos outro exemplo empregando o loop while. Siga os comentários para descobrir a ideia e a solução.\n",
    "\n",
    "Um programa que lê uma sequência de números e conta quantos números são pares e quantos são ímpares. O programa termina quando zero é digitado."
   ]
  },
  {
   "cell_type": "code",
   "execution_count": 14,
   "metadata": {},
   "outputs": [
    {
     "name": "stdout",
     "output_type": "stream",
     "text": [
      "Números ímpares contam: 3\n",
      "Números pares contam: 1\n"
     ]
    }
   ],
   "source": [
    "# Inicialize os contadores de números pares e ímpares.\n",
    "pares = impares = 0\n",
    "\n",
    "# Leia o primeiro número para começar.\n",
    "number = int(input(\"Digite um número qualquer (0 para parar): \"))\n",
    "\n",
    "# while espera um valor booleano True para continuar a execução do loop.\n",
    "# Sabemos que 0 é False e qualquer outro número é True.\n",
    "# Portanto, 0 é o valor perfeito para parar o loop.\n",
    "while number: # while number espera que number seja diferente de 0\n",
    "    \n",
    "    # Verifique se o número é ímpar.\n",
    "    if number % 2: # espera que o resto da divisão de number por 2 seja diferente de 0 (ou seja, que seja ímpar) logo equivalente a True.\n",
    "        # Incrementar o contador de números impares.\n",
    "        impares += 1\n",
    "    else:\n",
    "        # Incrementar o contador de números pares.\n",
    "        pares += 1\n",
    "        \n",
    "    # Leia o número seguinte.\n",
    "    number = int(input(\"Digite um número ou digite 0 para parar: \"))\n",
    "\n",
    "# Imprimir resultados.\n",
    "print(\"Números ímpares contam:\", impares)\n",
    "print(\"Números pares contam:\", pares)"
   ]
  },
  {
   "cell_type": "markdown",
   "metadata": {},
   "source": [
    "Tente se lembrar de como o Python interpreta a verdade de uma condição e observe que essas duas formas são equivalentes:\n",
    "\n",
    "while number != 0: e while number:\n",
    "\n",
    "A condição que verifica se um número é ímpar também pode ser codificada nessas formas equivalentes:\n",
    "\n",
    "if number % 2 == 1: e if number % 2:"
   ]
  },
  {
   "cell_type": "markdown",
   "metadata": {},
   "source": [
    "#### Usando uma variável counter para sair do loop\n",
    "\n",
    "Este código destina-se a imprimir a cadeia de caracteres \"dentro do loop\". e o valor armazenado na variável do counter durante um determinado loop exatamente cinco vezes. Quando a condição não for atendida (a variável do counter atingiu 0), o loop é encerrado e a mensagem \"Fora do loop\" . assim como o valor armazenado no counter é impresso."
   ]
  },
  {
   "cell_type": "code",
   "execution_count": 15,
   "metadata": {},
   "outputs": [
    {
     "name": "stdout",
     "output_type": "stream",
     "text": [
      "Dentro do laço. 5\n",
      "Dentro do laço. 4\n",
      "Dentro do laço. 3\n",
      "Dentro do laço. 2\n",
      "Dentro do laço. 1\n",
      "Fora do circuito. 0\n"
     ]
    }
   ],
   "source": [
    "counter = 5 # contador\n",
    "\n",
    "while counter != 0:  # enquanto contador for diferente de zero\n",
    "    print(\"Dentro do laço.\", counter) # imprime o contador\n",
    "    counter -= 1 # diminui o contador\n",
    "    \n",
    "print(\"Fora do circuito.\", counter) # imprime o contador quando for igual a zero"
   ]
  },
  {
   "cell_type": "code",
   "execution_count": 16,
   "metadata": {},
   "outputs": [
    {
     "name": "stdout",
     "output_type": "stream",
     "text": [
      "Dentro do laço. 4\n",
      "Dentro do laço. 3\n",
      "Dentro do laço. 2\n",
      "Dentro do laço. 1\n",
      "Dentro do laço. 0\n",
      "Fora do circuito. 0\n"
     ]
    }
   ],
   "source": [
    "counter = 5 # contador\n",
    "while counter != 0:  # enquanto contador for diferente de zero\n",
    "    counter -= 1 # diminui o contador\n",
    "    print(\"Dentro do laço.\", counter) # imprime o contador\n",
    "    \n",
    "print(\"Fora do circuito.\", counter) # imprime o contador quando for igual a zero"
   ]
  },
  {
   "cell_type": "markdown",
   "metadata": {},
   "source": [
    "## for\n",
    "\n",
    "Outro tipo de loop disponível no Python vem da observação de que, às vezes, é mais importante contar as \"voltas\" do loop do que verificar as condições.\n",
    "\n",
    "Imagine que o corpo de um loop precisa ser executado exatamente uma centena de vezes. Se você quiser usar o loop while, pode ser assim:"
   ]
  },
  {
   "cell_type": "code",
   "execution_count": 43,
   "metadata": {},
   "outputs": [
    {
     "name": "stdout",
     "output_type": "stream",
     "text": [
      "1 - 2 - 3 - 4 - 5 - 6 - 7 - 8 - 9 - 10 - 11 - 12 - 13 - 14 - 15 - 16 - 17 - 18 - 19 - 20 - 21 - 22 - 23 - 24 - 25 - 26 - 27 - 28 - 29 - 30 - 31 - 32 - 33 - 34 - 35 - 36 - 37 - 38 - 39 - 40 - 41 - 42 - 43 - 44 - 45 - 46 - 47 - 48 - 49 - 50 - 51 - 52 - 53 - 54 - 55 - 56 - 57 - 58 - 59 - 60 - 61 - 62 - 63 - 64 - 65 - 66 - 67 - 68 - 69 - 70 - 71 - 72 - 73 - 74 - 75 - 76 - 77 - 78 - 79 - 80 - 81 - 82 - 83 - 84 - 85 - 86 - 87 - 88 - 89 - 90 - 91 - 92 - 93 - 94 - 95 - 96 - 97 - 98 - 99 - 100 - "
     ]
    }
   ],
   "source": [
    "# Primeiro teríamos que inicializar um contador que começa em 0 e armazenaria o número de iterações.\n",
    "i = 0 # contador\n",
    "\n",
    "# Em seguida, teríamos que criar um loop que continuaria enquanto o contador fosse menor que 100.\n",
    "while i < 100: # enquanto contador for menor que 100\n",
    "    i += 1 # aumenta o contador\n",
    "    print(i, end=' - ') # imprime o contador"
   ]
  },
  {
   "cell_type": "markdown",
   "metadata": {},
   "source": [
    "O for foi projetado para realizar tarefas mais complicadas - ele pode \"navegar\" em grandes coleções de itens de dados por item e até percorrer todos os caracteres de uma string."
   ]
  },
  {
   "cell_type": "code",
   "execution_count": 20,
   "metadata": {},
   "outputs": [],
   "source": [
    "for i in range(100): # para i no intervalo de 100\n",
    "    pass # não faz nada. Usamos a palavra-chave pass para evitar um erro de sintaxe pois o Python exige que o corpo do loop não esteja vazio."
   ]
  },
  {
   "cell_type": "markdown",
   "metadata": {},
   "source": [
    "Existem alguns elementos novos. Vamos falar sobre eles:\n",
    "\n",
    "- a palavra-chave for abre o loop for; observação - não há nenhuma condição depois; você não precisa pensar nas condições, pois elas são verificadas internamente, sem qualquer intervenção;\n",
    "\n",
    "- qualquer variável após a palavra -chave for é a variável de controle do loop; conta as voltas do loop e o faz automaticamente;\n",
    "\n",
    "- a palavra-chave in introduz um elemento de sintaxe que descreve o intervalo de valores possíveis que estão sendo atribuídos à variável de controle;\n",
    "\n",
    "- a função range() (essa é uma função muito especial) é responsável por gerar todos os valores desejados da variável de controle; em nosso exemplo, a função criará (podemos até dizer que alimentará o loop com) valores subsequentes do seguinte conjunto: 0, 1, 2 .. 97, 98, 99. Nota: nesse caso, a função range() inicia seu trabalho de 0 e o conclui uma etapa (um número inteiro) antes do valor do argumento;\n",
    "\n",
    "- observe a palavra-chave pass dentro do corpo do loop - ela não faz nada; é uma instrução vazia - nós a colocamos aqui porque a sintaxe do loop for exige pelo menos uma instrução dentro do corpo (a propósito - if, elif, else e while expressamos a mesma coisa)"
   ]
  },
  {
   "cell_type": "code",
   "execution_count": 21,
   "metadata": {},
   "outputs": [
    {
     "name": "stdout",
     "output_type": "stream",
     "text": [
      "O valor de i é atualmente 0\n",
      "O valor de i é atualmente 1\n",
      "O valor de i é atualmente 2\n",
      "O valor de i é atualmente 3\n",
      "O valor de i é atualmente 4\n",
      "O valor de i é atualmente 5\n",
      "O valor de i é atualmente 6\n",
      "O valor de i é atualmente 7\n",
      "O valor de i é atualmente 8\n",
      "O valor de i é atualmente 9\n"
     ]
    }
   ],
   "source": [
    "for i in range(10):\n",
    "    print(\"O valor de i é atualmente\", i)\n",
    "    # exibe os valores de 0 a 9"
   ]
  },
  {
   "cell_type": "markdown",
   "metadata": {},
   "source": [
    "O loop foi executado dez vezes (é o argumento da função range())\n",
    "\n",
    "O valor da última variável de controle é 9 (não 10, pois começa em 0, não em 1)\n",
    "\n",
    "A invocação da função range() pode ser equipada com dois argumentos, não apenas um:"
   ]
  },
  {
   "cell_type": "code",
   "execution_count": 46,
   "metadata": {},
   "outputs": [
    {
     "name": "stdout",
     "output_type": "stream",
     "text": [
      "O valor de i é atualmente 2\n",
      "O valor de i é atualmente 3\n",
      "O valor de i é atualmente 4\n",
      "O valor de i é atualmente 5\n",
      "O valor de i é atualmente 6\n",
      "O valor de i é atualmente 7\n"
     ]
    }
   ],
   "source": [
    "for i in range(2, 8):\n",
    "    print(\"O valor de i é atualmente\", i)\n",
    "# exibe os valores de 2 a 7"
   ]
  },
  {
   "cell_type": "markdown",
   "metadata": {},
   "source": [
    "Nesse caso, o primeiro argumento determina o (primeiro) valor inicial da variável de controle.\n",
    "\n",
    "O último argumento mostra o primeiro valor em que a variável de controle não será atribuída.\n",
    "\n",
    "Nota: a função range() aceita apenas números inteiros como argumentos e gera sequências de números inteiros. Isso significa que podemos usar variáveis como argumento, desde que contenham valores inteiros."
   ]
  },
  {
   "cell_type": "markdown",
   "metadata": {},
   "source": [
    "####  Mais sobre o loop for e a funçao range() com três argumentos\n",
    "\n",
    "A função range() também pode aceitar três argumentos - dê uma olhada no código no editor."
   ]
  },
  {
   "cell_type": "code",
   "execution_count": 22,
   "metadata": {},
   "outputs": [
    {
     "name": "stdout",
     "output_type": "stream",
     "text": [
      "O valor de i é atualmente 2\n",
      "O valor de i é atualmente 5\n"
     ]
    }
   ],
   "source": [
    "for i in range(2, 8, 3):\n",
    "    print(\"O valor de i é atualmente\", i)"
   ]
  },
  {
   "cell_type": "markdown",
   "metadata": {},
   "source": [
    " O terceiro argumento é um incremento - é um valor adicionado para controlar a variável a cada volta do loop (como você pode suspeitar, o valor padrão do incremento é 1).\n",
    "\n",
    "O prodgrama exibirá duas linhas:\n",
    "\n",
    "> O valor de i é atualmente 2\n",
    "> \n",
    "> O valor de i é atualmente 5\n",
    "\n",
    "Você sabe por quê?\n",
    "\n",
    "- O primeiro argumento passado para a função range() nos diz qual é o número inicial da sequência (portanto, 2 na saída). \n",
    "- O segundo argumento diz à função onde parar a sequência (a função gera números até o número indicado pelo segundo argumento, mas não o inclui). \n",
    "- Por fim, o terceiro argumento indica a etapa, que realmente significa a diferença entre cada número na sequência de números gerada pela função.\n",
    "\n",
    "2 (número inicial) → 5 (incremento de 2 por 3 é igual a 5 - o número está dentro do intervalo de 2 a 8) → 8 (incremento de 5 por 3 é igual a 8 - o número não está dentro do intervalo de 2 a 8, porque o O parâmetro stop não é incluído na sequência de números gerada pela função.)\n",
    "\n",
    "Nota: se o conjunto gerado pela função range() estiver vazio, o loop não executará seu corpo."
   ]
  },
  {
   "cell_type": "code",
   "execution_count": 25,
   "metadata": {},
   "outputs": [
    {
     "name": "stdout",
     "output_type": "stream",
     "text": [
      "O valor de i é atualmente 0\n"
     ]
    }
   ],
   "source": [
    "for i in range(1, 1): # A cotagem não começa em 0, mas em 1. O valor inicial é 1 e o valor final é 1. Como o valor final não é incluído, o loop não é executado.\n",
    "    print(\"O valor de i é atualmente\", i)\n",
    "\n",
    "# Porém, essa variante será executada uma vez:\n",
    "for i in range(1):  # estamos indicando somente o valor final, que é 1. O valor inicial é 0 por padrão.\n",
    "    print(\"O valor de i é atualmente\", i)"
   ]
  },
  {
   "cell_type": "markdown",
   "metadata": {},
   "source": [
    "Observação: o conjunto gerado pelo range() deve ser classificado em ordem crescente. Não há como forçar o range() a criar um conjunto de uma forma diferente quando a função range() aceitar exatamente dois argumentos. Isso significa que o segundo argumento do range() deve ser maior que o primeiro.\n",
    "\n",
    "Para resolver esse problema, você pode usar um incremento negativo. Dessa forma, o primeiro argumento será maior que o segundo.\n"
   ]
  },
  {
   "cell_type": "code",
   "execution_count": 50,
   "metadata": {},
   "outputs": [
    {
     "name": "stdout",
     "output_type": "stream",
     "text": [
      "2 à potência de 0 é 1\n",
      "2 à potência de 1 é 2\n",
      "2 à potência de 2 é 4\n",
      "2 à potência de 3 é 8\n",
      "2 à potência de 4 é 16\n",
      "2 à potência de 5 é 32\n",
      "2 à potência de 6 é 64\n",
      "2 à potência de 7 é 128\n",
      "2 à potência de 8 é 256\n",
      "2 à potência de 9 é 512\n",
      "2 à potência de 10 é 1024\n"
     ]
    }
   ],
   "source": [
    "power = 1 # potência\n",
    "for expo in range(11): # expoente 0 a 10\n",
    "    # A variável expo é usada como uma variável de controle para o loop e indica o valor atual do expoente.\n",
    "    print(\"2 à potência de\", expo, \"é\", power)\n",
    "    power *= 2 # potência multiplicada por 2.power é atualizada, dobrando seu valor a cada volta do loop"
   ]
  },
  {
   "cell_type": "markdown",
   "metadata": {},
   "source": [
    "A exponenciação em si é substituída pela multiplicação por dois. Como 2 0 é igual a 1, 2 × 1 é igual a 2 1, 2 × 2 1 é igual a 2 2 e assim por diante. Qual é o maior expoente para o qual nosso programa ainda imprime o resultado? É 10, porque 2 10 é igual a 1024, mas 2 11 é igual a 2048, que é maior que 2000."
   ]
  },
  {
   "cell_type": "code",
   "execution_count": 26,
   "metadata": {},
   "outputs": [
    {
     "name": "stdout",
     "output_type": "stream",
     "text": [
      "0 - 0\n",
      "1 - 10\n",
      "2 - 20\n",
      "3 - 30\n",
      "4 - 40\n",
      "5 - 50\n",
      "6 - 60\n",
      "7 - 70\n",
      "8 - 80\n",
      "9 - 90\n",
      "10 - 100\n",
      "2 x 1 = 10\n",
      "2 x 2 = 20\n",
      "2 x 3 = 30\n",
      "2 x 4 = 40\n",
      "2 x 5 = 50\n",
      "2 x 6 = 60\n",
      "2 x 7 = 70\n",
      "2 x 8 = 80\n",
      "2 x 9 = 90\n",
      "2 x 10 = 100\n"
     ]
    }
   ],
   "source": [
    "for indice, valor in enumerate(range(0, 101, 10)):\n",
    "    print(f'{indice} - {valor}')\n",
    "    \n",
    "numero = int(input('Digite um número: '))\n",
    "for indice, valor in enumerate(range(numero,numero*10+1, numero), 1):\n",
    "    print(f'2 x {indice} = {valor}')"
   ]
  },
  {
   "cell_type": "markdown",
   "metadata": {},
   "source": [
    "O método enumerate() retorna uma tupla com o índice e o valor de cada elemento da lista. Podemos usar o desempacotamento para atribuir cada valor a uma variável."
   ]
  },
  {
   "cell_type": "markdown",
   "metadata": {},
   "source": [
    "Podemos utilizar o loop for para percorrer uma string:"
   ]
  },
  {
   "cell_type": "code",
   "execution_count": 27,
   "metadata": {},
   "outputs": [
    {
     "name": "stdout",
     "output_type": "stream",
     "text": [
      "P\n",
      "y\n",
      "t\n",
      "h\n",
      "o\n",
      "n\n",
      "1\n",
      "2\n",
      "3\n",
      "4\n",
      "5\n"
     ]
    }
   ],
   "source": [
    "for letra in 'Python':\n",
    "    print(letra)\n",
    "    \n",
    "# Podemos utilizar o loop for para percorrer uma lista:\n",
    "for numero in [1, 2, 3, 4, 5]:\n",
    "    print(numero)\n"
   ]
  },
  {
   "cell_type": "markdown",
   "metadata": {},
   "source": [
    "Vejamos outro exemplo de uso:"
   ]
  },
  {
   "cell_type": "code",
   "execution_count": 42,
   "metadata": {},
   "outputs": [
    {
     "name": "stdout",
     "output_type": "stream",
     "text": [
      "A frase digitada foi: A CERA CAUSA SUA CARECA\n",
      "O inverso da frase é: ACERAC AUS ASUAC AREC A\n",
      "A frase não é um palíndromo!\n"
     ]
    }
   ],
   "source": [
    "frase = str(input('Digite sua frase ou palavra: ')).strip().upper()  # Solicita e converte a frase para maiúsculas e remove espaços extras\n",
    "\n",
    "frase = frase.split() # Separa a frase em palavras\n",
    "\n",
    "nova_frase = []  # Inicializa a variável para armazenar a nova frase invertida\n",
    "\n",
    "for palavra in frase: # Percorre cada palavra da frase\n",
    "    nova_palavra = '' # Inicializa a variável para armazenar a nova palavra invertida\n",
    "    \n",
    "    for letra in palavra[::-1]: # Percorre cada letra da palavra de trás para frente\n",
    "        nova_palavra += letra  # Adiciona cada letra invertida à nova frase\n",
    "        \n",
    "    nova_frase.append(nova_palavra) # Adiciona cada palavra invertida à nova frase\n",
    "\n",
    "print(f'A frase digitada foi: {' '.join(frase)}') # Imprime a frase original\n",
    "print(f'O inverso da frase é: {' '.join(nova_frase)}') # Imprime a frase invertida\n",
    "\n",
    "# Verifica se é um palíndromo\n",
    "if nova_frase == frase:\n",
    "    print('A frase é um palíndromo!') # Imprime se for um palíndromo\n",
    "else: \n",
    "    print('A frase não é um palíndromo!') # Imprime se não for um palíndromo"
   ]
  },
  {
   "cell_type": "markdown",
   "metadata": {},
   "source": [
    "## As instruções break e continue\n",
    "\n",
    " Até agora, tratamos o corpo do loop como uma sequência indivisível e inseparável de instruções que são executadas completamente a cada turno do loop. No entanto, como desenvolvedor, você pode se deparar com as seguintes opções:\n",
    "\n",
    "parece que é desnecessário continuar o loop como um todo; você deve se abster de executar o corpo do loop e ir além. Por exemplo:\n",
    "\n",
    "parece que você precisa iniciar a próxima curva do loop sem concluir a execução da curva atual. Por exemplo:\n",
    "\n",
    "\n",
    "O Python fornece duas instruções especiais para a implementação dessas duas tarefas. Digamos, por uma questão de precisão, que sua existência na linguagem não é necessária - um programador experiente é capaz de codificar qualquer algoritmo sem essas instruções. Essas adições, que não melhoram o poder expressivo da linguagem, mas simplificam o trabalho do desenvolvedor, às vezes são chamadas de açúcar sintático.\n",
    "\n",
    "Essas duas instruções são:\n"
   ]
  },
  {
   "cell_type": "markdown",
   "metadata": {},
   "source": [
    "#### break\n",
    "Sai do loop imediatamente e termina incondicionalmente a operação do loop; o programa começa a executar a instrução mais próxima após o corpo do loop;"
   ]
  },
  {
   "cell_type": "code",
   "execution_count": 54,
   "metadata": {},
   "outputs": [
    {
     "name": "stdout",
     "output_type": "stream",
     "text": [
      "Dentro do laço. 1\n",
      "Dentro do laço. 2\n",
      "Fora do loop.\n"
     ]
    }
   ],
   "source": [
    "# break - exemplo\n",
    "for i in range(1, 6): # 1 a 5\n",
    "    if i == 3: # se i for igual a 3\n",
    "        break # sai do loop\n",
    "    print(\"Dentro do laço.\", i) # imprime o valor de i, mas não imprime o valor 3 pois o break sai do loop\n",
    "print(\"Fora do loop.\") # imprime fora do loop"
   ]
  },
  {
   "cell_type": "markdown",
   "metadata": {},
   "source": [
    "#### continue\n",
    "Se comporta como se o programa tivesse chegado ao fim do corpo; o próximo turno é iniciado e a expressão de condição é testada imediatamente."
   ]
  },
  {
   "cell_type": "code",
   "execution_count": 55,
   "metadata": {},
   "outputs": [
    {
     "name": "stdout",
     "output_type": "stream",
     "text": [
      "Dentro do laço. 1\n",
      "Dentro do laço. 2\n",
      "Dentro do laço. 4\n",
      "Dentro do laço. 5\n",
      "Fora do loop.\n"
     ]
    }
   ],
   "source": [
    "# continue - exemplo\n",
    "for i in range(1, 6): # 1 a 5\n",
    "    if i == 3: # se i for igual a 3\n",
    "        continue # pula o valor 3\n",
    "    print(\"Dentro do laço.\", i) # imprime o valor de i, mas não imprime o valor 3 pois o continue pula o valor 3. Porém, o loop continua\n",
    "print(\"Fora do loop.\") # imprime fora do loop"
   ]
  },
  {
   "cell_type": "markdown",
   "metadata": {},
   "source": [
    "#### O loop while e o ramo else"
   ]
  },
  {
   "cell_type": "markdown",
   "metadata": {},
   "source": [
    "Ambos os loops, while e for, têm um recurso interessante (e raramente usado).\n",
    "\n",
    "Como você pode ter suspeitado, os loops também podem ter o ramo else, como os ifs.\n",
    "\n",
    "O ramo else do loop sempre é executada uma vez, independentemente de o loop ter entrado em seu corpo ou não."
   ]
  },
  {
   "cell_type": "code",
   "execution_count": 1,
   "metadata": {},
   "outputs": [
    {
     "name": "stdout",
     "output_type": "stream",
     "text": [
      "1\n",
      "2\n",
      "3\n",
      "4\n",
      "else: 5\n"
     ]
    }
   ],
   "source": [
    "i = 1 # contador\n",
    "while i < 5: # enquanto contador for menor que 5\n",
    "    print(i) # imprime o contador\n",
    "    i += 1 # aumenta o contador\n",
    "else:\n",
    "    print(\"else:\", i) # imprime o contador quando for igual a 5"
   ]
  },
  {
   "cell_type": "markdown",
   "metadata": {},
   "source": [
    "Obteríamos o mesmo efeito se utilizar o operador menor ou igual a (<=) em vez de menor que (<) na condição do loop. Ou até mesmo uniciando o contador com o valor 0 e incrementando antes de imprimir o valor do contador."
   ]
  },
  {
   "cell_type": "markdown",
   "metadata": {},
   "source": [
    "#### O loop for e o ramo else\n",
    "se os loops for se comportarem de forma um pouco diferente - dê uma olhada no snippet no editor e execute-o."
   ]
  },
  {
   "cell_type": "code",
   "execution_count": 2,
   "metadata": {},
   "outputs": [
    {
     "name": "stdout",
     "output_type": "stream",
     "text": [
      "0\n",
      "1\n",
      "2\n",
      "3\n",
      "4\n",
      "else: 4\n"
     ]
    }
   ],
   "source": [
    "for i in range(5):  # Loop de 0 a 4\n",
    "    print(i)  # Imprime o valor do contador durante cada iteração\n",
    "else:  # Esta parte é executada quando o loop termina normalmente (quando i atinge 4)\n",
    "    print(\"else:\", i)  # Imprime o valor final de i quando o loop termina que é 4"
   ]
  },
  {
   "cell_type": "markdown",
   "metadata": {},
   "source": [
    "O loop for é projetado para iterar sobre uma sequência de valores, neste caso, a função range(5), que gera uma sequência de números de 0 a 4.\n",
    "\n",
    "Durante cada iteração do loop, o valor atual de i é impresso.\n",
    "\n",
    "Após a conclusão bem-sucedida do loop, a cláusula else é executada. Isso pode parecer um pouco contra intuitivo, pois geralmente associamos o \"else\" com condicionais (if-else), mas no caso dos loops for e while em Python, o bloco else é executado quando o loop é concluído normalmente, sem ser interrompido por uma instrução break.\n",
    "\n",
    "Neste exemplo, a cláusula else imprime o valor final de i quando o loop termina normalmente.\n",
    "\n",
    "Se o loop fosse interrompido por uma instrução break, o bloco else não seria executado. Portanto, a presença do bloco else aqui indica que o loop foi concluído sem ser interrompido por uma instrução break.\n"
   ]
  },
  {
   "cell_type": "code",
   "execution_count": 3,
   "metadata": {},
   "outputs": [
    {
     "name": "stdout",
     "output_type": "stream",
     "text": [
      "else: 111\n"
     ]
    }
   ],
   "source": [
    "i = 111  # Atribuímos um valor à variável i antes do loop\n",
    "for i in range(2, 1):  # O range(2, 1) não gera nenhum valor, pois o valor inicial é maior que o valor final\n",
    "    print(i)  # O corpo do loop não será executado\n",
    "else:\n",
    "    print(\"else:\", i)  # O bloco else será executado, imprimindo \"else:\" seguido do valor atual de i"
   ]
  },
  {
   "cell_type": "markdown",
   "metadata": {},
   "source": [
    "O corpo do loop não será executado aqui. Nota: atribuímos a variável i antes do loop.\n",
    "\n",
    "Quando o corpo do loop não é executado, a variável de controle retém o valor que tinha antes do loop.\n",
    "\n",
    "Nota: se a variável de controle não existir antes do início do loop, ela não existirá quando a execução atingir a filial do resto else."
   ]
  }
 ],
 "metadata": {
  "kernelspec": {
   "display_name": "Python 3",
   "language": "python",
   "name": "python3"
  },
  "language_info": {
   "codemirror_mode": {
    "name": "ipython",
    "version": 3
   },
   "file_extension": ".py",
   "mimetype": "text/x-python",
   "name": "python",
   "nbconvert_exporter": "python",
   "pygments_lexer": "ipython3",
   "version": "3.12.1"
  }
 },
 "nbformat": 4,
 "nbformat_minor": 2
}
