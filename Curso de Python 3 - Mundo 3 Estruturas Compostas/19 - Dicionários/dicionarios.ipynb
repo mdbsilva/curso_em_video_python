{
 "cells": [
  {
   "cell_type": "markdown",
   "metadata": {},
   "source": [
    "# Introdução a Linguagem Python\n",
    "\n",
    "## Dicionários\n",
    "\n",
    "Listas compostas comportam um ou mais valores. Cada valor receberá um índice numérico, iniciando em zero para identificar sua posição. Os valores são elementos.\n",
    "\n",
    "Com isso, podemos acessar os valores indicando sua posição\n",
    "\n",
    "Com dicionários, podemos acessar os dados através das chaves. Isso facilita a identificação dos dados\n",
    "\n",
    "Dicionários são identificados pelas chaves que envolvem os elementos.\n",
    "\n",
    "Inicializando um dicionário com dados = dict() ou podemos declarar como dados = {}\n",
    "\n",
    "Dentro das chaves, em vez de índices numéricos usamos chaves personalizadas\n",
    "\n",
    "Os dicionários são compostos de pares de chaves, e valores, separados por dois pontos.\n",
    "\n",
    "Dentro do dicionário, separamos pares de valores-chave com vírgulas e cada par é separado por dois pontos."
   ]
  },
  {
   "cell_type": "code",
   "execution_count": null,
   "metadata": {},
   "outputs": [],
   "source": [
    "dados = {'nome': 'Pedro', 'idade': 25}"
   ]
  },
  {
   "cell_type": "markdown",
   "metadata": {},
   "source": [
    "Para visualizar um determinado elemento declaramos da seguinte forma:\n",
    "\n",
    "Usamos a chave em vez do índice numérico. As chaves são como índices rotulados. Nós usamos porque nos ajudam a recuperar valores como 'Pedro' com base no seu significado.\n",
    "\n",
    "Só podemos usar uma chave por vez. Cada chave está associada a um valor"
   ]
  },
  {
   "cell_type": "code",
   "execution_count": null,
   "metadata": {},
   "outputs": [],
   "source": [
    "print(dados['nome'])\n"
   ]
  },
  {
   "cell_type": "markdown",
   "metadata": {},
   "source": [
    "Após acessar um valor, podemos armazená-lo em uma variável"
   ]
  },
  {
   "cell_type": "code",
   "execution_count": null,
   "metadata": {},
   "outputs": [],
   "source": [
    "nome_aluno = dados['nome']\n",
    "print(nome_aluno)"
   ]
  },
  {
   "cell_type": "markdown",
   "metadata": {},
   "source": [
    "As chaves de um dicionário podem ser números, boolean ou tuplas, mas o tipo mais comumente usado é string. Os valores podem ser de qualquer tipo, inclusive listas."
   ]
  },
  {
   "cell_type": "code",
   "execution_count": null,
   "metadata": {},
   "outputs": [],
   "source": [
    "lista = ['New York', 'Paris']\n",
    "locations = {\n",
    "    'headquarters': lista,\n",
    "    'flagship': 'Paris'\n",
    "}\n",
    "print(locations['headquarters'])"
   ]
  },
  {
   "cell_type": "markdown",
   "metadata": {},
   "source": [
    "### Adicionando um par de valores-chave\n",
    "\n",
    "Para atualizar um valor associado a uma chave nós acessamos o valor e atualizamos como faríamos com qualquer variável, codificando o operador de atribuição seguido do novo valor\n",
    "\n",
    "Para adicionar uma chave, codificamos o nome do dicionário e depois o nome da nova chave entre colchetes, seguido do operador de atribuição e o valor. O procedimento é semelhante a uma atualização, exceto pelo fato de que a chave não estava presente antes no dicionário."
   ]
  },
  {
   "cell_type": "code",
   "execution_count": null,
   "metadata": {},
   "outputs": [],
   "source": [
    "dados['sexo'] = 'M'\n",
    "print(dados)"
   ]
  },
  {
   "cell_type": "markdown",
   "metadata": {},
   "source": [
    "Podemos modificar da mesma forma:"
   ]
  },
  {
   "cell_type": "code",
   "execution_count": null,
   "metadata": {},
   "outputs": [],
   "source": [
    "dados['sexo'] = 'F'"
   ]
  },
  {
   "cell_type": "markdown",
   "metadata": {},
   "source": [
    "### Removendo um par de chave-valor\n",
    "\n",
    " Removemos de forma semelhante a de um elemento de uma lista, codificando o nome do dicionário, seguido da instrução .pop()\n",
    "\n",
    " Precisamos especificar qual a chave queremos remover entre os parênteses"
   ]
  },
  {
   "cell_type": "code",
   "execution_count": null,
   "metadata": {},
   "outputs": [],
   "source": [
    "actor_bio = {\n",
    "    'name': 'Bill Murray',\n",
    "    'idade': '70'\n",
    "}\n",
    "\n",
    "actor_bio.pop('idade')"
   ]
  },
  {
   "cell_type": "code",
   "execution_count": null,
   "metadata": {},
   "outputs": [],
   "source": [
    "print(actor_bio)"
   ]
  },
  {
   "cell_type": "markdown",
   "metadata": {},
   "source": [
    "Outros métodos:"
   ]
  },
  {
   "cell_type": "code",
   "execution_count": null,
   "metadata": {},
   "outputs": [],
   "source": [
    "# metodo get para acessar um valor\n",
    "print(actor_bio.get('name'))\n",
    "\n",
    "# metodo update para atualizar um dicionario\n",
    "actor_bio.update({'name': 'BillI Murray'})"
   ]
  },
  {
   "cell_type": "code",
   "execution_count": null,
   "metadata": {},
   "outputs": [],
   "source": [
    "# metodo clear para limpar um dicionario\n",
    "actor_bio.clear()"
   ]
  },
  {
   "cell_type": "markdown",
   "metadata": {},
   "source": [
    "Podemos armazenar o valor removido em uma variável\n",
    "\n",
    "Tentar remover um valor que não existe gera um erro. Para evitar isso, é boa prática ao remover chaves, verificar antes com o operador in se ela está presente no dicionário.\n",
    "\n",
    "Para remover elementos utilizamos o comando del"
   ]
  },
  {
   "cell_type": "code",
   "execution_count": null,
   "metadata": {},
   "outputs": [],
   "source": [
    "del dados['idade']\n",
    "print(dados)"
   ]
  },
  {
   "cell_type": "markdown",
   "metadata": {},
   "source": [
    "Verificando se um dicionário contém uma chave\n",
    "\n",
    "Para verificar uma determinada chave, utilizamos o operador in\n",
    "\n",
    "Tal como acontece com as listas, o operador in nos dará True quando a chave estiver presente e False quando não. Podemos armazenar essa informação em uma variável."
   ]
  },
  {
   "cell_type": "code",
   "execution_count": null,
   "metadata": {},
   "outputs": [],
   "source": [
    "print('Douglas' in dados)"
   ]
  },
  {
   "cell_type": "markdown",
   "metadata": {},
   "source": [
    "Considerando a seguinte estrutura:"
   ]
  },
  {
   "cell_type": "code",
   "execution_count": null,
   "metadata": {},
   "outputs": [],
   "source": [
    "filme = {\n",
    "  'titulo': 'Star Wars',\n",
    "  'ano': 1997,\n",
    "  'diretor': 'George Lucas'}"
   ]
  },
  {
   "cell_type": "markdown",
   "metadata": {},
   "source": [
    "Podemos acessar pelas chaves, valores ou ambos:\n",
    "\n",
    "Para iterar pelos valores, usamos o método .values()"
   ]
  },
  {
   "cell_type": "code",
   "execution_count": null,
   "metadata": {},
   "outputs": [],
   "source": [
    "print(filme.values())"
   ]
  },
  {
   "cell_type": "markdown",
   "metadata": {},
   "source": [
    "Para iterar pelas chaves, usamos o método .keys()"
   ]
  },
  {
   "cell_type": "code",
   "execution_count": null,
   "metadata": {},
   "outputs": [],
   "source": [
    "print(filme.keys())"
   ]
  },
  {
   "cell_type": "markdown",
   "metadata": {},
   "source": [
    " Para iterar pelos pares de valores-chave, usamos o método .items()"
   ]
  },
  {
   "cell_type": "code",
   "execution_count": null,
   "metadata": {},
   "outputs": [],
   "source": [
    "print(filme.items())"
   ]
  },
  {
   "cell_type": "markdown",
   "metadata": {},
   "source": [
    "Utilizando em laços"
   ]
  },
  {
   "cell_type": "code",
   "execution_count": null,
   "metadata": {},
   "outputs": [],
   "source": [
    "for chave, valor in filme.items():\n",
    "    # O titulo é Star Wars\n",
    "    # O ano é 1997\n",
    "    # O diretor é George Lucas\n",
    "    print(f'O {chave} é {valor}')"
   ]
  },
  {
   "cell_type": "markdown",
   "metadata": {},
   "source": [
    "Podemos utiliza listas, tuplas e dicionários em conjunto"
   ]
  },
  {
   "cell_type": "code",
   "execution_count": null,
   "metadata": {},
   "outputs": [],
   "source": [
    "locadora = [\n",
    "        {'titulo': 'Star Wars',\n",
    "         'ano': 1997,\n",
    "         'diretor': 'George Lucas'},\n",
    "        {'titulo': 'Avengers',\n",
    "         'ano': 2012,\n",
    "         'diretor': 'Joss Whedon'},\n",
    "        {'titulo': 'Matrix',\n",
    "         'ano': 1999,\n",
    "         'diretor': 'Wachowski'}]"
   ]
  },
  {
   "cell_type": "markdown",
   "metadata": {},
   "source": [
    "Cada dicionário é um elemento e recebe seu índice dentro da lista, assim como cada par de chave e valor do dicionário é um elemento.\n",
    "\n",
    "Acessamos primeiro o elemento da lista e depois a chave desejada ou até mesmo o dicionário completo"
   ]
  },
  {
   "cell_type": "code",
   "execution_count": null,
   "metadata": {},
   "outputs": [],
   "source": [
    "print(locadora[0]['ano'])\n",
    "print(locadora[2]['titulo'])\n",
    "print(locadora[1]) "
   ]
  },
  {
   "cell_type": "markdown",
   "metadata": {},
   "source": [
    "Ao utilizar em uma string formatada, deve-se ter atenção ao uso de aspas simples e duplas"
   ]
  },
  {
   "cell_type": "code",
   "execution_count": null,
   "metadata": {},
   "outputs": [],
   "source": [
    "pessoas = {'nome': 'Gustavo', 'sexo': 'M', 'idade': 22}\n",
    "print(pessoas)\n",
    "print(pessoas['nome'])\n",
    "print(pessoas['idade'])"
   ]
  },
  {
   "cell_type": "code",
   "execution_count": null,
   "metadata": {},
   "outputs": [],
   "source": [
    "print(f'O {pessoas[\"nome\"]} tem {pessoas[\"idade\"]} anos.')"
   ]
  },
  {
   "cell_type": "code",
   "execution_count": null,
   "metadata": {},
   "outputs": [],
   "source": [
    "print(pessoas.keys())"
   ]
  },
  {
   "cell_type": "code",
   "execution_count": null,
   "metadata": {},
   "outputs": [],
   "source": [
    "print(pessoas.values())\n"
   ]
  },
  {
   "cell_type": "code",
   "execution_count": null,
   "metadata": {},
   "outputs": [],
   "source": [
    "print(pessoas.items())"
   ]
  },
  {
   "cell_type": "markdown",
   "metadata": {},
   "source": [
    "Dicionários não suportam fatiamento como as lista. Utilizamos o método interno .copy() para contornar essa limitação"
   ]
  },
  {
   "cell_type": "code",
   "execution_count": null,
   "metadata": {},
   "outputs": [],
   "source": [
    "brasil = []\n",
    "estados = {}\n",
    "for loop in range(3):\n",
    "    estados['uf'] = str(input('Unidade Federativa: '))\n",
    "    estados['sigla'] = str(input('Sigla: '))\n",
    "    brasil.append(estados.copy())\n",
    "    \n",
    "# Laço para a lista\n",
    "for e in brasil:\n",
    "    # laço para o dicionario\n",
    "    for v in e.values():\n",
    "        print(v, end=' - ')\n",
    "    print()"
   ]
  },
  {
   "cell_type": "markdown",
   "metadata": {},
   "source": [
    "### Dicionários aninhados\n",
    "\n",
    "Podemos armazenar dicionários dentro de dicionários. Isso é chamado de aninhamento."
   ]
  },
  {
   "cell_type": "code",
   "execution_count": null,
   "metadata": {},
   "outputs": [],
   "source": [
    "dicionario_aninhado = {\n",
    "    'brasil': {'cidade': 'São Paulo'},\n",
    "    'usa': {'cidade': 'New York'}}"
   ]
  },
  {
   "cell_type": "markdown",
   "metadata": {},
   "source": [
    "Para acessar um valor aninhado, codificamos o nome do dicionário, seguido da chave do dicionário aninhado, seguido da chave do valor que queremos acessar"
   ]
  },
  {
   "cell_type": "code",
   "execution_count": null,
   "metadata": {},
   "outputs": [],
   "source": [
    "print(dicionario_aninhado['brasil']['cidade'])"
   ]
  },
  {
   "cell_type": "markdown",
   "metadata": {},
   "source": [
    "Se o dicionário possuir chaves repetidas, o Python irá sobrescrever o valor da chave repetida com o último valor encontrado. "
   ]
  },
  {
   "cell_type": "code",
   "execution_count": null,
   "metadata": {},
   "outputs": [],
   "source": [
    "# Se quiser colocar 3 cidades em cada pais\n",
    "dicionario_aninhado = {\n",
    "    'brasil': {'cidade': ['São Paulo', 'Rio de Janeiro', 'Belo Horizonte']},\n",
    "    'usa': {'cidade': ['New York', 'Los Angeles', 'Chicago']}}"
   ]
  },
  {
   "cell_type": "markdown",
   "metadata": {},
   "source": [
    "Se quisermos iterar por um dicionário aninhado, podemos usar dois loops for"
   ]
  },
  {
   "cell_type": "code",
   "execution_count": null,
   "metadata": {},
   "outputs": [],
   "source": [
    "for pais in dicionario_aninhado:\n",
    "    print(f'\\n{pais.upper()}:')\n",
    "    for cidade in dicionario_aninhado[pais]['cidade']:\n",
    "        print(cidade, end=', ')    "
   ]
  },
  {
   "cell_type": "markdown",
   "metadata": {},
   "source": [
    "Para iterar pelas chaves, usamos o método .keys()"
   ]
  },
  {
   "cell_type": "code",
   "execution_count": null,
   "metadata": {},
   "outputs": [],
   "source": [
    "player_scores = {\n",
    "    'ann': 13,\n",
    "    'michael': 20,\n",
    "    'ava': 34\n",
    "}\n",
    "\n",
    "\n",
    "print('Iterando pelas chaves')\n",
    "for player in player_scores.keys():\n",
    "    print(player)"
   ]
  },
  {
   "cell_type": "markdown",
   "metadata": {},
   "source": [
    "Para iterar pelos valores, usamos o método .values()"
   ]
  },
  {
   "cell_type": "code",
   "execution_count": null,
   "metadata": {},
   "outputs": [],
   "source": [
    "print('Iterando pelos valores')\n",
    "for score in player_scores.values():\n",
    "    print(score)"
   ]
  },
  {
   "cell_type": "markdown",
   "metadata": {},
   "source": [
    "Para iterar pelos pares de valores-chave, usamos o método .items()"
   ]
  },
  {
   "cell_type": "code",
   "execution_count": null,
   "metadata": {},
   "outputs": [],
   "source": [
    "print('Iterando pelos pares de valores-chave')\n",
    "for player, score in player_scores.items():\n",
    "    print(f'{player} - {score}')"
   ]
  }
 ],
 "metadata": {
  "kernelspec": {
   "display_name": "Python 3",
   "language": "python",
   "name": "python3"
  },
  "language_info": {
   "codemirror_mode": {
    "name": "ipython",
    "version": 3
   },
   "file_extension": ".py",
   "mimetype": "text/x-python",
   "name": "python",
   "nbconvert_exporter": "python",
   "pygments_lexer": "ipython3",
   "version": "3.12.1"
  }
 },
 "nbformat": 4,
 "nbformat_minor": 2
}
