{
 "cells": [
  {
   "cell_type": "markdown",
   "metadata": {},
   "source": [
    "# Introdução a Linguagem Python"
   ]
  },
  {
   "cell_type": "markdown",
   "metadata": {},
   "source": [
    "#### Interactive Help\n",
    "\n",
    "Em Python, a função help() é uma ferramenta útil para obter informações sobre módulos, funções, classes e métodos. Ela fornece uma descrição interativa da documentação associada a um objeto específico. Quando você chama a função help() e passa um objeto como argumento, o Python exibirá informações detalhadas sobre esse objeto.\n",
    "\n",
    "A função help() também pode ser usada diretamente no prompt de comando Python para obter informações sobre módulos e tópicos em geral.\n",
    "\n",
    "Além da função help(), muitos objetos em Python têm um atributo chamado __doc__, que contém a string de documentação associada ao objeto. Esse atributo é frequentemente utilizado para fornecer informações sobre o propósito e o funcionamento do objeto em questão. Você pode acessar o __doc__ diretamente para obter uma visão rápida da documentação."
   ]
  },
  {
   "cell_type": "code",
   "execution_count": null,
   "metadata": {},
   "outputs": [],
   "source": [
    "help(input) # retorna a documentação da função\n",
    "print(input.__doc__) # retorna a documentação da função de forma mais direta"
   ]
  },
  {
   "cell_type": "markdown",
   "metadata": {},
   "source": [
    "#### docstrings\n",
    "\n",
    "A string de documentação associada a um objeto é frequentemente chamada de \"docstring\". Uma docstring é uma convenção em Python e é usada para documentar o propósito, parâmetros, e comportamento de funções, classes e módulos. A docstring geralmente é colocada no início do bloco de código correspondente e pode ser de várias linhas.\n",
    "\n",
    "Ao escrever suas próprias funções, classes e módulos, é uma prática recomendada incluir docstrings claras e informativas para facilitar a compreensão do código por outros desenvolvedores e para você mesmo no futuro."
   ]
  },
  {
   "cell_type": "code",
   "execution_count": null,
   "metadata": {},
   "outputs": [],
   "source": [
    "def contador(i, f, p):\n",
    "    \"\"\"\n",
    "    Faz uma contagem e mostra na tela.\n",
    "    :param i: INÍCIO da contagem\n",
    "    :param f: FIM da contagem\n",
    "    :param p: PASSO daa contagem\n",
    "    :return: Sem retorno\n",
    "    \"\"\"\n",
    "    c = i\n",
    "    while c <= f:\n",
    "        print(f'{c}', end='..')\n",
    "        c += p\n",
    "    print('FIM!')\n",
    "\n",
    "\n",
    "contador(2, 10, 2)\n"
   ]
  },
  {
   "cell_type": "markdown",
   "metadata": {},
   "source": [
    "## Funões built in e módulos"
   ]
  },
  {
   "cell_type": "markdown",
   "metadata": {},
   "source": [
    "Funções built-in são funções já existentes no Python. \n",
    "\n",
    "Algumas delas são:\n",
    "\n",
    "print(), len(), input(), sum(), max(), min(), count(), etc.\n",
    "\n",
    "Além das funções pré definidas, podemos criar nossas próprias funções. Agora veremos que podemos utilizar funções criadas por outros programadores ou até mesmo pela comunidade Python.\n",
    "\n",
    "\n",
    "## Módulos (pacotes, bibliotecas)\n",
    "\n",
    "São pacotes de comandos e recursos, que são funcionalidades extras.\n",
    "\n",
    "Para usar um módulo usamos a palavra reservada import seguida do nome do módulo.\n",
    "\n",
    "Se quisermos importar apenas algumas funcionalidades específicas, usamos o comando \"from biblioteca import funcionalidade\"\n",
    "\n",
    "Depois de importar um módulo, podemos acessar seus dados e funcionalidades usando a notação de ponto, como math.pi e math.sqrt()."
   ]
  },
  {
   "cell_type": "code",
   "execution_count": null,
   "metadata": {},
   "outputs": [],
   "source": [
    "import math\n",
    "print(math.pi)  # 3.141592653589793\n",
    "# O módulo math também fornece funções matemáticas como sqrt() para calcular a raiz quadrada de um número.\n",
    "print(math.sqrt(25))  # 5.0"
   ]
  },
  {
   "cell_type": "markdown",
   "metadata": {},
   "source": [
    "O módulo math possui várias funções matemáticas.\n",
    "\n",
    "Podemos descobrir as funcionalidades que um módulo fornece usando a função dir() ou help().\n"
   ]
  },
  {
   "cell_type": "code",
   "execution_count": null,
   "metadata": {},
   "outputs": [],
   "source": [
    "# dir() retorna uma lista de todas as funcionalidades disponíveis em um módulo.\n",
    "print(dir(math))"
   ]
  },
  {
   "cell_type": "code",
   "execution_count": null,
   "metadata": {},
   "outputs": [],
   "source": [
    "# help() retorna uma lista de todas as funcionalidades disponíveis em um módulo, além de informações sobre como usar cada funcionalidade.\n",
    "print(help(math))"
   ]
  },
  {
   "cell_type": "markdown",
   "metadata": {},
   "source": [
    "statistics é outro módulo integrado que fornece funcionalidades para calcular estatísticas. Por exemplo, podemos usar a função mean() para calcular a média de uma lista de números."
   ]
  },
  {
   "cell_type": "code",
   "execution_count": null,
   "metadata": {},
   "outputs": [],
   "source": [
    "import statistics\n",
    "\n",
    "scores = [85, 93, 45, 87, 93]\n",
    "mean = statistics.mean(scores)\n",
    "print(f'Média: {mean}')  # Média: 80.6"
   ]
  },
  {
   "cell_type": "markdown",
   "metadata": {},
   "source": [
    "Podemos usar vários módulos diferentes no mesmo arquivo adicionando uma vírgula entre os nomes dos módulos.\n",
    "\n",
    "import math, statistics\n",
    "\n",
    "Se quisermos importar todas as funcionalidades de um módulo, podemos usar o comando \"from biblioteca import *\" ou simplesmente \"import biblioteca\"\n",
    "\n",
    "As vezes queremos usar apenas partes de um módulo. Podemos fazer isso usando a palavra reservada from.\n",
    "\n",
    "from math import pi\n",
    "\n",
    "Quando usamos from, não precisamos usar a notação de ponto para acessar as funcionalidades do módulo. Podemos usar a funcionalidade diretamente.\n",
    "\n"
   ]
  },
  {
   "cell_type": "markdown",
   "metadata": {},
   "source": [
    "### Aliasing - Podemos atribuir um apelido para um módulo\n",
    "\n",
    " Podemos modificar o nome do módulo que estamos importando usando a palavra reservada as.\n",
    "\n",
    "import statistics as stats\n",
    "\n",
    "Isso é útil quando o nome do módulo é muito longo ou quando o nome do módulo entra em conflito com o nome de uma variável que já existe. Isso é chamado de aliasing.\n",
    "\n",
    "import math as m"
   ]
  },
  {
   "cell_type": "markdown",
   "metadata": {},
   "source": [
    "### Bibliotecas\n",
    "\n",
    " Bibliotecas são coleções de módulos que nos ajudam a economizar tempo na codificação. Pense nisso como uma biblioteca de livros. Você pode ir à biblioteca pegar um livro em vez de escrever o livro inteiro. As bibliotecas são muito úteis quando você está escrevendo um programa. Você pode usar uma biblioteca para fazer algo que você não quer escrever do zero.\n",
    "\n",
    "Muitos módulos constituem uma biblioteca. Usamos math e statistics, que fazem parte da mesma biblioteca.\n",
    "\n",
    "Eles fazem parte da The Python Standard Library, que é uma coleção de módulos integrados que vêm com Python. # A biblioteca padrão é instalada com Python, portanto, não precisamos instalá-la separadamente.\n",
    "\n",
    "Se quisermos saber mais sobre bibliotecas devemos acessar a documentação oficial do Python.\n",
    "\n",
    "Se quisermos lidar com expressoes regulares podemos usar uma biblioteca de processamento de texto. O módulo re fornece funcionalidades para trabalhar com expressões regulares.\n",
    "\n",
    "Se quisermos lidar com datas e horas podemos usar uma biblioteca de data e hora. O módulo datetime fornece funcionalidades para trabalhar com datas e horas.\n",
    "\n",
    "Para instalar uma nova biblioteca devemos usar o comando pip install seguido do nome da biblioteca.\n",
    "\n",
    "pip significar Python Install Package. É um gerenciador de pacotes para Python. Um gerenciador de pacotes é um programa que instala e gerencia bibliotecas e módulos.\n",
    "\n",
    "Podemos por exemplo instalar a biblioteca matbplotlib que fornece funcionalidades para criar gráficos.\n",
    "\n",
    "Após a instalação podemos importar a biblioteca e usar suas funcionalidades."
   ]
  },
  {
   "cell_type": "code",
   "execution_count": null,
   "metadata": {},
   "outputs": [],
   "source": [
    "from matplotlib import pyplot"
   ]
  },
  {
   "cell_type": "markdown",
   "metadata": {},
   "source": [
    "Podemos usar a função plot() para criar um gráfico de linha e a função show() para exibir o gráfico.\n",
    "\n",
    "plot() aceita 2 parâmetros:\n",
    "\n",
    "uma lista de valores para o eixo x e uma lista de valores para o eixo y.\n",
    "\n",
    "show() não aceita parâmetros."
   ]
  },
  {
   "cell_type": "code",
   "execution_count": null,
   "metadata": {},
   "outputs": [],
   "source": [
    "x = [0, 1]\n",
    "y = [0, 1]\n",
    "pyplot.plot(x, y)\n",
    "pyplot.show()"
   ]
  },
  {
   "cell_type": "markdown",
   "metadata": {},
   "source": [
    "### Introdução ao NumPy\n",
    "\n",
    "Projetos da realidade tendem a usar dados em abundância, tornando as operações muito lentas. Imagine uma rede social.\n",
    "\n",
    "No início o número de usuário é pequeno, mas à medida que a rede cresce a lista de usuários torna-se muito longa.\n",
    "\n",
    "#NumPy, abreviação de Numerical Python, é uma biblioteca que fornece funcionalidades para trabalhar com grandes quantidades de dados. NumPy é uma das bibliotecas mais populares para trabalhar com dados numéricos. NumPy fornece uma estrutura de dados chamada array, que é semelhante a uma lista, mas muito mais rápida. NumPy também fornece funções para operações matemáticas em arrays.\n",
    "\n",
    "É comum abreviar NumPy como np."
   ]
  },
  {
   "cell_type": "code",
   "execution_count": null,
   "metadata": {},
   "outputs": [],
   "source": [
    "import numpy as np"
   ]
  },
  {
   "cell_type": "markdown",
   "metadata": {},
   "source": [
    "Numpy nos permite armazenar dados em arrays. Podemos criar um array a partir de uma lista usando a função array().\n",
    "\n",
    "array() aceita uma lista como parâmetro e retorna um array."
   ]
  },
  {
   "cell_type": "code",
   "execution_count": null,
   "metadata": {},
   "outputs": [],
   "source": [
    "np_array = np.array([1, 2, 3, 4, 5])"
   ]
  },
  {
   "cell_type": "markdown",
   "metadata": {},
   "source": [
    "Vejamos, por exemplo, se quisermos adicionar 1 a cada elemento de uma lista."
   ]
  },
  {
   "cell_type": "code",
   "execution_count": null,
   "metadata": {},
   "outputs": [],
   "source": [
    "print(np_array)  # [1 2 3 4 5]"
   ]
  },
  {
   "cell_type": "markdown",
   "metadata": {},
   "source": [
    "Com NumPy podemos fazer isso em uma única linha."
   ]
  },
  {
   "cell_type": "code",
   "execution_count": null,
   "metadata": {},
   "outputs": [],
   "source": [
    "print(np_array + 1)  # [2 3 4 5 6]"
   ]
  },
  {
   "cell_type": "markdown",
   "metadata": {},
   "source": [
    "Sem ele teríamos que usar um loop for. Iteramos sobre os índices da lista e adicionamos 1 a cada elemento.\n",
    "\n",
    "for i in range(len(np_array)):\n",
    "  np_array[i] += 1\n",
    "\n",
    "Com np_array = np.array([1, 2, 3, 4, 5]) estamos transformando uma lista em um array. Podemos criar um array vazio usando a função empty().\n",
    "\n",
    "Podemos converter listas com todos os tipos de dados, desde que todos os elementos sejam do mesmo tipo.\n",
    "\n",
    "Tentar criar um array com tipos de dados diferentes resultará em um array com um único tipo de dados."
   ]
  },
  {
   "cell_type": "code",
   "execution_count": null,
   "metadata": {},
   "outputs": [],
   "source": [
    "stock = np.array([10, 12, \"25\"])\n",
    "print(stock)  # ['10' '12' '25']"
   ]
  },
  {
   "cell_type": "markdown",
   "metadata": {},
   "source": [
    "Usamos a indexação para acessar elementos de um array. A indexação funciona da mesma forma que as listas. Podemos usar um índice negativo para acessar elementos a partir do final do array."
   ]
  },
  {
   "cell_type": "code",
   "execution_count": null,
   "metadata": {},
   "outputs": [],
   "source": [
    "print(stock[0])  # 10"
   ]
  },
  {
   "cell_type": "markdown",
   "metadata": {},
   "source": [
    "Para saber a composição de um array usamos a função size()."
   ]
  },
  {
   "cell_type": "code",
   "execution_count": null,
   "metadata": {},
   "outputs": [],
   "source": [
    "print(stock.size)  # 3\n",
    "print(np.size(stock))  # 3"
   ]
  },
  {
   "cell_type": "markdown",
   "metadata": {},
   "source": [
    "NumPy fornece funções para criar arrays com valores padrão. Por exemplo, podemos criar um array com todos os valores iguais a 0 usando a função zeros(). Precisamos somente informar o tamanho do array como parâmetro."
   ]
  },
  {
   "cell_type": "code",
   "execution_count": null,
   "metadata": {},
   "outputs": [],
   "source": [
    "print(np.zeros(5))  # [0. 0. 0. 0. 0.]"
   ]
  },
  {
   "cell_type": "markdown",
   "metadata": {},
   "source": [
    "zeros cria um array com valores de ponto flutuante. Podemos criar um array com valores inteiros usando a função zeros() e especificando o tipo de dados como int.\n",
    "\n",
    "Da mesma forma, podemos criar um array com todos os valores iguais a 1 usando a função ones().\n",
    "\n",
    "Se quisermos criar um array com valores diferentes, o método arange() cria um array com valores sequenciais. O array começa em zero. Precisamos informar o valor inicial, o valor final e o intervalo como parâmetros. O valor final não é incluído no array."
   ]
  },
  {
   "cell_type": "code",
   "execution_count": null,
   "metadata": {},
   "outputs": [],
   "source": [
    "print(np.arange(1, 10, 2))  # [1 3 5 7 9]"
   ]
  },
  {
   "cell_type": "markdown",
   "metadata": {},
   "source": [
    "Se quisermos criar um array com valores aleatórios, podemos usar a função random(). Precisamos informar o tamanho do array como parâmetro."
   ]
  },
  {
   "cell_type": "code",
   "execution_count": null,
   "metadata": {},
   "outputs": [],
   "source": [
    "print(np.random.random(5))  # O intervalo padrão é entre 0 e 1"
   ]
  },
  {
   "cell_type": "markdown",
   "metadata": {},
   "source": [
    "Podemos criar um array de números aleatórios inteiros entre 0 e 10 usando randint()."
   ]
  },
  {
   "cell_type": "code",
   "execution_count": null,
   "metadata": {},
   "outputs": [],
   "source": [
    "print(np.random.randint(1, 10, 5))"
   ]
  }
 ],
 "metadata": {
  "kernelspec": {
   "display_name": "Python 3",
   "language": "python",
   "name": "python3"
  },
  "language_info": {
   "codemirror_mode": {
    "name": "ipython",
    "version": 3
   },
   "file_extension": ".py",
   "mimetype": "text/x-python",
   "name": "python",
   "nbconvert_exporter": "python",
   "pygments_lexer": "ipython3",
   "version": "3.12.1"
  }
 },
 "nbformat": 4,
 "nbformat_minor": 2
}
