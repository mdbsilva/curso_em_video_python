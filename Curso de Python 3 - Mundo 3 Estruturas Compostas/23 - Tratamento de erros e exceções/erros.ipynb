{
 "cells": [
  {
   "cell_type": "markdown",
   "metadata": {},
   "source": [
    "# Introdução a Linguagem Python\n",
    "\n",
    "## Tratamento de Erros e Exceções\n",
    "\n",
    "Toda linguagem de programação possui:\n",
    "\n",
    "um alfabeto: conjunto de símbolos que podem ser usados para escrever programas\n",
    "\n",
    "um vocabulário: conjunto de palavras que podemos formar com os símbolos do alfabeto\n",
    "\n",
    "um lexicon: conjunto de palavras que têm um significado específico na linguagem de programação\n",
    "\n",
    "uma sintaxe: conjunto de regras que determinam como as palavras do vocabulário podem ser combinadas para formar programas válidos\n",
    "\n",
    "Às vezes, o Python não consegue entender o nosso código. Isso resulta em algo chamado SyntaxError. Isso geralmente acontece quando cometemos um erro de digitação ou esquecemos de fechar um parêntese, colchete ou aspas.\n",
    "\n",
    "Por exemplo:\n",
    "\n",
    ">if > 10:\n",
    ">\n",
    ">SyntaxError: invalid syntax\n",
    "\n",
    "O erro ocorre porque a palavra if existe no vocabulário do Python, mas não podemos usá-la sozinha. Precisamos combiná-la com outras palavras para formar uma instrução válida. O Python não sabe o que fazer com > 10 porque essa combinacão não faz sentido ferindo a sintaxe da linguagem.\n",
    "\n",
    "Erros de sintaxe geralmente ocorrem devido a erros de digitação, como palavras chave com erros ortográficos, como iff em vez de if.\n",
    "\n",
    "O recuo incorreto ou ausente resultará em um IndentationError, que é um tipo específico de SyntaxError.\n",
    "\n",
    "Colocar uma palavra chave no lugar errado também resultará em um SyntaxError.\n",
    "\n",
    ">+ 1 for item in [1, 2, 3]\n",
    "\n",
    "Esquecer símbolos , como dois pontos, colchetes ou parênteses, também resultará em um SyntaxError.\n",
    "\n",
    "Instruções incompletas também resultarão em um SyntaxError. Como por exemplo condicionais sem um bloco de código.\n",
    "\n",
    "O Python adiciona detalhes ao erro, como quando usamos uma string como nome de variável.\n",
    "\n",
    ">\"name\" = \"Ricky\"\n",
    ">\n",
    ">SyntaxError: can't assign to literal\n",
    "\n",
    "No console, o circunflexo (^) aponta para o local exato onde o erro ocorreu.\n",
    "\n",
    "As vezes o Python entende nosso código, mas não consegue executá-lo.\n",
    "\n",
    "O ZeroDivisionError ocorre quando tentamos dividir um número por zero.\n",
    "\n",
    ">share = 100 / 0 \n",
    ">\n",
    ">ZeroDivisionError: division by zero\n",
    "\n",
    "Um erro de exceção ocorre quando o Python entende o código, mas não consegue executá-lo. Isso geralmente ocorre quando tentamos executar uma operação inválida.\n",
    "\n",
    "O NameError ocorre quando tentamos usar uma variável que não existe.\n",
    "\n",
    ">share = size / 6\n",
    ">\n",
    ">NameError: name 'size' is not defined\n",
    "\n",
    "O TypeError ocorre quando tentamos executar uma operação em um tipo de dados que não suporta essa operação.\n",
    "\n",
    ">\"3\" + 1\n",
    ">\n",
    ">TypeError: can only concatenate str (not \"int\") to str\n",
    "\n",
    "FileNotFoundError ocorre quando tentamos abrir um arquivo que não existe ou erramos o caminho do arquivo.\n",
    ">open(\"file.txt\")\n",
    ">\n",
    ">FileNotFoundError: [Errno 2] No such file or directory: 'file.txt'\n",
    "\n",
    "AttributeError ocorre quando tentamos acessar um atributo que não existe.\n",
    "\n",
    ">\"3\".isalpha() \n",
    ">\n",
    ">AttributeError: 'int' object has no attribute 'isalpha'\n",
    "\n",
    "O texto mostrado quando uma exceção é lançada é chamado de traceback. O traceback mostra o caminho que o programa percorreu até o ponto em que ocorreu o erro e isso nos ajuda a depurar o código.\n",
    "\n",
    "Alguns métodos não produzem erros e são capazes de resolver os problemas sozinhos. \n",
    "\n",
    "count() retorna o número de ocorrências de um elemento em uma lista. Se o elemento não estiver na lista, ele retornará 0."
   ]
  },
  {
   "cell_type": "code",
   "execution_count": 1,
   "metadata": {},
   "outputs": [
    {
     "name": "stdout",
     "output_type": "stream",
     "text": [
      "0\n"
     ]
    }
   ],
   "source": [
    "grades = [\"A\", \"B\", \"C\", \"A\", \"B\", \"A\"]\n",
    "print(grades.count(\"D\"))  # 0"
   ]
  },
  {
   "cell_type": "markdown",
   "metadata": {},
   "source": [
    "É melhor ler o traceback de baixo para cima. O traceback mostra o caminho que o programa percorreu até o ponto em que ocorreu o erro. O último item do traceback é o erro real.\n",
    "\n",
    " Se o Python não conseguir importar um módulo, ele lançará um ModuleNotFoundError.\n",
    "\n",
    "Se um índice estiver fora do intervalo, o Python lançará um IndexError.\n",
    "\n",
    "Erros de Syntax são retornados antes do programa ser executado. Erros de exceção são retornados durante a execução do programa.\n",
    "\n",
    "Erros lógicos são erros que ocorrem quando o programa não faz o que deveria fazer. O programa é executado sem erros, mas o resultado não é o esperado.\n",
    "\n",
    "Unspected EOF significa que o Python encontrou o final do arquivo quando não deveria. Isso geralmente ocorre quando esquecemos de fechar um parêntese, colchete ou aspas."
   ]
  },
  {
   "cell_type": "markdown",
   "metadata": {},
   "source": [
    "### Levantando exceções\n",
    "\n",
    "Às vezes, queremos gerar uma exceção quando uma condição que definimos não é atendida."
   ]
  },
  {
   "cell_type": "code",
   "execution_count": 2,
   "metadata": {},
   "outputs": [
    {
     "data": {
      "text/plain": [
       "'slices = 18\\ndiners = 0\\nif diners < 1:\\n  # após a palavra chave raise, podemos usar a palavra chave Exception para criar uma exceção personalizada colocando o texto que queremos que apareça quando a exceção for levantada entre parênteses.\\n  raise Exception(\"There must be at least one diner.\")\\nelse:\\n  slices_per_diner = slices / diners\\n  print(f\"Each person gets {slices_per_diner} slices of pizza.\")'"
      ]
     },
     "execution_count": 2,
     "metadata": {},
     "output_type": "execute_result"
    }
   ],
   "source": [
    "\"\"\"slices = 18\n",
    "diners = 0\n",
    "if diners < 1:\n",
    "  # após a palavra chave raise, podemos usar a palavra chave Exception para criar uma exceção personalizada colocando o texto que queremos que apareça quando a exceção for levantada entre parênteses.\n",
    "  raise Exception(\"There must be at least one diner.\")\n",
    "else:\n",
    "  slices_per_diner = slices / diners\n",
    "  print(f\"Each person gets {slices_per_diner} slices of pizza.\")\"\"\""
   ]
  },
  {
   "cell_type": "markdown",
   "metadata": {},
   "source": [
    "A palavra chave raise é usada para levantar uma exceção. Quando a exceção é levantada, o programa para de ser executado e o traceback é mostrado.\n",
    "\n",
    "Podemos usar exceções para destacar quando algo não pode estar funcionando como deveria.\n",
    "\n",
    "Podemos usar condições para validar entradas e gerar execução quando as condições não são atendidas.\n",
    "\n",
    "Muitas vezes não queremos que um programa termine quando uma exceção é encontrada. Um bloco try except pode ser usado para tratamento de exceções!\n",
    "\n",
    "Os blocos try e except tender a ser usados onde sabemos que há uma chanve de a operação não ser possível. Por exemplo, quando tentamos abrir um arquivo, ele pode não existir. Nesse caso, podemos usar um bloco try except para lidar com a exceção.\n",
    "\n",
    "Usamos recuos para indicar que o código está dentro do bloco try. Se o código dentro do bloco try levantar uma exceção, o código dentro do bloco except será executado.\n",
    "\n",
    "Podemos usar pass para indicar que não queremos fazer nada no bloco except."
   ]
  },
  {
   "cell_type": "code",
   "execution_count": 4,
   "metadata": {},
   "outputs": [
    {
     "name": "stdout",
     "output_type": "stream",
     "text": [
      "Hellouser\n"
     ]
    }
   ],
   "source": [
    "try:\n",
    "    print('Hello' + 'user')\n",
    "except:\n",
    "    pass\n",
    "  \n",
    "# A palavra chave raise é usada junto com um tipo válido de erro e uma mensagem opicional. Geralmente é usado dentro do bloco de código except para levantar uma exceção quando uma condição é atendida."
   ]
  },
  {
   "cell_type": "markdown",
   "metadata": {},
   "source": [
    "\n",
    "try e except são estruturas fundamentais em Python para tratamento de exceções, permitindo que você lide com erros de forma controlada durante a execução do programa.\n",
    "\n",
    "A estrutura básica é a seguinte:"
   ]
  },
  {
   "cell_type": "code",
   "execution_count": null,
   "metadata": {},
   "outputs": [],
   "source": [
    "# No bloco try, você coloca o código que pode gerar exceções.\n",
    "try:  # Código que pode gerar exceções\n",
    "    num1 = int(input(\"Digite um número: \"))\n",
    "    num2 = int(input(\"Digite outro número: \"))\n",
    "    resultado = num1 / num2\n",
    "\n",
    "    # Se ocorrer uma exceção, o código dentro do bloco except correspondente será executado. Pode haver vários blocos except para lidar com diferentes tipos de exceções.\n",
    "except ValueError:  # Trata a ValueError\n",
    "    print(\"Digite apenas números inteiros.\")\n",
    "except ZeroDivisionError: # Trata a ZeroDivisionError\n",
    "    print(\"Não é possível dividir por zero.\")\n",
    "\n",
    "    # O bloco else é executado se nenhum erro ocorrer no bloco try.\n",
    "else:  # Executado se nenhum erro ocorrer no bloco try\n",
    "    print(f\"O resultado da divisão é: {resultado}\")\n",
    "\n",
    "    # O bloco finally é sempre executado, independentemente de ocorrerem exceções ou não. É útil para ações que precisam ser realizadas, como limpeza de recursos, independentemente do resultado do bloco try.\n",
    "finally: # Sempre é executado, independentemente de ocorrer exceções ou não\n",
    "    print(\"Encerrando o programa.\")"
   ]
  },
  {
   "cell_type": "markdown",
   "metadata": {},
   "source": [
    "Podemos usar a instrução else no final se quisermos executar algum código somente quando nenhum erro for levantado."
   ]
  },
  {
   "cell_type": "code",
   "execution_count": 5,
   "metadata": {},
   "outputs": [
    {
     "name": "stdout",
     "output_type": "stream",
     "text": [
      "No errors were found\n",
      "The try except block is finished\n"
     ]
    }
   ],
   "source": [
    "details = {\"name\": \"Ricky\", \"age\": 24, \"job\": \"Programmer\"}\n",
    "\n",
    "try:\n",
    "    age = details[\"age\"]\n",
    "except:\n",
    "    raise NameError(\"Age is not defined\")\n",
    "else:\n",
    "    print(\"No errors were found\")\n",
    "  \n",
    "# Podemos usar uma instrução finally para executar um código, independentemente de uma exceção ser levantada ou não.\n",
    "finally:\n",
    "    print(\"The try except block is finished\")"
   ]
  }
 ],
 "metadata": {
  "kernelspec": {
   "display_name": "Python 3",
   "language": "python",
   "name": "python3"
  },
  "language_info": {
   "codemirror_mode": {
    "name": "ipython",
    "version": 3
   },
   "file_extension": ".py",
   "mimetype": "text/x-python",
   "name": "python",
   "nbconvert_exporter": "python",
   "pygments_lexer": "ipython3",
   "version": "3.12.1"
  }
 },
 "nbformat": 4,
 "nbformat_minor": 2
}
