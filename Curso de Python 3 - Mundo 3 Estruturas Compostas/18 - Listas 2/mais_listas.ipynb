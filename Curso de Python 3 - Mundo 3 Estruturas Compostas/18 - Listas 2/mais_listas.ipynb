{
 "cells": [
  {
   "cell_type": "markdown",
   "metadata": {},
   "source": [
    "# Introdução a linguagem Python\n",
    "\n",
    "## Operações em listas\n",
    "\n",
    "A vida interior das listas. Veja o programa a seguir: "
   ]
  },
  {
   "cell_type": "code",
   "execution_count": 5,
   "metadata": {},
   "outputs": [
    {
     "name": "stdout",
     "output_type": "stream",
     "text": [
      "[2]\n"
     ]
    }
   ],
   "source": [
    "list_1 = [1]  # Cria a lista chamada list_1 com um elemento [1]\n",
    "\n",
    "list_2 = list_1  # Atribui a lista_1 a lista_2 - [1]\n",
    "\n",
    "list_1[0] = 2  # Altera o único elemento de list_1 para 2\n",
    "\n",
    "print(list_2)  # Imprime a lista_2 - [2]"
   ]
  },
  {
   "cell_type": "markdown",
   "metadata": {},
   "source": [
    "A parte surpreendente é que o programa produzirá: [2], não [1], que parece ser a solução óbvia já que a lista_2 foi criada antes da alteração da lista_1.\n",
    "\n",
    "A explicação é a seguinte: As listas (e muitas outras entidades Python complexas) são armazenadas de maneiras diferentes das variáveis comuns (escalares).\n",
    "\n",
    "O nome de uma variável comum é o nome de seu conteúdo, ou seja, o valor armazenado na memória do computador.\n",
    "\n",
    "O nome de uma lista é o nome de um local de memória onde a lista é armazenada.\n",
    "\n",
    "Sendo assim, em vez de ocupar o espaço de memória com uma cópia da lista, o Python simplesmente copia o nome da lista, o que significa que ambas as variáveis (list_1 e list_2) apontam para o mesmo local de memória.\n",
    "\n",
    "A atribuição: list_2 = list_1 copia o nome da matriz, não seu conteúdo. Na verdade, os dois nomes (list_1 e list_2) identificam o mesmo local na memória do computador. Modificar um deles afeta o outro e vice-versa.\n"
   ]
  },
  {
   "cell_type": "markdown",
   "metadata": {},
   "source": [
    "### Os poderes do fatiamento\n",
    "\n",
    "Felizmente, a solução está ao seu alcance - é chamada de fatia.\n",
    "\n",
    "Uma fatia é um elemento da sintaxe do Python que permite fazer uma cópia totalmente nova de uma lista ou de partes de uma lista.\n",
    "\n",
    "Na verdade, ele copia o conteúdo da lista, não o nome da lista."
   ]
  },
  {
   "cell_type": "code",
   "execution_count": 7,
   "metadata": {},
   "outputs": [
    {
     "name": "stdout",
     "output_type": "stream",
     "text": [
      "[1]\n"
     ]
    }
   ],
   "source": [
    "list_1 = [1] # Como antes, cria uma lista chamada list_1 com um elemento [1];\n",
    "\n",
    "list_2 = list_1[:] # Agora com o fatiamento, cria uma cópia completa da lista_1 e atribui a lista_2 - [1];\n",
    "\n",
    "list_1[0] = 2 # Sem alterar a lista_2, altera o único elemento de list_1 para 2;\n",
    "\n",
    "print(list_2) # Ao imprimir a lista_2, o resultado é [1], já que a lista_2 não foi alterada."
   ]
  },
  {
   "cell_type": "markdown",
   "metadata": {},
   "source": [
    "Esta parte discreta do código descrito como [:] é capaz de produzir uma nova lista.\n",
    "\n",
    "A sintaxe é a seguinte: my_list[start:end]\n",
    "\n",
    "start é o índice do primeiro elemento incluído na fatia;\n",
    "end é o índice do primeiro elemento não incluído na fatia.\n",
    "\n",
    "Se especificarmos o fim, mas não o início, a fatia começará no início da lista.\n",
    "\n",
    "Se especificarmos o início, mas não o fim, a fatia terminará no final da lista.\n",
    "\n",
    "Sendo assim, a fatia [:] cria uma cópia completa da lista. (Inicio ao fim)\n",
    "\n",
    "Lembrando que o fim é o índice do primeiro elemento não incluído na fatia. É como fim - 1; Se dizemos 1 até 10, o 10 não está incluído, então é 9 (Fica subentendido 10 - 1)"
   ]
  },
  {
   "cell_type": "markdown",
   "metadata": {},
   "source": [
    "#### Fatias - índices negativos"
   ]
  },
  {
   "cell_type": "code",
   "execution_count": 4,
   "metadata": {},
   "outputs": [
    {
     "name": "stdout",
     "output_type": "stream",
     "text": [
      "[8, 6, 4]\n",
      "[]\n",
      "[2, 4, 6]\n"
     ]
    }
   ],
   "source": [
    "from hmac import new\n",
    "\n",
    "\n",
    "my_list = [10, 8, 6, 4, 2]\n",
    "\n",
    "new_list = my_list[1:-1] # cria uma nova lista sem o primeiro e o último elemento da lista original. O primerio elemento é 10 e o último é 2.\n",
    "# Se o start especificar um elemento além do descrito no end (do início da lista), a fatia estará vazia:\n",
    "print(new_list) # [8, 6, 4]\n",
    "\n",
    "new_list = my_list[-1:1] # cria uma nova lista vazia já que o start é o último elemento da lista e o end é o segundo elemento da lista. Como o start é maior que o end, a fatia estará vazia. Lembre-se que o step é 1 por padrão e o índice negativo significa que a contagem começa do final da lista.\n",
    "print(new_list) # []\n",
    "\n",
    "new_list = my_list[-1:1:-1] # cria uma nova lista com os elementos da lista original na ordem inversa. O start é o último elemento da lista, o end é o segundo elemento da lista e o step é -1. O start é maior que o end, mas o step é negativo.\n",
    "print(new_list) # [2, 4, 6]"
   ]
  },
  {
   "cell_type": "markdown",
   "metadata": {},
   "source": [
    "### Mais sobre a instrução del\n",
    "\n",
    "A instrução del descrita anteriormente é capaz de excluir os elementos de uma lista de uma só vez e ela também pode excluir fatias:"
   ]
  },
  {
   "cell_type": "code",
   "execution_count": 9,
   "metadata": {},
   "outputs": [
    {
     "name": "stdout",
     "output_type": "stream",
     "text": [
      "[10, 4, 2]\n"
     ]
    }
   ],
   "source": [
    "my_list = [10, 8, 6, 4, 2]\n",
    "del my_list[1:3] # Exclui 8 e 6 da lista.\n",
    "print(my_list)  # outputs: [10, 4, 2]"
   ]
  },
  {
   "cell_type": "markdown",
   "metadata": {},
   "source": [
    "Também é possível excluir todos os elementos de uma só vez:"
   ]
  },
  {
   "cell_type": "code",
   "execution_count": 1,
   "metadata": {},
   "outputs": [
    {
     "name": "stdout",
     "output_type": "stream",
     "text": [
      "[]\n"
     ]
    }
   ],
   "source": [
    "\n",
    "my_list = [10, 8, 6, 4, 2]\n",
    "\n",
    "del my_list[:] # Exclui todos os elementos da lista. Restando uma lista vazia. Funcioa como o método clear(). Sem este [:] o comando del excluiria a lista e não apenas os elementos.\n",
    "\n",
    "print(my_list) # outputs: []"
   ]
  },
  {
   "cell_type": "markdown",
   "metadata": {},
   "source": [
    "A remoção da fatia do código muda bastante de significado. A instrução del excluirá a lista em si, não seu conteúdo."
   ]
  },
  {
   "cell_type": "code",
   "execution_count": 2,
   "metadata": {},
   "outputs": [],
   "source": [
    "my_list = [10, 8, 6, 4, 2]\n",
    "del my_list # Exclui a lista inteira. Não restará nada, então é como se a lista nunca tivesse sido criada."
   ]
  },
  {
   "cell_type": "code",
   "execution_count": 3,
   "metadata": {},
   "outputs": [
    {
     "ename": "NameError",
     "evalue": "name 'my_list' is not defined",
     "output_type": "error",
     "traceback": [
      "\u001b[1;31m---------------------------------------------------------------------------\u001b[0m",
      "\u001b[1;31mNameError\u001b[0m                                 Traceback (most recent call last)",
      "Cell \u001b[1;32mIn[3], line 1\u001b[0m\n\u001b[1;32m----> 1\u001b[0m \u001b[38;5;28mprint\u001b[39m(\u001b[43mmy_list\u001b[49m) \u001b[38;5;66;03m# Se tentarmos imprimir a lista recebemos oerro - NameError: name 'my_list' is not defined\u001b[39;00m\n",
      "\u001b[1;31mNameError\u001b[0m: name 'my_list' is not defined"
     ]
    }
   ],
   "source": [
    "print(my_list) # Se tentarmos imprimir a lista recebemos oerro - NameError: name 'my_list' is not defined"
   ]
  },
  {
   "cell_type": "markdown",
   "metadata": {},
   "source": [
    "### Os operadores in e not in\n",
    "\n",
    "O Python oferece dois operadores muito eficientes, capazes de examinar a lista para verificar se um valor específico é armazenado ou não na lista.\n",
    "\n",
    "\n",
    "elemento in my_list\n",
    "Retorna True se o elemento estiver na lista my_list\n",
    "\n",
    "elemento not in my_list\n",
    "Retorna True se o elemento não estiver na lista my_list"
   ]
  },
  {
   "cell_type": "code",
   "execution_count": 15,
   "metadata": {},
   "outputs": [
    {
     "name": "stdout",
     "output_type": "stream",
     "text": [
      "False\n",
      "True\n",
      "True\n"
     ]
    }
   ],
   "source": [
    "my_list = [0, 3, 12, 8, 2]\n",
    "\n",
    "print(5 in my_list) # False\n",
    "print(5 not in my_list) # True\n",
    "print(12 in my_list) # True"
   ]
  },
  {
   "cell_type": "markdown",
   "metadata": {},
   "source": [
    "### Filtrando com instruções if\n",
    "\n",
    "Lista de compreensão - List Comprehension\n",
    "\n",
    "Podemos usar list comprehesion para criar uma nova lista filtrando elementos de uma lista existente, como criar uma lista de high_scores com valores maiores que 20\n",
    "\n",
    "Uma compreensão de lista é, na verdade, uma lista, mas criada em andamento durante a execução do programa e não é descrita estaticamente.\n",
    "\n",
    "A sintaxe é a seguinte: \n",
    "\n",
    "[expression for element in iterable]\n",
    "\n",
    "A parte entre colchetes especifífca os dados que serão armazenados na lista e a cláusula for especifica os elementos que serão iterados.\n"
   ]
  },
  {
   "cell_type": "code",
   "execution_count": 6,
   "metadata": {},
   "outputs": [],
   "source": [
    "scores = [12, 47, 30,  29, 19, 35] # Lista de pontuações"
   ]
  },
  {
   "cell_type": "markdown",
   "metadata": {},
   "source": [
    "Ao usar uma condicional, a ordem usual é começar com a expressão, seguida pela instrução for e, em seguida, pela instrução if.\n",
    "\n",
    "A sintaxe é nova_lista = [expressão for elemento in lista_original if condição]\n",
    "\n",
    "Começamos como de costume com um loop for para iterar cada elemento da lista original como cada score em scores.\n",
    "\n",
    "Para copiar cada elemento na nova lista, escrevemos score como nossa expressão, sem aplicar nenhuma operação.\n",
    "\n",
    "Para filtrar elementos que atendam a uma determinada condição, adicionamos uma comdição if, como aqui onde apenas copiamos a pontuação se ela for maior que 20 com if score > 20"
   ]
  },
  {
   "cell_type": "code",
   "execution_count": 7,
   "metadata": {},
   "outputs": [
    {
     "name": "stdout",
     "output_type": "stream",
     "text": [
      "[29, 30, 35, 47]\n"
     ]
    }
   ],
   "source": [
    "high_scores = [score for score in scores if score > 20] # Lista de pontuações maiores que 20\n",
    "\n",
    "high_scores.sort() # Ordena a lista\n",
    "print(high_scores) # [29, 30, 35, 47]"
   ]
  },
  {
   "cell_type": "markdown",
   "metadata": {},
   "source": [
    "x ** 2 - especifica os dados que serão armazenados na lista. O valor de x será dado pela cláusula for, a cada iteração.\n",
    "\n",
    "for x in range(10) - especifica os elementos que serão iterados. O valor de x será dado pela cláusula for, a cada iteração no intervalo de 0 a 9."
   ]
  },
  {
   "cell_type": "code",
   "execution_count": 33,
   "metadata": {},
   "outputs": [
    {
     "name": "stdout",
     "output_type": "stream",
     "text": [
      "[0, 1, 4, 9, 16, 25, 36, 49, 64, 81]\n"
     ]
    }
   ],
   "source": [
    "squares = [x ** 2 for x in range(10)] # Cria uma lista com os quadrados dos números de 0 a 9.\n",
    "\n",
    "print(squares) # [0, 1, 4, 9, 16, 25, 36, 49, 64, 81]"
   ]
  },
  {
   "cell_type": "markdown",
   "metadata": {},
   "source": [
    "2 ** i - especifica os dados que serão armazenados na lista. O valor de i será dado pela cláusula for, a cada iteração.\n",
    "\n",
    "for i in range(8) - especifica os elementos que serão iterados. O valor de i será dado pela cláusula for, a cada iteração no intervalo de 0 a 7."
   ]
  },
  {
   "cell_type": "code",
   "execution_count": 35,
   "metadata": {},
   "outputs": [
    {
     "name": "stdout",
     "output_type": "stream",
     "text": [
      "[1, 2, 4, 8, 16, 32, 64, 128]\n"
     ]
    }
   ],
   "source": [
    "twos = [2 ** i for i in range(8)] # Cria uma lista com as potências de 2 de 0 a 7.\n",
    "\n",
    "print(twos) # [1, 2, 4, 8, 16, 32, 64, 128]"
   ]
  },
  {
   "cell_type": "markdown",
   "metadata": {},
   "source": [
    "x - especifica os dados que serão armazenados na lista. O valor de x será dado pela cláusula for, a cada iteração se atender a condição especificada na cláusula if. é como dizer \"Adicione o valor x a lista odds se o valor z da lista squares atender a condição (ser ímpar)\"."
   ]
  },
  {
   "cell_type": "code",
   "execution_count": 37,
   "metadata": {},
   "outputs": [
    {
     "name": "stdout",
     "output_type": "stream",
     "text": [
      "[1, 9, 25, 49, 81]\n"
     ]
    }
   ],
   "source": [
    "odds = [x for x in squares if x % 2 != 0] # Cria uma lista com os números ímpares da lista squares. Podemos usar uma lista existente para criar uma nova lista.\n",
    "\n",
    "print(odds) # [1, 9, 25, 49, 81]"
   ]
  },
  {
   "cell_type": "markdown",
   "metadata": {},
   "source": [
    "### Matrizes bidimensionais\n",
    "\n",
    "Uma matriz bidimensional é uma lista de listas. Cada lista dentro da lista é uma linha da matriz."
   ]
  },
  {
   "cell_type": "code",
   "execution_count": 10,
   "metadata": {},
   "outputs": [
    {
     "name": "stdout",
     "output_type": "stream",
     "text": [
      "[[0, 0, 0, 0, 0, 0, 0, 0], [0, 0, 0, 0, 0, 0, 0, 0], [0, 0, 0, 0, 0, 0, 0, 0], [0, 0, 0, 0, 0, 0, 0, 0], [0, 0, 0, 0, 0, 0, 0, 0], [0, 0, 0, 0, 0, 0, 0, 0], [0, 0, 0, 0, 0, 0, 0, 0], [0, 0, 0, 0, 0, 0, 0, 0]]\n"
     ]
    }
   ],
   "source": [
    "tabuleiro = []\n",
    "\n",
    "for i in range(8):\n",
    "    linha = [0 for i in range(8)] # Cria uma lista de 8 elementos com o valor 0.\n",
    "    tabuleiro.append(linha) # Adiciona a lista linha a lista tabuleiro.\n",
    "    \n",
    "print(tabuleiro) # Serão exibidas 8 listas com 8 elementos cada."
   ]
  },
  {
   "cell_type": "markdown",
   "metadata": {},
   "source": [
    "Como as compreensões da lista podem ser aninhadas, podemos reduzir a criação da placa da seguinte maneira:"
   ]
  },
  {
   "cell_type": "code",
   "execution_count": 9,
   "metadata": {},
   "outputs": [
    {
     "name": "stdout",
     "output_type": "stream",
     "text": [
      "[[0, 0, 0, 0, 0, 0, 0, 0], [0, 0, 0, 0, 0, 0, 0, 0], [0, 0, 0, 0, 0, 0, 0, 0], [0, 0, 0, 0, 0, 0, 0, 0], [0, 0, 0, 0, 0, 0, 0, 0], [0, 0, 0, 0, 0, 0, 0, 0], [0, 0, 0, 0, 0, 0, 0, 0], [0, 0, 0, 0, 0, 0, 0, 0]]\n"
     ]
    }
   ],
   "source": [
    "tabuleiro = [[0 for i in range(8)] for j in range(8)] # Cria uma lista de 8 listas com 8 elementos cada.\n",
    "\n",
    "print(tabuleiro) # Serão exibidas 8 listas com 8 elementos cada."
   ]
  },
  {
   "cell_type": "markdown",
   "metadata": {},
   "source": [
    "tabuleiro - é a lista que será criada.\n",
    "\n",
    "[0 for i in range(8)] - especifica os dados que serão armazenados na lista. O valor de 0 será armazenado na lista tabuleiro, a cada iteração.\n",
    "\n",
    "for j in range(8) - especifica os elementos que serão iterados. O valor de j será dado pela cláusula for, a cada iteração no intervalo de 0 a 7.\n",
    "\n",
    "Resumidamente a parte interna da compreensão da lista cria uma lista com 8 elementos com o valor 0 e a parte externa cria uma lista com 8 listas com 8 elementos cada.\n",
    "\n",
    "Cada campo contém um par de índices que devem ser dados para acessar o conteúdo do campo:\n",
    "\n",
    "Vamos colocar algumas peças de xadrez no tabuleiro. Primeiro, vamos adicionar todas as torres:"
   ]
  },
  {
   "cell_type": "code",
   "execution_count": 41,
   "metadata": {},
   "outputs": [],
   "source": [
    "tabuleiro[0][0] = \"Torre Preta\"\n",
    "tabuleiro[0][7] = \"Torre Preta\"\n",
    "tabuleiro[7][0] = \"Torre Branca\"\n",
    "tabuleiro[7][7] = \"Torre Branca\"\n",
    "# Cavalheiros\n",
    "tabuleiro[0][1] = \"Cavalo Preto\"\n",
    "tabuleiro[0][6] = \"Cavalo Preto\"\n",
    "tabuleiro[7][1] = \"Cavalo Branco\"\n",
    "tabuleiro[7][6] = \"Cavalo Branco\""
   ]
  },
  {
   "cell_type": "markdown",
   "metadata": {},
   "source": [
    "#### Natureza multidimensional das listas: aplicações avançadas\n",
    "\n",
    "Vamos aprofundar a natureza multidimensional das listas. Para encontrar qualquer elemento de uma lista bidimensional, você precisa usar duas coordenadas:\n",
    "\n",
    "- a vertical (número da linha)\n",
    "- e horizontal (número da coluna).\n",
    "  \n",
    "Imagine que você está desenvolvendo um software para uma estação meteorológica automática. O dispositivo registra a temperatura do ar a cada hora e faz isso durante todo o mês. Isso gera um total de 24 × 31 = 744 valores. Vamos tentar criar uma lista capaz de armazenar todos esses resultados.\n",
    "\n",
    "Primeiro, você precisa decidir que tipo de dados seria adequado para essa aplicação. Nesse caso, um float seria o melhor, já que este termômetro é capaz de medir a temperatura com uma precisão de 0,1 ° C.\n",
    "\n",
    "Em seguida, você toma uma decisão arbitrária de que as linhas gravarão as leituras de hora em hora (para que a linha tenha 24 elementos) e cada uma das linhas será atribuída a um dia do mês (vamos supor que cada mês tenha 31 dias, então você precisa de 31 linhas). Aqui está o par apropriado de compreensões (h é para hora, d para dia):"
   ]
  },
  {
   "cell_type": "code",
   "execution_count": 12,
   "metadata": {},
   "outputs": [
    {
     "name": "stdout",
     "output_type": "stream",
     "text": [
      "[[0.0, 0.0, 0.0, 0.0, 0.0, 0.0, 0.0, 0.0, 0.0, 0.0, 0.0, 0.0, 0.0, 0.0, 0.0, 0.0, 0.0, 0.0, 0.0, 0.0, 0.0, 0.0, 0.0, 0.0], [0.0, 0.0, 0.0, 0.0, 0.0, 0.0, 0.0, 0.0, 0.0, 0.0, 0.0, 0.0, 0.0, 0.0, 0.0, 0.0, 0.0, 0.0, 0.0, 0.0, 0.0, 0.0, 0.0, 0.0], [0.0, 0.0, 0.0, 0.0, 0.0, 0.0, 0.0, 0.0, 0.0, 0.0, 0.0, 0.0, 0.0, 0.0, 0.0, 0.0, 0.0, 0.0, 0.0, 0.0, 0.0, 0.0, 0.0, 0.0], [0.0, 0.0, 0.0, 0.0, 0.0, 0.0, 0.0, 0.0, 0.0, 0.0, 0.0, 0.0, 0.0, 0.0, 0.0, 0.0, 0.0, 0.0, 0.0, 0.0, 0.0, 0.0, 0.0, 0.0], [0.0, 0.0, 0.0, 0.0, 0.0, 0.0, 0.0, 0.0, 0.0, 0.0, 0.0, 0.0, 0.0, 0.0, 0.0, 0.0, 0.0, 0.0, 0.0, 0.0, 0.0, 0.0, 0.0, 0.0], [0.0, 0.0, 0.0, 0.0, 0.0, 0.0, 0.0, 0.0, 0.0, 0.0, 0.0, 0.0, 0.0, 0.0, 0.0, 0.0, 0.0, 0.0, 0.0, 0.0, 0.0, 0.0, 0.0, 0.0], [0.0, 0.0, 0.0, 0.0, 0.0, 0.0, 0.0, 0.0, 0.0, 0.0, 0.0, 0.0, 0.0, 0.0, 0.0, 0.0, 0.0, 0.0, 0.0, 0.0, 0.0, 0.0, 0.0, 0.0], [0.0, 0.0, 0.0, 0.0, 0.0, 0.0, 0.0, 0.0, 0.0, 0.0, 0.0, 0.0, 0.0, 0.0, 0.0, 0.0, 0.0, 0.0, 0.0, 0.0, 0.0, 0.0, 0.0, 0.0], [0.0, 0.0, 0.0, 0.0, 0.0, 0.0, 0.0, 0.0, 0.0, 0.0, 0.0, 0.0, 0.0, 0.0, 0.0, 0.0, 0.0, 0.0, 0.0, 0.0, 0.0, 0.0, 0.0, 0.0], [0.0, 0.0, 0.0, 0.0, 0.0, 0.0, 0.0, 0.0, 0.0, 0.0, 0.0, 0.0, 0.0, 0.0, 0.0, 0.0, 0.0, 0.0, 0.0, 0.0, 0.0, 0.0, 0.0, 0.0], [0.0, 0.0, 0.0, 0.0, 0.0, 0.0, 0.0, 0.0, 0.0, 0.0, 0.0, 0.0, 0.0, 0.0, 0.0, 0.0, 0.0, 0.0, 0.0, 0.0, 0.0, 0.0, 0.0, 0.0], [0.0, 0.0, 0.0, 0.0, 0.0, 0.0, 0.0, 0.0, 0.0, 0.0, 0.0, 0.0, 0.0, 0.0, 0.0, 0.0, 0.0, 0.0, 0.0, 0.0, 0.0, 0.0, 0.0, 0.0], [0.0, 0.0, 0.0, 0.0, 0.0, 0.0, 0.0, 0.0, 0.0, 0.0, 0.0, 0.0, 0.0, 0.0, 0.0, 0.0, 0.0, 0.0, 0.0, 0.0, 0.0, 0.0, 0.0, 0.0], [0.0, 0.0, 0.0, 0.0, 0.0, 0.0, 0.0, 0.0, 0.0, 0.0, 0.0, 0.0, 0.0, 0.0, 0.0, 0.0, 0.0, 0.0, 0.0, 0.0, 0.0, 0.0, 0.0, 0.0], [0.0, 0.0, 0.0, 0.0, 0.0, 0.0, 0.0, 0.0, 0.0, 0.0, 0.0, 0.0, 0.0, 0.0, 0.0, 0.0, 0.0, 0.0, 0.0, 0.0, 0.0, 0.0, 0.0, 0.0], [0.0, 0.0, 0.0, 0.0, 0.0, 0.0, 0.0, 0.0, 0.0, 0.0, 0.0, 0.0, 0.0, 0.0, 0.0, 0.0, 0.0, 0.0, 0.0, 0.0, 0.0, 0.0, 0.0, 0.0], [0.0, 0.0, 0.0, 0.0, 0.0, 0.0, 0.0, 0.0, 0.0, 0.0, 0.0, 0.0, 0.0, 0.0, 0.0, 0.0, 0.0, 0.0, 0.0, 0.0, 0.0, 0.0, 0.0, 0.0], [0.0, 0.0, 0.0, 0.0, 0.0, 0.0, 0.0, 0.0, 0.0, 0.0, 0.0, 0.0, 0.0, 0.0, 0.0, 0.0, 0.0, 0.0, 0.0, 0.0, 0.0, 0.0, 0.0, 0.0], [0.0, 0.0, 0.0, 0.0, 0.0, 0.0, 0.0, 0.0, 0.0, 0.0, 0.0, 0.0, 0.0, 0.0, 0.0, 0.0, 0.0, 0.0, 0.0, 0.0, 0.0, 0.0, 0.0, 0.0], [0.0, 0.0, 0.0, 0.0, 0.0, 0.0, 0.0, 0.0, 0.0, 0.0, 0.0, 0.0, 0.0, 0.0, 0.0, 0.0, 0.0, 0.0, 0.0, 0.0, 0.0, 0.0, 0.0, 0.0], [0.0, 0.0, 0.0, 0.0, 0.0, 0.0, 0.0, 0.0, 0.0, 0.0, 0.0, 0.0, 0.0, 0.0, 0.0, 0.0, 0.0, 0.0, 0.0, 0.0, 0.0, 0.0, 0.0, 0.0], [0.0, 0.0, 0.0, 0.0, 0.0, 0.0, 0.0, 0.0, 0.0, 0.0, 0.0, 0.0, 0.0, 0.0, 0.0, 0.0, 0.0, 0.0, 0.0, 0.0, 0.0, 0.0, 0.0, 0.0], [0.0, 0.0, 0.0, 0.0, 0.0, 0.0, 0.0, 0.0, 0.0, 0.0, 0.0, 0.0, 0.0, 0.0, 0.0, 0.0, 0.0, 0.0, 0.0, 0.0, 0.0, 0.0, 0.0, 0.0], [0.0, 0.0, 0.0, 0.0, 0.0, 0.0, 0.0, 0.0, 0.0, 0.0, 0.0, 0.0, 0.0, 0.0, 0.0, 0.0, 0.0, 0.0, 0.0, 0.0, 0.0, 0.0, 0.0, 0.0], [0.0, 0.0, 0.0, 0.0, 0.0, 0.0, 0.0, 0.0, 0.0, 0.0, 0.0, 0.0, 0.0, 0.0, 0.0, 0.0, 0.0, 0.0, 0.0, 0.0, 0.0, 0.0, 0.0, 0.0], [0.0, 0.0, 0.0, 0.0, 0.0, 0.0, 0.0, 0.0, 0.0, 0.0, 0.0, 0.0, 0.0, 0.0, 0.0, 0.0, 0.0, 0.0, 0.0, 0.0, 0.0, 0.0, 0.0, 0.0], [0.0, 0.0, 0.0, 0.0, 0.0, 0.0, 0.0, 0.0, 0.0, 0.0, 0.0, 0.0, 0.0, 0.0, 0.0, 0.0, 0.0, 0.0, 0.0, 0.0, 0.0, 0.0, 0.0, 0.0], [0.0, 0.0, 0.0, 0.0, 0.0, 0.0, 0.0, 0.0, 0.0, 0.0, 0.0, 0.0, 0.0, 0.0, 0.0, 0.0, 0.0, 0.0, 0.0, 0.0, 0.0, 0.0, 0.0, 0.0], [0.0, 0.0, 0.0, 0.0, 0.0, 0.0, 0.0, 0.0, 0.0, 0.0, 0.0, 0.0, 0.0, 0.0, 0.0, 0.0, 0.0, 0.0, 0.0, 0.0, 0.0, 0.0, 0.0, 0.0], [0.0, 0.0, 0.0, 0.0, 0.0, 0.0, 0.0, 0.0, 0.0, 0.0, 0.0, 0.0, 0.0, 0.0, 0.0, 0.0, 0.0, 0.0, 0.0, 0.0, 0.0, 0.0, 0.0, 0.0], [0.0, 0.0, 0.0, 0.0, 0.0, 0.0, 0.0, 0.0, 0.0, 0.0, 0.0, 0.0, 0.0, 0.0, 0.0, 0.0, 0.0, 0.0, 0.0, 0.0, 0.0, 0.0, 0.0, 0.0]]\n"
     ]
    }
   ],
   "source": [
    "temperaturas = [[0.0 for h in range(24)] for d in range(31)]"
   ]
  },
  {
   "cell_type": "markdown",
   "metadata": {},
   "source": [
    "Toda a matriz está preenchida com zeros agora. Você pode supor que ela é atualizada automaticamente usando agentes de hardware especiais. O que você precisa fazer é esperar que a matriz seja preenchida com medidas.\n",
    "\n",
    "Agora é hora de determinar a temperatura média mensal ao meio-dia. Adicione todas as 31 leituras gravadas ao meio-dia e divida a soma por 31. Você pode supor que a temperatura da meia-noite é armazenada primeiro. Aqui está o código relevante:"
   ]
  },
  {
   "cell_type": "code",
   "execution_count": 44,
   "metadata": {},
   "outputs": [
    {
     "name": "stdout",
     "output_type": "stream",
     "text": [
      "Temperatura média ao meio-dia: 0.0\n"
     ]
    }
   ],
   "source": [
    "temps = [[0.0 for h in range(24)] for d in range(31)] # Lista bidimensional com 31 linhas e 24 colunas.\n",
    "total = 0.0 # Variável para armazenar a soma das temperaturas.\n",
    "\n",
    "for day in temps: # Loop através da lista temps.\n",
    "    total += day[11] # Adiciona o valor da temperatura ao meio-dia a variável total.\n",
    "\n",
    "average = total / 31 # Calcula a temperatura média ao meio-dia.\n",
    "\n",
    "print(\"Temperatura média ao meio-dia:\", average)"
   ]
  },
  {
   "cell_type": "markdown",
   "metadata": {},
   "source": [
    "Observação: a variável day usada pelo loop for não é escalar; cada passagem pela matriz day itera por todas as linhas na temps a atribui às linhas subsequentes da matriz; portanto, é uma lista. Ele precisa ser indexado com 11 para acessar o valor de temperatura medido ao meio-dia. Em outras palavras, day[11] é um elemento de uma lista que é um elemento de outra lista.\n",
    "\n",
    "Agora, encontre a temperatura mais alta durante todo o mês - veja o código:"
   ]
  },
  {
   "cell_type": "code",
   "execution_count": 45,
   "metadata": {},
   "outputs": [
    {
     "name": "stdout",
     "output_type": "stream",
     "text": [
      "A maior temperatura foi: 0.0\n"
     ]
    }
   ],
   "source": [
    "temps = [[0.0 for h in range(24)] for d in range(31)] # Lista bidimensional com 31 linhas e 24 colunas.\n",
    "\n",
    "highest = -100.0 # Variável para armazenar a maior temperatura.\n",
    "\n",
    "for day in temps: # Loop através da lista temps.\n",
    "    for temp in day: # Loop através da lista day.\n",
    "        if temp > highest: # Se o valor da temperatura for maior que o valor da variável highest:\n",
    "            highest = temp # Atribui o valor da temperatura a variável highest.\n",
    "\n",
    "print(\"A maior temperatura foi:\", highest)"
   ]
  },
  {
   "cell_type": "markdown",
   "metadata": {},
   "source": [
    "a variável day itera por todas as 31 linhas na matriz temps. Cada dia (day) é uma lista de 24 elementos (horas). A variável temp itera por todos os 24 elementos da linha atual (day) que são valores de temperatura.\n",
    "\n",
    "O Python não limita a profundidade da inclusão na lista. Aqui você pode ver um exemplo de uma matriz tridimensional:\n",
    "\n",
    "Imagine um hotel. É um grande hotel composto de três edifícios, de 15 andares cada. Há 20 salas em cada andar. Para isso, você precisa de uma matriz que possa coletar e processar informações sobre as salas ocupadas/livres.\n",
    "\n",
    "1. Primeira etapa - o tipo dos elementos da matriz. Nesse caso, um valor booleano (True/False) seria adequado.\n",
    "\n",
    "2. Etapa dois - Análise calma da situação. Resuma as informações disponíveis: três edifícios, 15 andares, 20 salas."
   ]
  },
  {
   "cell_type": "code",
   "execution_count": 46,
   "metadata": {},
   "outputs": [],
   "source": [
    "rooms = [[[False for r in range(20)] for f in range(15)] for t in range(3)]"
   ]
  },
  {
   "cell_type": "markdown",
   "metadata": {},
   "source": [
    "A lista rooms é uma lista tridimensional. A primeira dimensão (índice 0) representa o número do edifício (0, 1 ou 2). A segunda dimensão (índice 1) representa o número do andar (0 a 14). A terceira dimensão (índice 2) representa o número da sala (0 a 19).\n",
    "\n",
    "Agora você pode reservar um quarto para dois noivos: no segundo edifício, no décimo andar, quarto 14:"
   ]
  },
  {
   "cell_type": "code",
   "execution_count": 48,
   "metadata": {},
   "outputs": [
    {
     "name": "stdout",
     "output_type": "stream",
     "text": [
      "20\n"
     ]
    }
   ],
   "source": [
    "rooms[1][9][13] = True # Reserva o quarto 14 do décimo andar do segundo edifício.\n",
    "\n",
    "# Verifique se há vagas no 15º andar do terceiro edifício:\n",
    "vacancy = 0\n",
    "\n",
    "for room_number in range(20):\n",
    "    if not rooms[2][14][room_number]:\n",
    "        vacancy += 1\n",
    "        \n",
    "print(vacancy) # 20"
   ]
  },
  {
   "cell_type": "markdown",
   "metadata": {},
   "source": [
    "#### Listas - alguns programas simples\n",
    "\n",
    "Agora, queremos mostrar alguns programas simples que utilizam listas. \n",
    "\n",
    "O primeiro deles tenta encontrar o maior valor na lista. Veja o código no editor."
   ]
  },
  {
   "cell_type": "code",
   "execution_count": 16,
   "metadata": {},
   "outputs": [
    {
     "name": "stdout",
     "output_type": "stream",
     "text": [
      "17\n"
     ]
    }
   ],
   "source": [
    "my_list = [17, 3, 11, 5, 1, 9, 7, 15, 13]\n",
    "\n",
    "largest = my_list[0] # Assume temporariamente que o primeiro elemento é o maior.\n",
    "\n",
    "for i in range(1, len(my_list)): # Loop através da lista.\n",
    "  # O primeiro argumento de range() é 1, porque o primeiro elemento já foi assumido como o maior. Então, não precisamos compará-lo com ele mesmo.Seguimos a partir do segundo até o último elemento, definido por len(my_list) que retorna o tamanho da lista.\n",
    "  \n",
    "    if my_list[i] > largest: # Se o elemento atual for maior que o maior encontrado até agora:\n",
    "      \n",
    "        largest = my_list[i] # Atualiza o maior valor encontrado.\n",
    "        \n",
    "print(largest)"
   ]
  },
  {
   "cell_type": "markdown",
   "metadata": {},
   "source": [
    "Agora vamos encontrar a localização de um determinado elemento dentro de uma lista:"
   ]
  },
  {
   "cell_type": "code",
   "execution_count": 15,
   "metadata": {},
   "outputs": [
    {
     "name": "stdout",
     "output_type": "stream",
     "text": [
      "Elemento encontrado no índice 4\n"
     ]
    }
   ],
   "source": [
    "my_list = [1, 2, 3, 4, 5, 6, 7, 8, 9, 10]\n",
    "\n",
    "to_find = 5 # O elemento que estamos procurando.\n",
    "\n",
    "found = False # Define como False até que o elemento seja encontrado.\n",
    "\n",
    "for i in range(len(my_list)):\n",
    "    found = my_list[i] == to_find # Verifica cada elemento. Se for encontrado, found é True.\n",
    "    \n",
    "    if found: # Se found for True:\n",
    "        break # Sai do loop.\n",
    "\n",
    "if found: # Se found for True:\n",
    "    print(\"Elemento encontrado no índice\", i) # Imprime o índice onde o elemento foi encontrado.\n",
    "else:\n",
    "    print(\"ausente\")"
   ]
  },
  {
   "cell_type": "markdown",
   "metadata": {},
   "source": [
    "O valor de destino é armazenado na variável to_find;\n",
    "O status atual da pesquisa é armazenado na variável found (True/False)\n",
    "\n",
    "Quando found se torna True, o loop for é encerrado.\n",
    "\n",
    "O python oferece uma maneira mais simples de fazer isso: o operador in.\n",
    "\n",
    "Também existem métodos de lista que podem fazer isso."
   ]
  },
  {
   "cell_type": "code",
   "execution_count": 16,
   "metadata": {},
   "outputs": [
    {
     "name": "stdout",
     "output_type": "stream",
     "text": [
      "Encontrei no índice 4\n"
     ]
    }
   ],
   "source": [
    "# O método index() retorna o índice do primeiro elemento com um valor específico.\n",
    "print(f'Encontrei no índice {my_list.index(to_find)}') # outputs: 4"
   ]
  },
  {
   "cell_type": "markdown",
   "metadata": {},
   "source": [
    "Vamos supor que você tenha escolhido os seguintes números na loteria: \n",
    "\n",
    "3, 7, 11, 42, 34, 49.\n",
    "\n",
    "Os números que foram sorteados são: \n",
    "\n",
    "5, 11, 9, 42, 3, 49.\n",
    "\n",
    "A pergunta é: quantos números você acertou?"
   ]
  },
  {
   "cell_type": "code",
   "execution_count": 20,
   "metadata": {},
   "outputs": [
    {
     "name": "stdout",
     "output_type": "stream",
     "text": [
      "4\n"
     ]
    }
   ],
   "source": [
    "acertos = 0 # Número de acertos.\n",
    "\n",
    "drawn = [5, 11, 9, 42, 3, 49] # Números sorteados.\n",
    "\n",
    "bets = [3, 7, 11, 42, 34, 49] # Números apostados.\n",
    "\n",
    "for number in bets: # Loop através dos números apostados.\n",
    "  \n",
    "    if number in drawn: # Se o número apostado estiver entre os sorteados:\n",
    "      \n",
    "        acertos += 1 # Atualiza o número de acertos.\n",
    "\n",
    "print(acertos)"
   ]
  },
  {
   "cell_type": "markdown",
   "metadata": {},
   "source": [
    "## Listas em aplicativos avançados\n",
    "\n",
    "### Listas em listas\n",
    "\n",
    "As listas podem ser armazenadas em listas - isso é chamado de lista aninhada.\n",
    "\n",
    "Listas aninhadas, também conhecidas como listas dentro de listas, são estruturas de dados em que uma lista contém outras listas como elementos. Isso permite criar estruturas mais complexas, representando dados em várias dimensões. Vamos explorar esse conceito com uma explicação didática e um exemplo prático.\n",
    "\n",
    "Em Python, uma lista é uma coleção ordenada de elementos que pode conter diferentes tipos de dados. Por exemplo:"
   ]
  },
  {
   "cell_type": "code",
   "execution_count": 21,
   "metadata": {},
   "outputs": [],
   "source": [
    "animais = ['cachorro', 'gato', 'pássaro']"
   ]
  },
  {
   "cell_type": "markdown",
   "metadata": {},
   "source": [
    "Agora, imagine que cada elemento da lista acima pode ter informações adicionais, como idade e cor. Em vez de criar duas listas separadas (uma para os tipos de animais e outra para as informações adicionais), podemos usar listas aninhadas:"
   ]
  },
  {
   "cell_type": "code",
   "execution_count": 23,
   "metadata": {},
   "outputs": [],
   "source": [
    "animais_info = [['cachorro', 3, 'marrom'], ['gato', 2, 'preto'], ['pássaro', 1, 'verde']]"
   ]
  },
  {
   "cell_type": "markdown",
   "metadata": {},
   "source": [
    "Aqui, cada sublista contém o nome do animal, idade e cor. Esta é uma lista aninhada.\n",
    "\n",
    "Lista aninhada com informações sobre animais"
   ]
  },
  {
   "cell_type": "code",
   "execution_count": 24,
   "metadata": {},
   "outputs": [],
   "source": [
    "animais_info = [['cachorro', 3, 'marrom'], ['gato', 2, 'preto'], ['pássaro', 1, 'verde']]"
   ]
  },
  {
   "cell_type": "markdown",
   "metadata": {},
   "source": [
    "Acessando informações específicas"
   ]
  },
  {
   "cell_type": "code",
   "execution_count": 25,
   "metadata": {},
   "outputs": [],
   "source": [
    "\n",
    "primeiro_animal = animais_info[0] # Primeiro elemento da lista animais_info"
   ]
  },
  {
   "cell_type": "code",
   "execution_count": 30,
   "metadata": {},
   "outputs": [
    {
     "name": "stdout",
     "output_type": "stream",
     "text": [
      "Nome: cachorro\n"
     ]
    }
   ],
   "source": [
    "nome_do_primeiro_animal = primeiro_animal[0] # Primeiro elemento da lista primeiro_animal\n",
    "\n",
    "print(f\"Nome: {nome_do_primeiro_animal}\")"
   ]
  },
  {
   "cell_type": "code",
   "execution_count": 29,
   "metadata": {},
   "outputs": [
    {
     "name": "stdout",
     "output_type": "stream",
     "text": [
      "Idade: 3 anos\n"
     ]
    }
   ],
   "source": [
    "idade_do_primeiro_animal = primeiro_animal[1] # Segundo elemento da lista primeiro_animal\n",
    "\n",
    "print(f\"Idade: {idade_do_primeiro_animal} anos\")"
   ]
  },
  {
   "cell_type": "code",
   "execution_count": 28,
   "metadata": {},
   "outputs": [
    {
     "name": "stdout",
     "output_type": "stream",
     "text": [
      "Cor: marrom\n"
     ]
    }
   ],
   "source": [
    "cor_do_primeiro_animal = primeiro_animal[2] # Terceiro elemento da lista primeiro_animal\n",
    "\n",
    "print(f\"Cor: {cor_do_primeiro_animal}\")"
   ]
  },
  {
   "cell_type": "markdown",
   "metadata": {},
   "source": [
    "Cada lista dentro da lista é um elemento, sendo assim recebe um índice que pode ser acessado. Além disso, cada elemento dentro da lista aninhada também pode ser acessado por meio de um índice. Por exemplo:"
   ]
  },
  {
   "cell_type": "code",
   "execution_count": 31,
   "metadata": {},
   "outputs": [
    {
     "name": "stdout",
     "output_type": "stream",
     "text": [
      "marrom\n"
     ]
    }
   ],
   "source": [
    "print(animais_info[0][2]) # Acessando o terceiro elemento da primeira lista da lista animais_info."
   ]
  }
 ],
 "metadata": {
  "kernelspec": {
   "display_name": "Python 3",
   "language": "python",
   "name": "python3"
  },
  "language_info": {
   "codemirror_mode": {
    "name": "ipython",
    "version": 3
   },
   "file_extension": ".py",
   "mimetype": "text/x-python",
   "name": "python",
   "nbconvert_exporter": "python",
   "pygments_lexer": "ipython3",
   "version": "3.12.1"
  }
 },
 "nbformat": 4,
 "nbformat_minor": 2
}
