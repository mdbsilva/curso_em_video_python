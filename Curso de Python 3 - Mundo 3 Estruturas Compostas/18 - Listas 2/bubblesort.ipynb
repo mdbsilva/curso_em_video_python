{
 "cells": [
  {
   "cell_type": "markdown",
   "metadata": {},
   "source": [
    "# # Introdução a linguagem Python\n",
    "\n",
    "## Classificação de listas simples: o algoritmo de classificação bubblesort\n",
    "\n",
    "Agora que você pode efetivamente manipular os elementos das listas, é hora de aprender a classificá-las. Muitos algoritmos de classificação foram inventados até agora, que diferem muito na velocidade e na complexidade. Vamos mostrar um algoritmo muito simples, fácil de entender, mas infelizmente não muito eficiente. É usado muito raramente, e certamente não para listas grandes e extensas.\n",
    "\n",
    "Digamos que uma lista pode ser classificada de duas maneiras:\n",
    "\n",
    "- crescente (ou mais precisamente - não decrescente) - se, em cada par de elementos adjacentes, o primeiro elemento não for maior que o último;\n",
    "\n",
    "- decrescente (ou mais precisamente - não crescente) - se, em cada par de elementos adjacentes, o primeiro elemento não for menor que o último.\n",
    "\n",
    "Nas seções a seguir, classificaremos a lista em ordem crescente, para que os números sejam ordenados do menor para o maior. Aqui está a lista:\n",
    "\n",
    "8, 10, 6, 2, 4.\n",
    "\n",
    "Vamos tentar usar a seguinte abordagem: vamos pegar o primeiro e o segundo elementos e compará-los; se determinarmos que eles estão na ordem errada (ou seja, o primeiro é maior que o segundo), vamos trocá-los; se o pedido for válido, não faremos nada. Uma rápida olhada em nossa lista confirma a última; os elementos 01 e 02 estão na ordem correta, como em 8<10.\n",
    "\n",
    ">8, 10, 6, 2, 4. \n",
    "\n",
    "Agora, observe o segundo e o terceiro elementos. Eles estão nas posições erradas. Temos que trocá-los:\n",
    "\n",
    ">8, 10,  6, 2, 4\n",
    ">\n",
    ">8,  6, 10, 2, 4\n",
    "\n",
    "Vamos mais além e olhamos para o terceiro e o quarto elementos. Novamente, isso não é o que deveria ser. Temos que trocá-los:\n",
    "\n",
    ">8, 6, 10,  2, 4\n",
    ">\n",
    ">8, 6,  2, 10, 4\n",
    "\n",
    "Agora vamos verificar o quarto e o quinto elementos. Sim, eles também estão nas posições erradas. Outra troca ocorre:\n",
    "\n",
    ">8, 6, 2, 10,  4\n",
    ">\n",
    ">8, 6, 2,  4, 10\n",
    "\n",
    "A primeira passagem pela lista já está concluída. Ainda estamos longe de terminar nosso trabalho, mas algo curioso aconteceu enquanto isso. O maior elemento, 10, já foi ao fim da lista. Observe que este é o local desejado. Todos os elementos restantes formam uma confusão pitoresca, mas este já está em vigor.\n",
    "\n",
    "Agora vamos começar com a segunda passagem pela lista. Analisamos o primeiro e o segundo elementos - uma troca é necessária:\n",
    "\n",
    ">8, 6, 2,  4, 10\n",
    ">\n",
    ">6, 8, 2,  4, 10\n",
    "\n",
    "Tempo para o segundo e terceiro elementos: temos que trocá-los também:\n",
    "\n",
    ">6, 8, 2, 4, 10\n",
    ">\n",
    ">6, 2, 8, 4, 10\n",
    "\n",
    "Agora, o terceiro e o quarto elementos e a segunda passagem estão concluídos, pois 8 já está em vigor:\n",
    "\n",
    "Começamos o próximo passe imediatamente. Observe o primeiro e o segundo elementos com cuidado; outra trocar é necessária:\n",
    "\n",
    ">6, 2, 8, 4, 10\n",
    ">\n",
    ">2, 6, 4, 8, 10\n",
    "\n",
    "Agora 6 precisa ser implementado. Trocamos o segundo e o terceiro elementos:\n",
    "\n",
    ">2, 6, 4, 8, 10\n",
    ">\n",
    ">2, 4, 6, 8, 10\n",
    "\n",
    "A lista já está classificada. Não temos mais nada a fazer. Isso é exatamente o que queremos.\n",
    "\n",
    ">2, 4, 6, 8, 10\n",
    "\n",
    "Agora, vamos tentar resumir o que fizemos. Nós:\n",
    "\n",
    "- percorremos a lista, comparando cada par de elementos adjacentes e trocando-os se necessário;\n",
    "- repetimos o processo até que uma passagem completa pela lista não exija nenhuma troca.\n",
    "\n",
    "### Ordenando uma lista\n",
    "\n",
    "Quantos passos precisamos para classificar a lista inteira?\n",
    "\n",
    "Resolvemos esse problema da seguinte maneira: introduzimos outra variável ; sua tarefa é observar se alguma troca foi feita durante a passagem ou não; se não houver troca, a lista já está classificada e nada mais precisa ser feito. Criamos uma variável chamada swapped e atribuímos um valor de False a ela para indicar que não há swaps. Caso contrário, ele será atribuído como True.\n"
   ]
  },
  {
   "cell_type": "code",
   "execution_count": 4,
   "metadata": {},
   "outputs": [
    {
     "name": "stdout",
     "output_type": "stream",
     "text": [
      "[2, 4, 6, 8, 10]\n",
      "Trocas feitas: 8\n"
     ]
    }
   ],
   "source": [
    "lista = [8, 10, 6, 2, 4]  # Lista para ordenar\n",
    "\n",
    "trocar = True # A variável que monitora se houve trocas feitas na lista. Inicialmente, definido como True para entrar no loop while.\n",
    "trocas = 0 # Contador de trocas feitas na lista.\n",
    "\n",
    "while trocar: # Enquanto uma troca for feita, continue o loop.\n",
    "\n",
    "    trocar = False  # Não há trocas até agora. Se passarmos por todo o loop e não houver trocas, o valor permanecerá False e saberemos que a lista está classificada.\n",
    "\n",
    "    for i in range(len(lista) - 1): # Loop através da lista. len(lista) - 1 é usado porque o último elemento não precisa ser verificado.\n",
    "        if lista[i] > lista[i + 1]: # Se o elemento atual for maior que o próximo elemento, então:\n",
    "            trocar = True # Continue o loop enquanto houver trocas.\n",
    "            lista[i], lista[i + 1] = lista[i + 1], lista[i] # Troque os dois elementos.\n",
    "            trocas += 1 # Adicione 1 ao contador de trocas.\n",
    "print(lista)\n",
    "print(f'Trocas feitas: {trocas}')"
   ]
  },
  {
   "cell_type": "markdown",
   "metadata": {},
   "source": [
    "### A ordenação por bolhas - versão interativa\n",
    "\n",
    "Esse método de classificação é chamado de ordenação por bolhas, porque os elementos \"flutuam\" para a superfície, como bolhas em um tanque de água. É um método muito simples, mas não muito eficiente. A complexidade do algoritmo é O(n2), o que significa que o número de operações necessárias cresce quadraticamente com o número de elementos na lista. Isso é muito ruim, especialmente quando você tem uma lista grande."
   ]
  },
  {
   "cell_type": "code",
   "execution_count": 5,
   "metadata": {},
   "outputs": [
    {
     "name": "stdout",
     "output_type": "stream",
     "text": [
      "[2, 4, 6, 8, 10]\n"
     ]
    }
   ],
   "source": [
    "\n",
    "while trocar: # Enquanto uma troca for feita, continue o loop.\n",
    "    \n",
    "    trocar = False # Não há trocas até agora. Se passarmos por todo o loop e não houver trocas, o valor permanecerá False e saberemos que a lista está classificada.\n",
    "    \n",
    "    for i in range(len(lista) - 1): # Loop através da lista. len(my_list) - 1 é usado porque o último elemento não precisa ser verificado.\n",
    "        \n",
    "        if lista[i] > lista[i + 1]: # Se o elemento atual for maior que o próximo elemento, então:\n",
    "            \n",
    "            swapped = True\n",
    "            lista[i], lista[i + 1] = lista[i + 1], lista[i] # Troque os dois elementos.\n",
    "\n",
    "print(lista)"
   ]
  },
  {
   "cell_type": "markdown",
   "metadata": {},
   "source": [
    "Python, no entanto, tem seus próprios mecanismos de classificação. Ninguém precisa escrever seus próprios tipos, pois há um número suficiente de ferramentas prontas para o uso.\n",
    "\n",
    "Se você quiser que o Python classifique sua lista, é possível fazer o seguinte:"
   ]
  },
  {
   "cell_type": "code",
   "execution_count": 6,
   "metadata": {},
   "outputs": [
    {
     "name": "stdout",
     "output_type": "stream",
     "text": [
      "[2, 4, 6, 8, 10]\n"
     ]
    }
   ],
   "source": [
    "my_list = [8, 10, 6, 2, 4]\n",
    "my_list.sort()\n",
    "print(my_list)"
   ]
  },
  {
   "cell_type": "markdown",
   "metadata": {},
   "source": [
    "Como você pode ver, todas as listas têm um método chamado sort(), que as classifica o mais rápido possível. Você já aprendeu sobre alguns dos métodos de lista antes e em breve aprenderá mais sobre outros.\n",
    "\n",
    "NOTA: sort() é um método que não retorna nenhum valor. Ele apenas classifica a lista. Se você tentar atribuir o resultado a uma nova variável, a nova variável será None.\n",
    "\n",
    "Após usar sort() a lista original é alterada. Se você não quiser alterar a lista original, você pode usar a função sorted() que retorna uma lista classificada e não altera a original."
   ]
  },
  {
   "cell_type": "code",
   "execution_count": 6,
   "metadata": {},
   "outputs": [
    {
     "name": "stdout",
     "output_type": "stream",
     "text": [
      "[2, 4, 6, 8, 10]\n",
      "None\n"
     ]
    }
   ],
   "source": [
    "# Com sort() - a lista original é alterada.\n",
    "\n",
    "lista = [8, 10, 6, 2, 4] # Lista original.\n",
    "\n",
    "lista.sort() # A lista original é alterada.\n",
    "\n",
    "print(lista) # [2, 4, 6, 8, 10]\n",
    "\n",
    "lista2 = lista.sort() # sort() não retorna nenhum valor. Esse é um bom exemplo de sintaxe correta, mas semantica incorreta. Não será mostrado um erro, mas a variável lista2 será None, oque pode não ser o que você queria.\n",
    "\n",
    "print(lista2) # None"
   ]
  },
  {
   "cell_type": "markdown",
   "metadata": {},
   "source": [
    "Ao usar sort() numa lista de números, os números são classificados em ordem crescente, sejam eles inteiros ou de ponto flutuante, negativos ou positivos.\n",
    "\n",
    "Ao usar sort() em uma lista de com strings, os valores são ordenados em ordem alfabética"
   ]
  },
  {
   "cell_type": "code",
   "execution_count": 7,
   "metadata": {},
   "outputs": [
    {
     "name": "stdout",
     "output_type": "stream",
     "text": [
      "[8, 10, 6, 2, 4]\n",
      "[2, 4, 6, 8, 10]\n"
     ]
    }
   ],
   "source": [
    "# Com sorted() - uma nova lista é criada.\n",
    "\n",
    "lista = [8, 10, 6, 2, 4] # Lista original.\n",
    "\n",
    "lista2 = sorted(lista) # Uma nova lista é criada.\n",
    "\n",
    "print(lista) # [8, 10, 6, 2, 4]\n",
    "print(lista2) # [2, 4, 6, 8, 10]"
   ]
  },
  {
   "cell_type": "markdown",
   "metadata": {},
   "source": [
    "Podemos gerar uma lista na ordem decrescente usando o parâmetro reverse=True no método sort() ou na função sorted(). \n",
    "\n",
    "Porém também existe um método chamado reverse() que inverte a ordem dos elementos da lista. Esse método não retorna nenhum valor, ele apenas inverte a lista, assim como o método sort().\n"
   ]
  },
  {
   "cell_type": "markdown",
   "metadata": {},
   "source": [
    "### Encontrando dados extremos\n",
    "\n",
    "Para explorar os dados que armazenamos em listas, muitas vezes é útil encontrar os valores extremos: O mínimo e o máximo."
   ]
  },
  {
   "cell_type": "code",
   "execution_count": 8,
   "metadata": {},
   "outputs": [
    {
     "name": "stdout",
     "output_type": "stream",
     "text": [
      "[3, 5, 4, 6, 7, 2, 1]\n"
     ]
    }
   ],
   "source": [
    "pontos = [3, 5, 4, 6, 7, 2, 1]\n",
    "print(pontos)"
   ]
  },
  {
   "cell_type": "markdown",
   "metadata": {},
   "source": [
    "Para encontrar o maior número em uma lista de dados, codificamos max(), com o nome da lista entre os parênteses."
   ]
  },
  {
   "cell_type": "code",
   "execution_count": 9,
   "metadata": {},
   "outputs": [
    {
     "name": "stdout",
     "output_type": "stream",
     "text": [
      "7\n"
     ]
    }
   ],
   "source": [
    "print(max(pontos))"
   ]
  },
  {
   "cell_type": "markdown",
   "metadata": {},
   "source": [
    "Para encontrar o menor, codificamos min()"
   ]
  },
  {
   "cell_type": "code",
   "execution_count": 10,
   "metadata": {},
   "outputs": [
    {
     "name": "stdout",
     "output_type": "stream",
     "text": [
      "1\n"
     ]
    }
   ],
   "source": [
    "print(min(pontos))"
   ]
  },
  {
   "cell_type": "markdown",
   "metadata": {},
   "source": [
    "#### Somando dados\n",
    "\n",
    "Saber a soma dos números nas listas é útil ao comparar diferentes conjuntos de dados, como a diferença nas inscrições semanais em dois meses.\n"
   ]
  },
  {
   "cell_type": "code",
   "execution_count": 11,
   "metadata": {},
   "outputs": [],
   "source": [
    "junho = [30, 6, 20, 12]\n",
    "julho = [20, 5, 100, 40]"
   ]
  },
  {
   "cell_type": "markdown",
   "metadata": {},
   "source": [
    "Para calcular o total de uma lista, usamos sum() com o nome da lista entre os parênteses.\n",
    "\n",
    "Para reutilizar a soma da lista, podemos salvar o resultado em uma variável."
   ]
  },
  {
   "cell_type": "code",
   "execution_count": 12,
   "metadata": {},
   "outputs": [
    {
     "name": "stdout",
     "output_type": "stream",
     "text": [
      "68\n",
      "165\n"
     ]
    }
   ],
   "source": [
    "print(sum(junho))\n",
    "print(sum(julho))"
   ]
  },
  {
   "cell_type": "markdown",
   "metadata": {},
   "source": [
    "#### Unindo listas de dados\n",
    "\n",
    "Frequentemente encontraremos diferentes conjuntos de dados que devemos combinar em um só, como o valor das vendas no fim de semana."
   ]
  },
  {
   "cell_type": "code",
   "execution_count": 13,
   "metadata": {},
   "outputs": [
    {
     "name": "stdout",
     "output_type": "stream",
     "text": [
      "[50, 3, 20, 22, 5]\n",
      "[60, 10, 9, 11, 40]\n"
     ]
    }
   ],
   "source": [
    "sabado = [50, 3, 20, 22, 5]\n",
    "print(sabado)\n",
    "domingo = [60, 10, 9, 11, 40]\n",
    "print(domingo)"
   ]
  },
  {
   "cell_type": "markdown",
   "metadata": {},
   "source": [
    "Para combinar dois conjuntos de dados, criamos uma expressão usando o operador +. A segunda lista é anexada no final da primeira. Portanto, a ordem das listas é importante.\n",
    "\n",
    "Podemos salvar alista combinada em uma variável para reutilizá-la"
   ]
  },
  {
   "cell_type": "code",
   "execution_count": 14,
   "metadata": {},
   "outputs": [
    {
     "name": "stdout",
     "output_type": "stream",
     "text": [
      "[50, 3, 20, 22, 5, 60, 10, 9, 11, 40]\n"
     ]
    }
   ],
   "source": [
    "vendas_fds = sabado + domingo\n",
    "print(vendas_fds)\n",
    "\n",
    "# A união também funciona com diferentes tipos de valores."
   ]
  },
  {
   "cell_type": "markdown",
   "metadata": {},
   "source": [
    " A ordem dos elementos na lista combinada é importante. Se quisermos que os elementos sejam classificados, podemos usar o método sort()"
   ]
  },
  {
   "cell_type": "markdown",
   "metadata": {},
   "source": [
    "#### Contando elementos\n",
    "\n",
    "Ao explorar conjuntos de dados, é bom saber quantas vezes um dado está presente, como a resposta mais frequente a uma pesquisa."
   ]
  },
  {
   "cell_type": "code",
   "execution_count": 15,
   "metadata": {},
   "outputs": [],
   "source": [
    "respostas = ['sim', 'não', 'as vezes', 'sim', 'sim', 'não', 'não', 'não', 'sim', 'as vezes', 'não', 'sim']"
   ]
  },
  {
   "cell_type": "markdown",
   "metadata": {},
   "source": [
    "Para contar a frequência que um valor aparece em uma lista como, começamos com o nome da lista, um ponto e em seguida o método count(), com o valor desejado entre os parênteses\n",
    "\n",
    "Podemos salvar o resultado da consulta em uma variável para reutilizá-la depois."
   ]
  },
  {
   "cell_type": "code",
   "execution_count": 16,
   "metadata": {},
   "outputs": [
    {
     "name": "stdout",
     "output_type": "stream",
     "text": [
      "5\n"
     ]
    }
   ],
   "source": [
    "frequencia = respostas.count('sim')\n",
    "print(frequencia)"
   ]
  },
  {
   "cell_type": "markdown",
   "metadata": {},
   "source": [
    "Se quisessemos exibir cada resposta e sua frequência, poderíamos usar um loop for"
   ]
  },
  {
   "cell_type": "code",
   "execution_count": 17,
   "metadata": {},
   "outputs": [
    {
     "name": "stdout",
     "output_type": "stream",
     "text": [
      "sim: 5\n",
      "não: 5\n",
      "as vezes: 2\n"
     ]
    }
   ],
   "source": [
    "questionario = []\n",
    "\n",
    "for resposta in respostas:\n",
    "  # Se a resposta já estiver no questionário, não precisamos contá-la novamente.\n",
    "  \n",
    "  if resposta not in questionario:\n",
    "    # Se a resposta não estiver no questionário, contamos quantas vezes ela aparece na lista de respostas.\n",
    "    \n",
    "    frequencia = respostas.count(resposta)\n",
    "    \n",
    "    # Exibimos a resposta e sua frequência.\n",
    "    print(f'{resposta}: {frequencia}')\n",
    "    \n",
    "    # Adicionamos a resposta ao questionário.\n",
    "    questionario.append(resposta)"
   ]
  },
  {
   "cell_type": "markdown",
   "metadata": {},
   "source": [
    "Se não quisermos saber o número exato, mas apenas se existe um elemento específico, usamos a palavra-chave in\n",
    "\n",
    " O resultado será um boolean, True se houver o item na lista, caso contrário, False\n",
    "print('não' in respostas)"
   ]
  },
  {
   "cell_type": "code",
   "execution_count": 19,
   "metadata": {},
   "outputs": [
    {
     "name": "stdout",
     "output_type": "stream",
     "text": [
      "True\n"
     ]
    }
   ],
   "source": [
    "print('não' in respostas)"
   ]
  }
 ],
 "metadata": {
  "kernelspec": {
   "display_name": "Python 3",
   "language": "python",
   "name": "python3"
  },
  "language_info": {
   "codemirror_mode": {
    "name": "ipython",
    "version": 3
   },
   "file_extension": ".py",
   "mimetype": "text/x-python",
   "name": "python",
   "nbconvert_exporter": "python",
   "pygments_lexer": "ipython3",
   "version": "3.12.1"
  }
 },
 "nbformat": 4,
 "nbformat_minor": 2
}
