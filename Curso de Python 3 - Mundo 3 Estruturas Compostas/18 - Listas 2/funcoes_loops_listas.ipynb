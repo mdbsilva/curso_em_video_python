{
 "cells": [
  {
   "cell_type": "markdown",
   "metadata": {},
   "source": [
    "# # Introdução a Linguagem Python\n",
    "## Funções com loops\n",
    "\n",
    "Intervalos como range(3) nos dizem quantas vezes o loop for é executado, como três vezes nesse caso"
   ]
  },
  {
   "cell_type": "code",
   "execution_count": 1,
   "metadata": {},
   "outputs": [
    {
     "name": "stdout",
     "output_type": "stream",
     "text": [
      "Download file 1 out of 3\n",
      "Download file 2 out of 3\n",
      "Download file 3 out of 3\n"
     ]
    }
   ],
   "source": [
    "def progress():\n",
    "    for i in range(1, 4):\n",
    "        print(f'Download file {i} out of 3')\n",
    "\n",
    "progress()"
   ]
  },
  {
   "cell_type": "markdown",
   "metadata": {},
   "source": [
    "Para reutilizar um loop for com qualquer intervalo, passamos um parâmetro entre range()\n",
    "\n",
    "O valor que passamos ao chamar a função é armazenado no parâmetro e depois usado como intervalo"
   ]
  },
  {
   "cell_type": "code",
   "execution_count": 2,
   "metadata": {},
   "outputs": [
    {
     "name": "stdout",
     "output_type": "stream",
     "text": [
      "Download file 1 out of  8\n",
      "Download file 2 out of  8\n",
      "Download file 3 out of  8\n",
      "Download file 4 out of  8\n",
      "Download file 5 out of  8\n",
      "Download file 6 out of  8\n",
      "Download file 7 out of  8\n",
      "Download file 8 out of  8\n"
     ]
    }
   ],
   "source": [
    "def progress(files):\n",
    "    for i in range(files):\n",
    "        print(f'Download file {i+1} out of  {files}')\n",
    "        \n",
    "qt_files = int(input('Files = '))\n",
    "\n",
    "progress(qt_files)"
   ]
  },
  {
   "cell_type": "markdown",
   "metadata": {},
   "source": [
    "Para reutilizar um loop que itera pro uma lista, podemos aninhá-lo em uma função, como este loop for\n",
    "\n",
    "Para iterar com qualquer tipo de lista, usamos o parâmetro da função em vez de uma lista fixa."
   ]
  },
  {
   "cell_type": "code",
   "execution_count": 3,
   "metadata": {},
   "outputs": [],
   "source": [
    "def metade_do_preco(carrinho):\n",
    "    for preco in carrinho:\n",
    "        print(f'Novo preço: {preco/2}')\n",
    "\n",
    "lista_carrinho = [5, 20, 8]"
   ]
  },
  {
   "cell_type": "code",
   "execution_count": 4,
   "metadata": {},
   "outputs": [
    {
     "name": "stdout",
     "output_type": "stream",
     "text": [
      "Novo preço: 2.5\n",
      "Novo preço: 10.0\n",
      "Novo preço: 4.0\n"
     ]
    }
   ],
   "source": [
    "# Ao percorre a lista no parâmetro, podemos chamar a função com qualquer lista, como lista_carrihno aqui\n",
    "metade_do_preco(lista_carrinho)"
   ]
  },
  {
   "cell_type": "code",
   "execution_count": 5,
   "metadata": {},
   "outputs": [
    {
     "name": "stdout",
     "output_type": "stream",
     "text": [
      "Novo preço: 5.0\n",
      "Novo preço: 15.0\n",
      "Novo preço: 40.0\n",
      "Novo preço: 50.0\n",
      "Novo preço: 100.0\n",
      "Novo preço: 150.0\n"
     ]
    }
   ],
   "source": [
    "# Ou uma lista de compras \n",
    "lista_compras = [10, 30, 80, 100, 200, 300]\n",
    "metade_do_preco(lista_compras)"
   ]
  },
  {
   "cell_type": "markdown",
   "metadata": {},
   "source": [
    "## Funções com listas - Listas como argumentos\n",
    "\n",
    "Qualquer tipo de valor pode servir como entrada ou saída de uma função. Vejamos as funções podem usar listas como players\n",
    "\n",
    "Essa função verifica se a lista de jogadores tem mais de um elemento, o que significa que é um jogo multiplayer.\n",
    "\n",
    "\n"
   ]
  },
  {
   "cell_type": "markdown",
   "metadata": {},
   "source": [
    "## "
   ]
  },
  {
   "cell_type": "code",
   "execution_count": 6,
   "metadata": {},
   "outputs": [],
   "source": [
    "def is_multiplayer(players):\n",
    "    return len(players) >= 2\n",
    "\n",
    "# Passamos listas para funções assim como fazemos com qualquer outro valor: codificando um nome de lista entre os parênteses da função.\n",
    "players = ['Amy', 'Jay']"
   ]
  },
  {
   "cell_type": "code",
   "execution_count": 7,
   "metadata": {},
   "outputs": [
    {
     "name": "stdout",
     "output_type": "stream",
     "text": [
      "True\n"
     ]
    }
   ],
   "source": [
    "# Após passarmos a lista para a função, podemos usar o parâmetro para exibi-la.\n",
    "print(is_multiplayer(players))"
   ]
  },
  {
   "cell_type": "markdown",
   "metadata": {},
   "source": [
    "Lembre-se de que os parâmetros são como variáveis que armazenam os valores que passamos para uma função. \n",
    "\n",
    "Aqui o parâmetro filmes irá armazenar os elementos da lista_filmes"
   ]
  },
  {
   "cell_type": "code",
   "execution_count": 11,
   "metadata": {},
   "outputs": [],
   "source": [
    "def display_programme(filmes):\n",
    "    print('Filmes disponíveis: ')\n",
    "    # A lista será exibida na sua formatação original com os elementos separados por vírgula entre colchetes\n",
    "    print(filmes)\n",
    "\n",
    "lista_filmes = ['Alien', 'Moon']\n",
    "lista_tarefas = ['Fazer pipoca', 'Lavar a louça']"
   ]
  },
  {
   "cell_type": "code",
   "execution_count": 9,
   "metadata": {},
   "outputs": [
    {
     "name": "stdout",
     "output_type": "stream",
     "text": [
      "Filmes disponíveis: \n",
      "['Alien', 'Moon']\n"
     ]
    }
   ],
   "source": [
    "# já que é com esse valor que chamamos a função.\n",
    "display_programme(lista_filmes)"
   ]
  },
  {
   "cell_type": "code",
   "execution_count": 10,
   "metadata": {},
   "outputs": [
    {
     "name": "stdout",
     "output_type": "stream",
     "text": [
      "Filmes disponíveis: \n",
      "['Fazer popoca', 'Lavar a louça']\n"
     ]
    }
   ],
   "source": [
    "# Se mudarmos o valor\n",
    "display_programme(lista_tarefas)"
   ]
  },
  {
   "cell_type": "markdown",
   "metadata": {},
   "source": [
    " Dentro da função, podemos usar todas as operações de listas, como len() para obter o número de passageiros"
   ]
  },
  {
   "cell_type": "code",
   "execution_count": 12,
   "metadata": {},
   "outputs": [
    {
     "name": "stdout",
     "output_type": "stream",
     "text": [
      "Temos 4 passageiros\n"
     ]
    }
   ],
   "source": [
    "def contagem_passageiros(passageiros):\n",
    "    return len(passageiros)\n",
    "\n",
    "lista_passageiros = ['Ana', 'Juan', 'Cláudia', 'Fátima']\n",
    "print(f'Temos {contagem_passageiros(lista_passageiros)} passageiros')"
   ]
  },
  {
   "cell_type": "markdown",
   "metadata": {},
   "source": [
    "A função pode usar o cumprimento da lista para comparações\n",
    "\n",
    "Às vezes queremos que nossa função recupere certos elementos de uma lista."
   ]
  },
  {
   "cell_type": "code",
   "execution_count": 19,
   "metadata": {},
   "outputs": [
    {
     "name": "stdout",
     "output_type": "stream",
     "text": [
      "O vencedor foi: Jay\n"
     ]
    }
   ],
   "source": [
    "def get_vencedor(competidores):\n",
    "    vencedor = competidores[0]\n",
    "    print(f'O vencedor foi: {vencedor}')\n",
    "\n",
    "competidores = ['Jay', 'Meg', 'Cy']\n",
    "get_vencedor(competidores)\n"
   ]
  },
  {
   "cell_type": "markdown",
   "metadata": {},
   "source": [
    "As funções também podem atualizar listas, como atualizar o nome em tabela[0] para aquele no parâmetro time"
   ]
  },
  {
   "cell_type": "code",
   "execution_count": 21,
   "metadata": {},
   "outputs": [
    {
     "name": "stdout",
     "output_type": "stream",
     "text": [
      "['Botafogo', 'Palmeiras', 'Atlético', 'Flamengo', 'Gremio']\n"
     ]
    }
   ],
   "source": [
    "def mudar_lider(tabela, time):\n",
    "    tabela[0] = time\n",
    "    return tabela\n",
    "\n",
    "tabela = ['Botafogo', 'Palmeiras', 'Atlético', 'Flamengo', 'Gremio']\n",
    "print(tabela)"
   ]
  },
  {
   "cell_type": "code",
   "execution_count": 22,
   "metadata": {},
   "outputs": [
    {
     "name": "stdout",
     "output_type": "stream",
     "text": [
      "['Vasco', 'Palmeiras', 'Atlético', 'Flamengo', 'Gremio']\n"
     ]
    }
   ],
   "source": [
    "tabela = mudar_lider(tabela, 'Vasco')\n",
    "print(tabela)"
   ]
  }
 ],
 "metadata": {
  "kernelspec": {
   "display_name": "Python 3",
   "language": "python",
   "name": "python3"
  },
  "language_info": {
   "codemirror_mode": {
    "name": "ipython",
    "version": 3
   },
   "file_extension": ".py",
   "mimetype": "text/x-python",
   "name": "python",
   "nbconvert_exporter": "python",
   "pygments_lexer": "ipython3",
   "version": "3.12.1"
  }
 },
 "nbformat": 4,
 "nbformat_minor": 2
}
