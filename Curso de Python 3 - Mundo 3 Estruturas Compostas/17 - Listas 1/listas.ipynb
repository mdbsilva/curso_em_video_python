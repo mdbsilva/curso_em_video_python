{
 "cells": [
  {
   "cell_type": "markdown",
   "metadata": {},
   "source": [
    "# Introdução a Linguagem Python\n",
    "\n",
    "## Por que precisamos de listas?\n",
    "\n",
    "Conseguir organizar muitos dados relacionados, como variáveis de idade, por exemplo, é uma parte essencial da ciência de dados.\n",
    "\n",
    "Pode ser que você precise ler, armazenar, processar e, finalmente, imprimir dezenas, talvez centenas, talvez até milhares de números. O que fazer então?\n",
    "\n",
    "Se tivéssemos que criar uma variável para cada dado novo, nosso código ficaria muito longo e complicado.\n",
    "\n",
    "Você precisa criar uma variável separada para cada valor? Você precisará passar longas horas escrevendo declarações como a abaixo?"
   ]
  },
  {
   "cell_type": "code",
   "execution_count": null,
   "metadata": {},
   "outputs": [],
   "source": [
    "var1 = int(input())\n",
    "var2 = int(input())\n",
    "var3 = int(input())\n",
    "var4 = int(input())\n",
    "var5 = int(input())\n",
    "var6 = int(input())"
   ]
  },
  {
   "cell_type": "markdown",
   "metadata": {},
   "source": [
    "Em vez disso, podemos coletar dados relacionados numa lista usando [] ou list().\n",
    "\n",
    "Pense em como seria conveniente declarar uma variável que pudesse armazenar mais de um valor. Por exemplo, uma centena ou mil ou até dez mil. Ainda seria a mesma variável, mas muito ampla e espaçosa. Soa atraente? Talvez, mas como ele lidaria com um contêiner tão cheio de valores diferentes? Como ela escolheria a que você precisa? E se você pudesse numerá-las? E então diga: dê-me o valor número 2; atribua o valor número 15; aumente o número do valor 10000.\n",
    "\n",
    "A resposta é: use listas.\n",
    "\n",
    "Os valores ou dados numa lista são chamados de elementos.\n",
    "\n",
    "Para criar uma lista vazia, codificamos o nome da lista e atribuímos [] ou list() a ela.\n",
    "\n",
    "Vamos criar uma variável chamada numbers; ela é atribuída com não apenas um número, mas é preenchida com uma lista composta por cinco valores \n",
    "\n",
    "Digamos o mesmo usando a terminologia adequada: numbers são uma lista que consiste em cinco valores, todos eles números. Também podemos dizer que essa declaração cria uma lista de comprimento igual a cinco (pois há cinco elementos dentro dela).\n",
    "\n",
    "Os elementos em uma lista podem ter tipos diferentes. Alguns deles podem ser números inteiros, outros string e outros ainda podem ser listas.\n",
    "\n",
    "Python adotou uma convenção afirmando que os elementos em uma lista são sempre numerados começando do zero. Isso significa que o item armazenado no início da lista terá o número zero. Como há cinco elementos em nossa lista, o último deles é atribuído o número quatro. Não se esqueça:"
   ]
  },
  {
   "cell_type": "code",
   "execution_count": 1,
   "metadata": {},
   "outputs": [],
   "source": [
    "numbers = [12, 10, 32, 3, 66, 17, 42, 99, 20]\n",
    "# indice:   0,  1,  2, 3,  4,  5,  6,  7,  8"
   ]
  },
  {
   "cell_type": "markdown",
   "metadata": {},
   "source": [
    "nota: a lista começa com um colchete aberto e termina com um colchete fechado; o espaço entre os colchetes é preenchido com cinco números separados por vírgulas)"
   ]
  },
  {
   "cell_type": "markdown",
   "metadata": {},
   "source": [
    "### Indexando listas\n",
    "\n",
    "Como você altera o valor de um elemento escolhido na lista?\n",
    "\n",
    "Vamos atribuir um novo valor de 111 ao primeiro elemento na lista. Fazemos isso da seguinte forma:"
   ]
  },
  {
   "cell_type": "code",
   "execution_count": 2,
   "metadata": {},
   "outputs": [],
   "source": [
    "numbers[0] = 111 # numbers é o nome da lista, e 0 é o índice do primeiro elemento da lista que atualmente é 12. O valor 111 substitui o valor 12."
   ]
  },
  {
   "cell_type": "markdown",
   "metadata": {},
   "source": [
    "E agora queremos que o valor do quinto elemento seja copiado para o segundo elemento - você consegue adivinhar como fazer isso?"
   ]
  },
  {
   "cell_type": "code",
   "execution_count": 3,
   "metadata": {},
   "outputs": [],
   "source": [
    "numbers[1] = numbers[4] # numbers[4] é o quinto elemento da lista. O valor 66 é copiado para o segundo elemento da lista que deixa de ser 10 e passa a ser 66."
   ]
  },
  {
   "cell_type": "markdown",
   "metadata": {},
   "source": [
    "O valor entre colchetes que seleciona um elemento da lista é chamado de índice, enquanto a operação de seleção de um elemento da lista é conhecida como indexação."
   ]
  },
  {
   "cell_type": "markdown",
   "metadata": {},
   "source": [
    "### Notação de slice\n",
    "\n",
    "Às vezes queremos recuperar vários valores de uma lista. Podemos fazer isso usando slicing. Vejamos a sintaxe de slice: [start:stop:step]"
   ]
  },
  {
   "cell_type": "code",
   "execution_count": 1,
   "metadata": {},
   "outputs": [
    {
     "name": "stdout",
     "output_type": "stream",
     "text": [
      "['eggs', 'flour']\n"
     ]
    }
   ],
   "source": [
    "ingredientes = ['eggs', 'flour', 'sugar', 'salt']\n",
    "print(ingredientes[0:2]) # ['eggs', 'flour']"
   ]
  },
  {
   "cell_type": "markdown",
   "metadata": {},
   "source": [
    "O valor à esquerda dos dois pontos é a posição inicial do slice. Como abordamos anteriormente, a indexação do Python começa em zero.\n",
    "\n",
    "Ao codificar ingredinetes[3:], recuperamos todos os elementos da lista a partir da posição 3 até o final da lista."
   ]
  },
  {
   "cell_type": "code",
   "execution_count": 2,
   "metadata": {},
   "outputs": [
    {
     "name": "stdout",
     "output_type": "stream",
     "text": [
      "['salt']\n"
     ]
    }
   ],
   "source": [
    "print(ingredientes[3:]) # ['salt']"
   ]
  },
  {
   "cell_type": "markdown",
   "metadata": {},
   "source": [
    "step pode ser negativo, o que nos permite usar um valor start maior que o valor stop. Nesse caso, o slice começa no final da lista e vai até o início da lista, pulando o número de elementos especificado por step."
   ]
  },
  {
   "cell_type": "code",
   "execution_count": 4,
   "metadata": {},
   "outputs": [
    {
     "name": "stdout",
     "output_type": "stream",
     "text": [
      "['salt', 'sugar', 'flour', 'eggs']\n"
     ]
    }
   ],
   "source": [
    "print(ingredientes[::-1]) # ['salt', 'sugar', 'flour', 'eggs']"
   ]
  },
  {
   "cell_type": "markdown",
   "metadata": {},
   "source": [
    "\n",
    "O valor inicial pode ser positivo, negativo ou omitido. Se omitido, o slice começa no início da lista. Valores negativos significam que o slice começa a partir do final da lista.\n",
    "\n",
    "Especificar um intervalo fora do comprimento da lista não causa um erro. Em vez disso, o slice retorna uma lista vazia.\n",
    "\n",
    "O valor à direita dos dois pontos é a posição final do slice. O slice inclui todos os elementos da posição inicial até a posição final, mas não inclui o elemento da posição final.\n",
    "\n",
    "Se usarmos um valor inicial de zero ou omitirmos o valor inicial, podemos omitir o primeiro dois pontos. Um valor de para da positivo será igual ao número de elementos retornados. \n",
    "\n",
    "Um índice start maior que o índice stop resulta em uma lista vazia"
   ]
  },
  {
   "cell_type": "code",
   "execution_count": 8,
   "metadata": {},
   "outputs": [
    {
     "name": "stdout",
     "output_type": "stream",
     "text": [
      "[]\n",
      "[500, 400, 300]\n"
     ]
    }
   ],
   "source": [
    "scores = [100, 200, 300, 400, 500]\n",
    "\n",
    "print(scores[0:2:-1]) # [] pois o step é negativo e o start é menor que o stop\n",
    "\n",
    "print(scores[4:1:-1]) # [500, 400, 300] pois o step é negativo e o start é maior que o stop"
   ]
  },
  {
   "cell_type": "markdown",
   "metadata": {},
   "source": [
    "Também podemos usar um formato com dois dois pontos para especificar um valor de step. O valor de step é o número de elementos que o slice pula a cada iteração. O valor padrão de step é 1.\n",
    "\n",
    "Podemos usar um valor step sem valor start ou stop. Nesse caso, o slice começa no início da lista e vai até o final da lista, pulando o número de elementos especificado por step."
   ]
  },
  {
   "cell_type": "code",
   "execution_count": 3,
   "metadata": {},
   "outputs": [
    {
     "name": "stdout",
     "output_type": "stream",
     "text": [
      "['eggs', 'sugar']\n"
     ]
    }
   ],
   "source": [
    "print(ingredientes[::2]) # ['eggs', 'sugar']"
   ]
  },
  {
   "cell_type": "markdown",
   "metadata": {},
   "source": [
    "### Acesso ao conteúdo da lista\n",
    "Cada um dos elementos da lista pode ser acessado separadamente. Por exemplo, ele pode ser impresso:\n"
   ]
  },
  {
   "cell_type": "code",
   "execution_count": 4,
   "metadata": {},
   "outputs": [
    {
     "name": "stdout",
     "output_type": "stream",
     "text": [
      "111\n"
     ]
    }
   ],
   "source": [
    "print(numbers[0]) # Acessando o primeiro elemento da lista. \n",
    "# Resultado: 111"
   ]
  },
  {
   "cell_type": "markdown",
   "metadata": {},
   "source": [
    "Como você pode ver no editor, a lista também pode ser impressa como um todo, assim como aqui:"
   ]
  },
  {
   "cell_type": "code",
   "execution_count": 6,
   "metadata": {},
   "outputs": [
    {
     "name": "stdout",
     "output_type": "stream",
     "text": [
      "[111, 66, 32, 3, 66, 17, 42, 99, 20]\n"
     ]
    }
   ],
   "source": [
    "print(numbers) # Acessando a lista inteira."
   ]
  },
  {
   "cell_type": "markdown",
   "metadata": {},
   "source": [
    "Como você provavelmente já deve ter notado antes, o Python adota uma saída especial para as listas - elas são impressas entre colchetes e separadas por vírgulas. Isso torna a lista muito fácil de reconhecer."
   ]
  },
  {
   "cell_type": "markdown",
   "metadata": {},
   "source": [
    "### A função len()\n",
    "\n",
    "O comprimento de uma lista pode variar durante a execução. Novos elementos podem ser adicionados à lista, enquanto outros podem ser removidos. Isso significa que a lista é uma entidade muito dinâmica.\n",
    "\n",
    "Se quiser verificar o comprimento atual da lista, você pode usar uma função chamada len() (o nome vem do comprimento).\n",
    "\n",
    "A função usa o nome da lista como argumento e retorna o número de elementos armazenados atualmente na lista (em outras palavras, o comprimento da lista)"
   ]
  },
  {
   "cell_type": "code",
   "execution_count": 7,
   "metadata": {},
   "outputs": [
    {
     "name": "stdout",
     "output_type": "stream",
     "text": [
      "9\n"
     ]
    }
   ],
   "source": [
    "print(len(numbers)) # Acessando o tamanho da lista. "
   ]
  },
  {
   "cell_type": "markdown",
   "metadata": {},
   "source": [
    "### Remover elementos de uma lista\n",
    "\n",
    "Qualquer um dos elementos da lista pode ser removido a qualquer momento - isso é feito com uma instrução chamada del (delete). \n",
    "\n",
    "Nota: é uma instrução, não uma função.\n",
    "\n",
    "Sintaxe: \n",
    "\n",
    "del list[index]\n",
    "\n",
    "Você precisa apontar para o elemento a ser removido - ele desaparecerá da lista e o comprimento da lista será reduzido em um."
   ]
  },
  {
   "cell_type": "code",
   "execution_count": 2,
   "metadata": {},
   "outputs": [
    {
     "name": "stdout",
     "output_type": "stream",
     "text": [
      "[111, 10, 32, 3, 66, 17, 42, 99, 20]\n",
      "9\n",
      "[111, 32, 3, 66, 17, 42, 99, 20]\n",
      "8\n"
     ]
    }
   ],
   "source": [
    "numbers =  [111, 10, 32, 3, 66, 17, 42, 99, 20] # Criando uma lista com 9 elementos.\n",
    "\n",
    "print(numbers) # Acessando a lista inteira. Resultado: [111, 10, 32, 3, 66, 17, 42, 99, 20]\n",
    "print(len(numbers)) # Acessando o tamanho da lista. Resultado: 9\n",
    "\n",
    "del numbers[1] # Removendo o segundo elemento da lista. 10\n",
    "\n",
    "print(numbers) # Acessando a lista inteira. Resultado: [111, 32, 3, 66, 17, 42, 99, 20]\n",
    "print(len(numbers)) # Acessando o tamanho da lista após a remoção. Resultado: 8"
   ]
  },
  {
   "cell_type": "markdown",
   "metadata": {},
   "source": [
    "Você não pode acessar um elemento que não existe - você não pode obter seu valor nem atribuir um valor a ele. Ambas as instruções causarão erros de tempo de execução agora:"
   ]
  },
  {
   "cell_type": "code",
   "execution_count": 9,
   "metadata": {},
   "outputs": [],
   "source": [
    "# print(numbers[8]) # Acessando um elemento que não existe.\n",
    "# Resultado: IndexError: list index out of range"
   ]
  },
  {
   "cell_type": "markdown",
   "metadata": {},
   "source": [
    "del também pode apagar uma lista completamente."
   ]
  },
  {
   "cell_type": "markdown",
   "metadata": {},
   "source": [
    "### Os índices negativos são legais\n",
    "\n",
    "Pode parecer estranho, mas os índices negativos são legais e podem ser muito úteis.\n",
    "\n",
    "Um elemento com um índice igual a -1 é o último na lista.\n",
    "\n",
    "A indexação negativa significa que recuperamos um elemento do lado direito de uma lista. Usamos o símbolo de menos (-) antes do índice para indicar um índice negativo.\n",
    "\n",
    "Podemos usar qualquer valor negativo até o comprimento da lista. Com esse recurso, também podemos modificar elementos de uma lista começando pelo final.\n",
    "\n",
    "Encontraremos um erro se tentarmos recuperar um valor em uma posição fora do intervalo do comprimento da lista."
   ]
  },
  {
   "cell_type": "code",
   "execution_count": 3,
   "metadata": {},
   "outputs": [
    {
     "name": "stdout",
     "output_type": "stream",
     "text": [
      "20\n"
     ]
    }
   ],
   "source": [
    "print(numbers[-1]) # Acessando o último elemento da lista."
   ]
  },
  {
   "cell_type": "markdown",
   "metadata": {},
   "source": [
    "Da mesma forma, o elemento com um índice igual a -2 é o penúltimo na lista, e assim por diante.\n",
    "\n",
    "Além de del, você pode usar o método pop() para remover um elemento da lista. O método pop() remove o último elemento da lista e o retorna.\n",
    "\n",
    "- Se você não especificar o índice, o método pop() removerá e retornará o último elemento da lista, mas pop() aceita um argumento opcional que especifica o índice do elemento a ser removido.\n",
    "\n",
    "- remove() é um método que remove o primeiro elemento com um valor especificado, ou seja, a primeira ocorrência de um valor especificado. O método remove() aceita um argumento que é o valor do elemento a ser removido. Se não houver nenhum elemento com o valor especificado, o Python gerará um erro. É boa prática verificar se o elemento existe na lista antes de removê-lo, utilizando o operador in."
   ]
  },
  {
   "cell_type": "code",
   "execution_count": null,
   "metadata": {},
   "outputs": [
    {
     "name": "stdout",
     "output_type": "stream",
     "text": [
      "O elemento não existe\n"
     ]
    }
   ],
   "source": [
    "# Podemos verificar antes se o elemento existe com o operador in.\n",
    "# O operador in retorna True se o elemento existir na lista e False se não existir.\n",
    "scores = [21, 23]\n",
    "\n",
    "# Verificando se o elemento 24 existe na lista.\n",
    "if 24 in scores:\n",
    "    scores.remove(24)  # Removendo o elemento 24 da lista SE ele existir.\n",
    "else:\n",
    "    print(\"O elemento não existe\")"
   ]
  },
  {
   "cell_type": "markdown",
   "metadata": {},
   "source": [
    "del e remove são métodos de lista que alteram a lista. Eles não retornam nenhum valor. Se você tentar atribuir o resultado a uma nova variável, a nova variável será None. \n",
    "\n",
    "Cada um funciona melhor em situações diferentes. del remove um elemento com um índice especificado. pop remove o último elemento da lista. remove() remove o primeiro elemento com um valor especificado.\n",
    "\n",
    "Ao contrário de del e remove, o resultado de pop pode ser atribuído a uma nova variável. O valor atribuído será o elemento removido da lista."
   ]
  },
  {
   "cell_type": "code",
   "execution_count": 11,
   "metadata": {},
   "outputs": [
    {
     "name": "stdout",
     "output_type": "stream",
     "text": [
      "20\n"
     ]
    }
   ],
   "source": [
    "# pop()\n",
    "numbers =  [111, 10, 32, 3, 66, 17, 42, 99, 20]\n",
    "\n",
    "print(numbers.pop()) # Removendo o último elemento da lista. Resultado: 20"
   ]
  },
  {
   "cell_type": "code",
   "execution_count": 12,
   "metadata": {},
   "outputs": [
    {
     "name": "stdout",
     "output_type": "stream",
     "text": [
      "[111, 10, 32, 3, 66, 17, 42, 99]\n",
      "3\n",
      "[111, 10, 32, 66, 17, 42, 99]\n"
     ]
    }
   ],
   "source": [
    "print(numbers) # Acessando a lista inteira. Resultado: [111, 10, 32, 3, 66, 17, 42, 99]\n",
    "print(numbers.pop(3)) # Removendo o elemento de índice 3 da lista. Resultado: 3\n",
    "print(numbers) # Acessando a lista inteira. Resultado: [111, 10, 32, 66, 17, 42, 99]"
   ]
  },
  {
   "cell_type": "code",
   "execution_count": 13,
   "metadata": {},
   "outputs": [
    {
     "name": "stdout",
     "output_type": "stream",
     "text": [
      "66\n"
     ]
    }
   ],
   "source": [
    "valor_removido = numbers.pop(3) # Removendo o elemento de índice 3 da lista e atribuindo o valor removido à variável valor_removido.\n",
    "print(valor_removido) # Acessando o valor removido. Resultado:"
   ]
  },
  {
   "cell_type": "markdown",
   "metadata": {},
   "source": [
    "Podemos utilizar o método clear() para remover todos os elementos de uma lista.\n",
    "\n",
    "A sintaxe é: list.clear()\n",
    "\n",
    "clear difere de del, pois não exclui a lista, apenas remove todos os elementos."
   ]
  },
  {
   "cell_type": "markdown",
   "metadata": {},
   "source": [
    "### Funções x métodos\n",
    "\n",
    "Um método é um tipo específico de função - ele se comporta como uma função e se parece com uma função, mas difere na maneira em que atua e em seu estilo de invocação.\n",
    "\n",
    "Uma função não pertence a nenhum dado - ela obtém dados, pode criar novos dados e (geralmente) produz um resultado.\n",
    "\n",
    "Um método faz tudo isso, mas também é capaz de alterar o estado de uma entidade selecionada.\n",
    "\n",
    "Um método pertence aos dados para os quais trabalha, enquanto uma função pertence ao código inteiro.\n",
    "\n",
    "Isso também significa que a invocação de um método requer alguma especificação dos dados dos quais o método é invocado.\n",
    "\n",
    "Pode parecer confuso aqui, mas vamos lidar com isso em profundidade quando nos aprofundarmos na programação orientada a objeto.\n",
    "\n",
    "Em geral, uma chamada de função típica pode ser assim:\n",
    "\n",
    "result = function(arg)\n",
    "\n",
    "A função usa um argumento, faz alguma coisa e retorna um resultado.\n",
    "\n",
    "Uma invocação típica de método geralmente se parece com isso:\n",
    "\n",
    "result = data.method(arg)\n",
    "\n",
    "Nota: o nome do método é precedido pelo nome dos dados proprietários do método. Em seguida, adicione um ponto, seguido pelo nome do método, e um par de parênteses que encerra os argumentos.\n",
    "\n",
    "O método se comportará como uma função, mas pode fazer algo mais - ele pode alterar o estado interno dos dados dos quais foram chamados.\n",
    "\n",
    "Você pode perguntar: por que estamos falando sobre métodos, e não sobre listas? Esta é uma questão essencial neste momento, pois mostraremos como adicionar novos elementos a uma lista atual. Isso pode ser feito com métodos de propriedade de todas as listas, e não por funções."
   ]
  },
  {
   "cell_type": "markdown",
   "metadata": {},
   "source": [
    "### Adicionando elementos a uma lista: append() e insert()\n",
    "#### append()\n",
    "\n",
    "Um novo elemento pode ser colado ao final da lista atual.\n",
    "\n",
    "Essa operação é realizada por um método chamado append(). Ele pega o valor do argumento e o coloca no final da lista que possui o método.\n",
    "\n",
    "A sintaxe é: list.append(value)\n",
    "\n"
   ]
  },
  {
   "cell_type": "markdown",
   "metadata": {},
   "source": [
    "### insert()\n",
    "\n",
    "O método insert() é um pouco mais inteligente - ele pode adicionar um novo elemento em qualquer lugar na lista, não apenas no final.\n",
    "\n",
    "list.insert(location, value)\n",
    "\n",
    "São necessários dois argumentos:\n",
    "\n",
    "- primeiro mostra a localização necessária do elemento a ser inserido; Nota: todos os elementos existentes que ocupam locais à direita do novo elemento (inclusive o na posição indicada) são deslocados para a direita, a fim de liberar espaço para o novo elemento;\n",
    "\n",
    "- o segundo é o elemento a ser inserido.\n",
    "\n",
    "Tanto append() quanto insert() só podem adicionar um elemento por vez.\n",
    "\n",
    "Veja como usamos os métodos append() e insert(). \n",
    "\n",
    "Preste atenção no que acontece depois de usar insert(): o primeiro primeiro elemento agora é o segundo, o segundo o terceiro e assim por diante."
   ]
  },
  {
   "cell_type": "code",
   "execution_count": 6,
   "metadata": {},
   "outputs": [
    {
     "name": "stdout",
     "output_type": "stream",
     "text": [
      "4\n",
      "[111, 7, 2, 1]\n"
     ]
    }
   ],
   "source": [
    "# A lista original\n",
    "numbers = [111, 7, 2, 1]\n",
    "# Ela possui quatro elementos, numerados de 0 a 3\n",
    "print(len(numbers))\n",
    "# Os elementos são: 111, 7, 2, 1\n",
    "print(numbers)"
   ]
  },
  {
   "cell_type": "markdown",
   "metadata": {},
   "source": [
    "Adicionando um elemento ao final da lista"
   ]
  },
  {
   "cell_type": "code",
   "execution_count": 7,
   "metadata": {},
   "outputs": [
    {
     "name": "stdout",
     "output_type": "stream",
     "text": [
      "5\n",
      "[111, 7, 2, 1, 4]\n"
     ]
    }
   ],
   "source": [
    "numbers.append(4)\n",
    "# Agora a lista possui cinco elementos, numerados de 0 a 4\n",
    "print(len(numbers))\n",
    "# Os elementos são: 111, 7, 2, 1, 4\n",
    "print(numbers)"
   ]
  },
  {
   "cell_type": "markdown",
   "metadata": {},
   "source": [
    "Adicionando um elemento na posição 0 com o valor 222"
   ]
  },
  {
   "cell_type": "code",
   "execution_count": 8,
   "metadata": {},
   "outputs": [
    {
     "name": "stdout",
     "output_type": "stream",
     "text": [
      "6\n",
      "[222, 111, 7, 2, 1, 4]\n"
     ]
    }
   ],
   "source": [
    "numbers.insert (0, 222)\n",
    "# Agora a lista possui seis elementos, numerados de 0 a 5\n",
    "print(len(numbers))\n",
    "# Os elementos são: 222, 111, 7, 2, 1, 4\n",
    "print(numbers)"
   ]
  },
  {
   "cell_type": "markdown",
   "metadata": {},
   "source": [
    "Adicionando um elemento na posição 2 com o valor 333"
   ]
  },
  {
   "cell_type": "code",
   "execution_count": 9,
   "metadata": {},
   "outputs": [
    {
     "name": "stdout",
     "output_type": "stream",
     "text": [
      "[222, 333, 111, 7, 2, 1, 4]\n"
     ]
    }
   ],
   "source": [
    "numbers.insert(1, 333)\n",
    "# Imprima o conteúdo da lista final na tela e veja o que acontece. O fragmento acima insere 333 na lista, tornando-o o segundo elemento. O antigo segundo elemento torna-se o terceiro, o terceiro o quarto e assim por diante.\n",
    "\n",
    "print(numbers)"
   ]
  },
  {
   "cell_type": "markdown",
   "metadata": {},
   "source": [
    "Você pode começar a vida de uma lista deixando-a vazia (isso é feito com um par de colchetes vazios) e, em seguida, adicionando novos elementos, conforme necessário."
   ]
  },
  {
   "cell_type": "code",
   "execution_count": 12,
   "metadata": {},
   "outputs": [
    {
     "name": "stdout",
     "output_type": "stream",
     "text": [
      "[1, 2, 3, 4, 5]\n"
     ]
    }
   ],
   "source": [
    "my_list = [] # Criando uma lista vazia.\n",
    "\n",
    "# O loop for é executado cinco vezes.\n",
    "for i in range(5):\n",
    "    # Observe: usamos o método append() aqui.\n",
    "    my_list.append (i + 1) # Adicionando o valor de i + 1 à lista.\n",
    "    \n",
    "# Imprimindo a lista.\n",
    "print (my_list)"
   ]
  },
  {
   "cell_type": "markdown",
   "metadata": {},
   "source": [
    "Modificamos um pouco o snippet:"
   ]
  },
  {
   "cell_type": "code",
   "execution_count": 25,
   "metadata": {},
   "outputs": [
    {
     "name": "stdout",
     "output_type": "stream",
     "text": [
      "[5, 4, 3, 2, 1]\n"
     ]
    }
   ],
   "source": [
    "my_list = []  # Criando uma lista vazia.\n",
    "\n",
    "# O loop for é executado cinco vezes.\n",
    "for i in range(5):\n",
    "    # Observe: usamos o método insert() aqui. A lista é preenchida de trás para frente pois cada valor será inserido na primeira posição.\n",
    "    my_list.insert(0, i + 1)\n",
    "    \n",
    "# Imprimindo a lista.\n",
    "print(my_list)"
   ]
  },
  {
   "cell_type": "markdown",
   "metadata": {},
   "source": [
    "### Utilização de listas\n",
    "\n",
    "O loop for tem uma variante especial que pode processar listas de forma muito eficaz - vamos dar uma olhada nisso.\n",
    "\n",
    "Vamos supor que você deseja calcular a soma de todos os valores armazenados na lista my_list.\n",
    "\n",
    "A uma lista é atribuída uma sequência de cinco valores inteiros;"
   ]
  },
  {
   "cell_type": "code",
   "execution_count": 13,
   "metadata": {},
   "outputs": [],
   "source": [
    "my_list = [10, 1, 8, 3, 5]"
   ]
  },
  {
   "cell_type": "markdown",
   "metadata": {},
   "source": [
    "Você precisa de uma variável cuja soma seja armazenada e inicialmente atribuído um valor de 0 - seu nome será total (Nota: não vamos nomear sum pois o Python usa o mesmo nome para uma de suas funções internas: sum(). Usar o mesmo nome geralmente seria considerado uma má prática.)\n",
    "Em seguida, adicione todos os elementos da lista usando o loop for. Dê uma olhada no snippet no editor."
   ]
  },
  {
   "cell_type": "code",
   "execution_count": 14,
   "metadata": {},
   "outputs": [],
   "source": [
    "total = 0"
   ]
  },
  {
   "cell_type": "markdown",
   "metadata": {},
   "source": [
    "A variável i recebe os valores 0, 1, 2, 3 e 4, e depois indexa a lista, selecionando os elementos subsequentes: o primeiro, o segundo, o terceiro, o quarto e o quinto;"
   ]
  },
  {
   "cell_type": "code",
   "execution_count": 15,
   "metadata": {},
   "outputs": [
    {
     "name": "stdout",
     "output_type": "stream",
     "text": [
      "27\n"
     ]
    }
   ],
   "source": [
    "for i in range(len(my_list)):\n",
    "  # cada um desses elementos é adicionado pelo operador += à variável total , fornecendo o resultado final no final do loop;\n",
    "  total += my_list[i]\n",
    "\n",
    "  # observe a maneira como a função len() foi empregada - ela torna o código independente de quaisquer alterações possíveis no conteúdo da lista.\n",
    "print(total)"
   ]
  },
  {
   "cell_type": "markdown",
   "metadata": {},
   "source": [
    "### O segundo aspecto do loop for\n",
    "\n",
    "Mas o loop for pode fazer muito mais. Ele pode ocultar todas as ações conectadas à indexação da lista e disponibilizar todos os elementos da lista de maneira prática. Este fragmento modificado mostra como funciona:"
   ]
  },
  {
   "cell_type": "code",
   "execution_count": 16,
   "metadata": {},
   "outputs": [],
   "source": [
    "my_list = [10, 1, 8, 3, 5]\n",
    "total = 0"
   ]
  },
  {
   "cell_type": "markdown",
   "metadata": {},
   "source": [
    "a instrução for especifica a variável usada para navegar pela lista (i aqui) seguida pela palavra-chave in e o nome da lista que está sendo processada (my_list aqui)"
   ]
  },
  {
   "cell_type": "code",
   "execution_count": 33,
   "metadata": {},
   "outputs": [
    {
     "name": "stdout",
     "output_type": "stream",
     "text": [
      "27\n"
     ]
    }
   ],
   "source": [
    "for i in my_list:\n",
    "  # a variável i recebe os valores de todos os elementos da lista subsequente, e o processo ocorre quantas vezes houver elementos na lista; isso significa que você usa a variável i como uma cópia dos valores dos elementos e não precisa usar índices; a função len() também não é necessária.\n",
    "    total += i\n",
    "\n",
    "print(total)"
   ]
  },
  {
   "cell_type": "markdown",
   "metadata": {},
   "source": [
    "### Listas em ação\n",
    "\n",
    "Imagine que você precisa reorganizar os elementos de uma lista, ou seja, inverter a ordem dos elementos: o primeiro e o quinto, bem como o segundo e o quarto elementos serão trocados. O terceiro permanecerá intocado.\n",
    "\n",
    "Pergunta: como você pode trocar os valores de duas variáveis?"
   ]
  },
  {
   "cell_type": "code",
   "execution_count": 37,
   "metadata": {},
   "outputs": [],
   "source": [
    "variable_1 = 1\n",
    "variable_2 = 2\n",
    "\n",
    "variable_2 = variable_1 # Atribuindo o valor da variável_1 à variável_2, ou seja, 1.\n",
    "\n",
    "variable_1 = variable_2 # Atribuindo o valor da variável_2 à variável_1, ou seja, 1"
   ]
  },
  {
   "cell_type": "markdown",
   "metadata": {},
   "source": [
    "Se você fizer algo assim, você perderia o valor armazenado anteriormente na variável_2. Alterar a ordem das tarefas não vai ajudar. Você precisa de uma terceira variável que serve como armazenamento auxiliar."
   ]
  },
  {
   "cell_type": "code",
   "execution_count": 38,
   "metadata": {},
   "outputs": [],
   "source": [
    "variable_1 = 1\n",
    "variable_2 = 2\n",
    "\n",
    "auxiliary = variable_1 # Atribuindo o valor da variável_1 à variável auxiliar, ou seja, 1.\n",
    "\n",
    "variable_1 = variable_2 # Atribuindo o valor da variável_2 à variável_1, ou seja, 2.\n",
    "\n",
    "variable_2 = auxiliary # Atribuindo o valor da variável auxiliar à variável_2, ou seja, 1.\n"
   ]
  },
  {
   "cell_type": "markdown",
   "metadata": {},
   "source": [
    "O Python faz o trabalho para você - não há necessidade de uma variável auxiliar. A troca é feita em uma única linha e dessa forma o valor não é perdido. Agora você pode facilmente trocar os elementos da lista para reverter a ordem:"
   ]
  },
  {
   "cell_type": "code",
   "execution_count": 39,
   "metadata": {},
   "outputs": [
    {
     "name": "stdout",
     "output_type": "stream",
     "text": [
      "[5, 3, 8, 1, 10]\n"
     ]
    }
   ],
   "source": [
    "my_list = [10, 1, 8, 3, 5]\n",
    "\n",
    "my_list[0], my_list[4] = my_list[4], my_list[0]\n",
    "my_list[1], my_list[3] = my_list[3], my_list[1]\n",
    "\n",
    "print(my_list)"
   ]
  },
  {
   "cell_type": "markdown",
   "metadata": {},
   "source": [
    "Parece bom com cinco elementos.\n",
    "\n",
    "Ainda será aceitável com uma lista contendo 100 elementos? Não, não vai.\n",
    "\n",
    "Você pode usar o loop for para fazer a mesma coisa automaticamente, independentemente do comprimento da lista? Sim, você pode.\n",
    "\n",
    "Atribuímos a variável length com o comprimento da lista atual (isso torna nosso código um pouco mais claro e mais curto)"
   ]
  },
  {
   "cell_type": "code",
   "execution_count": 40,
   "metadata": {},
   "outputs": [],
   "source": [
    "my_list = [10, 1, 8, 3, 5]\n",
    "length = len(my_list)"
   ]
  },
  {
   "cell_type": "markdown",
   "metadata": {},
   "source": [
    "Lançamos o loop for para percorrer length//2 vezes (isso funciona bem para listas com comprimentos pares e ímpares, porque quando a lista contém um número ímpar de elementos, o meio permanece intocado)"
   ]
  },
  {
   "cell_type": "code",
   "execution_count": 41,
   "metadata": {},
   "outputs": [
    {
     "name": "stdout",
     "output_type": "stream",
     "text": [
      "[5, 3, 8, 1, 10]\n"
     ]
    }
   ],
   "source": [
    "for i in range(length // 2):  # o operador // é usado para a divisão inteira\n",
    "  \n",
    "    my_list[i], my_list[length - i - 1] = my_list[length - i - 1], my_list[i]\n",
    "    # trocamos o i-ésimo elemento (do início da lista) pelo elemento com um índice igual a (length - i - 1) (do fim da lista); no nosso exemplo, para i igual a 0 o (length - i - 1) dá 4; para i igual a 1, dá 3 - isso é exatamente o que precisávamos.\n",
    "\n",
    "    # Por exemplo, quando i for 1 (o segundo elemento da lista), o (length - i - 1) será 3 (o quarto elemento da lista). Quando i for 2 (o terceiro elemento da lista), o (length - i - 1) será 2 (o terceiro elemento da lista, novamente). E assim por diante.\n",
    "    \n",
    "print(my_list)"
   ]
  },
  {
   "cell_type": "markdown",
   "metadata": {},
   "source": [
    "O desempacotamento de listas é uma maneira conveniente de atribuir valores a várias variáveis em uma única linha. O número de variáveis à esquerda deve corresponder ao número de elementos da lista. Cada elemento da lista é atribuído a uma variável na ordem em que aparece na lista."
   ]
  }
 ],
 "metadata": {
  "kernelspec": {
   "display_name": "Python 3",
   "language": "python",
   "name": "python3"
  },
  "language_info": {
   "codemirror_mode": {
    "name": "ipython",
    "version": 3
   },
   "file_extension": ".py",
   "mimetype": "text/x-python",
   "name": "python",
   "nbconvert_exporter": "python",
   "pygments_lexer": "ipython3",
   "version": "3.12.1"
  }
 },
 "nbformat": 4,
 "nbformat_minor": 2
}
