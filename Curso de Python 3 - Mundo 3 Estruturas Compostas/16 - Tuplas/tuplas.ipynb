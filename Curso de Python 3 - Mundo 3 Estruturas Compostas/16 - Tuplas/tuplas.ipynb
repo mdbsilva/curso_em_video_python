{
 "cells": [
  {
   "cell_type": "markdown",
   "metadata": {},
   "source": [
    "# Introdução a linguagem Python\n",
    "## Tuplas\n",
    "Tuplas são identificadas por parênteses.\n",
    "\n",
    "Seus valores são cercados por parênteses (ou não) sendo separados por vírgulas. Cada um deles é um elemento possuindo seu próprio índice, iniciando em zero.\n"
   ]
  },
  {
   "cell_type": "code",
   "execution_count": 2,
   "metadata": {},
   "outputs": [
    {
     "name": "stdout",
     "output_type": "stream",
     "text": [
      "('hambúrguer', 'suco', 'pizza', 'pudim')\n"
     ]
    }
   ],
   "source": [
    "lanche = ('hambúrguer', 'suco', 'pizza', 'pudim')\n",
    "print(lanche)"
   ]
  },
  {
   "cell_type": "markdown",
   "metadata": {},
   "source": [
    "Podemos usar o fatiamento nas tuplas, como nas strings e listas."
   ]
  },
  {
   "cell_type": "code",
   "execution_count": 3,
   "metadata": {},
   "outputs": [
    {
     "name": "stdout",
     "output_type": "stream",
     "text": [
      "pizza\n"
     ]
    }
   ],
   "source": [
    "# Exibir o elemento no índice 2\n",
    "print(lanche[2])  # Este é o índice do valor 'pizza'"
   ]
  },
  {
   "cell_type": "markdown",
   "metadata": {},
   "source": [
    "Exibir os elementos de um intervalo\n",
    "\n",
    "O método len() exibe a quantidade de elementos da Tupla"
   ]
  },
  {
   "cell_type": "code",
   "execution_count": 4,
   "metadata": {},
   "outputs": [
    {
     "name": "stdout",
     "output_type": "stream",
     "text": [
      "4\n"
     ]
    }
   ],
   "source": [
    "print(len(lanche))"
   ]
  },
  {
   "cell_type": "markdown",
   "metadata": {},
   "source": [
    "Podemos usar um laço para iterar através dos elementos de uma tupla."
   ]
  },
  {
   "cell_type": "code",
   "execution_count": 5,
   "metadata": {},
   "outputs": [
    {
     "name": "stdout",
     "output_type": "stream",
     "text": [
      "Eu vou comer hambúrguer\n",
      "Eu vou beber suco\n",
      "Eu vou comer pizza\n",
      "Eu vou comer pudim\n"
     ]
    }
   ],
   "source": [
    "for elemento in lanche:  # Para cada elemento na tupla lanche - elemento será o valor\n",
    "    print(f'Eu vou beber {elemento}' if elemento == 'suco' else f'Eu vou comer {elemento}')  # Exiba essa mensagem formatada."
   ]
  },
  {
   "cell_type": "markdown",
   "metadata": {},
   "source": [
    "As tuplas em Python tem uma limitação. Elas são imutáveis!\n",
    "\n",
    "Não podemos atualizá-las durante a execução do programa."
   ]
  },
  {
   "cell_type": "code",
   "execution_count": 6,
   "metadata": {},
   "outputs": [
    {
     "name": "stdout",
     "output_type": "stream",
     "text": [
      "0: Eu vou comer hambúrguer\n",
      "1: Eu vou comer suco\n",
      "2: Eu vou comer pizza\n",
      "3: Eu vou comer pudim\n"
     ]
    }
   ],
   "source": [
    "# Iterando de outra forma - Caso precise do índice\n",
    "for contador in range(len(lanche)):  # O contador será o índice\n",
    "    print(f'{contador}: Eu vou comer {lanche[contador]}')  # lanche[contador] exibirá o valor naquele índice"
   ]
  },
  {
   "cell_type": "markdown",
   "metadata": {},
   "source": [
    "#### UTILIZANDO enumerate()\n",
    "\n",
    "enumerate() mostra a posição e o valor, então podemos usar dois contadores.\n",
    "\n",
    "enumerate() possui um parâmetro opcional que é o start=0, que define o índice inicial. Por padrão é 0."
   ]
  },
  {
   "cell_type": "code",
   "execution_count": 9,
   "metadata": {},
   "outputs": [
    {
     "name": "stdout",
     "output_type": "stream",
     "text": [
      "0: Eu vou comer hambúrguer\n",
      "1: Eu vou beber suco\n",
      "2: Eu vou comer pizza\n",
      "3: Eu vou comer pudim\n"
     ]
    }
   ],
   "source": [
    "for indice, elemento in enumerate(lanche):\n",
    "    print(f'{indice}: Eu vou beber {elemento}' if elemento == 'suco' else f'{indice}: Eu vou comer {elemento}')"
   ]
  },
  {
   "cell_type": "markdown",
   "metadata": {},
   "source": [
    "Podemos usar o método sorted() para organizar a tupla em ordem alfabética"
   ]
  },
  {
   "cell_type": "code",
   "execution_count": 10,
   "metadata": {},
   "outputs": [
    {
     "name": "stdout",
     "output_type": "stream",
     "text": [
      "['hambúrguer', 'pizza', 'pudim', 'suco']\n"
     ]
    }
   ],
   "source": [
    "print(sorted(lanche))\n",
    "nova_lista = sorted(lanche)"
   ]
  },
  {
   "cell_type": "markdown",
   "metadata": {},
   "source": [
    "O método não altera a tupla, a ordenação é mostrada somente naquela instância. Mas podemos atribuir os elementos ordenados a outra variável ou atualizar a própria variável original"
   ]
  },
  {
   "cell_type": "code",
   "execution_count": 11,
   "metadata": {},
   "outputs": [
    {
     "name": "stdout",
     "output_type": "stream",
     "text": [
      "('hambúrguer', 'suco', 'pizza', 'pudim')\n",
      "['hambúrguer', 'pizza', 'pudim', 'suco']\n"
     ]
    }
   ],
   "source": [
    "print(lanche)\n",
    "print(nova_lista)"
   ]
  },
  {
   "cell_type": "markdown",
   "metadata": {},
   "source": [
    " Ao unir tuplas com o operador + elas serão exibidas na ordem em que forem colocadas."
   ]
  },
  {
   "cell_type": "code",
   "execution_count": 12,
   "metadata": {},
   "outputs": [
    {
     "name": "stdout",
     "output_type": "stream",
     "text": [
      "(2, 5, 4, 5, 8, 1, 2)\n",
      "(5, 8, 1, 2, 2, 5, 4)\n"
     ]
    }
   ],
   "source": [
    "tupla_a = (2, 5, 4)\n",
    "tupla_b = (5, 8, 1, 2)\n",
    "\n",
    "tupla_a_b = tupla_a + tupla_b\n",
    "print(tupla_a_b)\n",
    "\n",
    "tupla_b_a = tupla_b + tupla_a\n",
    "print(tupla_b_a)"
   ]
  },
  {
   "cell_type": "markdown",
   "metadata": {},
   "source": [
    "Além do len() temos outros métodos que podem ser utilizados nas tuplas.\n",
    "\n",
    ".count(elemento) verifica as ocorrências de um elemento dentro da tupla"
   ]
  },
  {
   "cell_type": "code",
   "execution_count": 13,
   "metadata": {},
   "outputs": [
    {
     "name": "stdout",
     "output_type": "stream",
     "text": [
      "2\n"
     ]
    }
   ],
   "source": [
    "print(tupla_a_b.count(2))"
   ]
  },
  {
   "cell_type": "markdown",
   "metadata": {},
   "source": [
    ".index(elemento) verifica o índice de um elemento. Havendo mais de uma, exibe a primeira ocorrência"
   ]
  },
  {
   "cell_type": "code",
   "execution_count": 15,
   "metadata": {},
   "outputs": [
    {
     "name": "stdout",
     "output_type": "stream",
     "text": [
      "1\n"
     ]
    }
   ],
   "source": [
    "print(tupla_a_b.index(5))"
   ]
  },
  {
   "cell_type": "markdown",
   "metadata": {},
   "source": [
    "Podemos definir um intervalo pré-determinado com fatiamento."
   ]
  },
  {
   "cell_type": "code",
   "execution_count": 16,
   "metadata": {},
   "outputs": [
    {
     "name": "stdout",
     "output_type": "stream",
     "text": [
      "5\n"
     ]
    }
   ],
   "source": [
    "print(tupla_b_a.index(5, 1))"
   ]
  },
  {
   "cell_type": "markdown",
   "metadata": {},
   "source": [
    "Tuplas aceitam valores de todos os tipos"
   ]
  },
  {
   "cell_type": "code",
   "execution_count": 18,
   "metadata": {},
   "outputs": [
    {
     "name": "stdout",
     "output_type": "stream",
     "text": [
      "('Gustavo', 39, 'M', 99.88)\n"
     ]
    }
   ],
   "source": [
    "pessoa = ('Gustavo', 39, 'M', 99.88)\n",
    "print(pessoa)"
   ]
  },
  {
   "cell_type": "markdown",
   "metadata": {},
   "source": [
    "### Tuplas e Listas\n",
    "Esta lista contém filmes e datas de lançamento, mas não está claro qual data pertence a qual filme\n"
   ]
  },
  {
   "cell_type": "code",
   "execution_count": 20,
   "metadata": {},
   "outputs": [],
   "source": [
    "filmes = ['Vertigo', 'Parasite', 1958, 2010]"
   ]
  },
  {
   "cell_type": "markdown",
   "metadata": {},
   "source": [
    "Podemos agrupar dados relacionados com uma tupla.\n",
    "\n",
    "As tuplas nos ajudam a agrupar diferentes partes de dados que pertencem umas às outras.\n",
    "\n",
    "Criamos tuplas de forma semelhante a listas, mas utilizamos parênteses em vez de colchetes para envolver os valores. Assim como nas listas, também separamos os elementos com vírgula."
   ]
  },
  {
   "cell_type": "code",
   "execution_count": 21,
   "metadata": {},
   "outputs": [
    {
     "name": "stdout",
     "output_type": "stream",
     "text": [
      "('Parasite', 2010)\n"
     ]
    }
   ],
   "source": [
    "filmes_tupla = [('Vertigo', 1958), ('Parasite', 2010)]\n",
    "print(filmes_tupla[1])"
   ]
  },
  {
   "cell_type": "markdown",
   "metadata": {},
   "source": [
    "Como um caso especial, tuplas com apenas um valor terminam em vírgula de qualquer maneira.\n",
    "\n",
    "As tuplas podem ter quantos valores quisermos. Podemos salvar uma tupla em uma variável, assim como qualquer valor"
   ]
  },
  {
   "cell_type": "code",
   "execution_count": 22,
   "metadata": {},
   "outputs": [],
   "source": [
    "tulpa_especial = ('Valor',)"
   ]
  },
  {
   "cell_type": "markdown",
   "metadata": {},
   "source": [
    "Podemos armazenar tuplas em uma lista como qualquer outro valor. Consideramos que cada tupla tem um valor e assim como qualquer valor, usamos vírgula para separá-los.\n",
    "\n",
    "Podemos usar uma tupla específica na lista usando o seu índice. Após acessar o índice, podemos salvar a tupla em uma variável.\n",
    "\n",
    "Podemos usar um loop para iterar uma lista de tuplas."
   ]
  },
  {
   "cell_type": "code",
   "execution_count": 24,
   "metadata": {},
   "outputs": [
    {
     "name": "stdout",
     "output_type": "stream",
     "text": [
      "Result: ('Mia', 75)\n",
      "Result: ('Lee', 90)\n"
     ]
    }
   ],
   "source": [
    "score = [('Mia', 75), ('Lee', 90)]\n",
    "\n",
    "for user_score in score:\n",
    "    print(f'Result: {user_score}')"
   ]
  },
  {
   "cell_type": "markdown",
   "metadata": {},
   "source": [
    "Vejamos as semelhanças e diferenças entre tuplas e listas:"
   ]
  },
  {
   "cell_type": "code",
   "execution_count": 25,
   "metadata": {},
   "outputs": [],
   "source": [
    "event_tuple = ('Saturday', '21:00', \"Anna's birthday\")\n",
    "days_list = ['Saturday', 'Sunday']"
   ]
  },
  {
   "cell_type": "markdown",
   "metadata": {},
   "source": [
    " Da mesma forma que nas listas, podemos acessar os valores de uma tupla pelo seu índice"
   ]
  },
  {
   "cell_type": "code",
   "execution_count": 26,
   "metadata": {},
   "outputs": [
    {
     "name": "stdout",
     "output_type": "stream",
     "text": [
      "21:00\n",
      "Sunday\n"
     ]
    }
   ],
   "source": [
    "print(event_tuple[1]) # 21:00\n",
    "print(days_list[1]) # Sunday"
   ]
  },
  {
   "cell_type": "markdown",
   "metadata": {},
   "source": [
    "A principal diferença é que, diferentemente das listas, não podemos atualizar, adicionar ou excluir valores de tuplas.\n",
    "\n",
    "Dizemos que as tuplas são imutáveis, pois tentar modificá-las resulta em erro.\n",
    "\n",
    "Como são imutáveis, nós usamos tuplas para armazenar informações que não devem ser modificadas"
   ]
  },
  {
   "cell_type": "markdown",
   "metadata": {},
   "source": [
    "#### Retornando tuplas\n",
    "\n",
    "As tuplas são úteis porque nos permitem retornar vários valores de uma função.\n",
    "\n",
    "Para retornar uma tupla, codificamos os valores que desejamos retornar separados por vírgula.\n",
    "\n",
    "Esta função retorna uma tupla com a maior e a menor pontuação de uma lista de pontuações."
   ]
  },
  {
   "cell_type": "code",
   "execution_count": 1,
   "metadata": {},
   "outputs": [],
   "source": [
    "def get_scores_data(scores_list):\n",
    "    # A função max() retorna o maior valor de uma lista e min() retorna o menor\n",
    "    highest_score = max(scores_list)\n",
    "    lowest_score = min(scores_list)\n",
    "    # A tupla é retornada\n",
    "    return  highest_score, lowest_score # (100, 5)\n"
   ]
  },
  {
   "cell_type": "markdown",
   "metadata": {},
   "source": [
    "Para armazenar uma tupla retornada por uma função, atribuímos o resultado da chamada de função a uma variável como data"
   ]
  },
  {
   "cell_type": "code",
   "execution_count": 2,
   "metadata": {},
   "outputs": [],
   "source": [
    "scores = [30, 17, 80, 100, 90, 10, 30, 5] # Essa lista de pontuações é passada para a função\n",
    "data = get_scores_data(scores) # A tupla retornada é armazenada em data"
   ]
  },
  {
   "cell_type": "code",
   "execution_count": 3,
   "metadata": {},
   "outputs": [
    {
     "name": "stdout",
     "output_type": "stream",
     "text": [
      "(100, 5)\n"
     ]
    }
   ],
   "source": [
    "print(data)"
   ]
  }
 ],
 "metadata": {
  "kernelspec": {
   "display_name": "Python 3",
   "language": "python",
   "name": "python3"
  },
  "language_info": {
   "codemirror_mode": {
    "name": "ipython",
    "version": 3
   },
   "file_extension": ".py",
   "mimetype": "text/x-python",
   "name": "python",
   "nbconvert_exporter": "python",
   "pygments_lexer": "ipython3",
   "version": "3.12.1"
  }
 },
 "nbformat": 4,
 "nbformat_minor": 2
}
