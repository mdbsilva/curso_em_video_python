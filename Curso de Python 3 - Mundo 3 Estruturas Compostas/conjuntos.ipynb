{
 "cells": [
  {
   "cell_type": "markdown",
   "metadata": {},
   "source": [
    "# Introdução a Linguagem Python\n",
    "\n",
    "## Criando conjuntos\n",
    "\n",
    "Quando queremos ter certeza de que uma coleção de valores não pode ter duplicatas, nós a armazenamos em um set. Conjuntos são coleções de valores como listas, mas não permitem valores duplicados.\n",
    "\n",
    "Para criar um conjunto, começamos com chaves para circundar os valores. Separamos os valores com vírgula e para reutilizar o conjunto, podemos armazená-lo em uma variável."
   ]
  },
  {
   "cell_type": "code",
   "execution_count": 2,
   "metadata": {},
   "outputs": [],
   "source": [
    "postcodes = {'SW1A', 'SY3', 'B44'}"
   ]
  },
  {
   "cell_type": "markdown",
   "metadata": {},
   "source": [
    "Podemos usar um loop para iterar um conjunto.\n",
    "\n",
    "Como os conjuntos não têm ordem, não podemos acessar valores por índice.\n",
    "\n",
    "A cada iteração, o loop acessa um valor diferente do conjunto."
   ]
  },
  {
   "cell_type": "code",
   "execution_count": 5,
   "metadata": {},
   "outputs": [
    {
     "name": "stdout",
     "output_type": "stream",
     "text": [
      "{'B44', 'SY3', 'SW1A'}\n"
     ]
    }
   ],
   "source": [
    "print(postcodes)"
   ]
  },
  {
   "cell_type": "markdown",
   "metadata": {},
   "source": [
    "Para adicionar um novo valor a um conjunto como answers, codificamos o nome do conjunto, seguido da instrução .add() como o novo valor entre os parênteses."
   ]
  },
  {
   "cell_type": "code",
   "execution_count": 6,
   "metadata": {},
   "outputs": [
    {
     "name": "stdout",
     "output_type": "stream",
     "text": [
      "{'não', 'sim'}\n"
     ]
    }
   ],
   "source": [
    "conjunto = {'sim', 'não'}\n",
    "print(conjunto)"
   ]
  },
  {
   "cell_type": "markdown",
   "metadata": {},
   "source": [
    "Os itens não são ordenados, portanto, não podemos ter certeza da ordem em que os itens aparecerão quando impressos"
   ]
  },
  {
   "cell_type": "code",
   "execution_count": 8,
   "metadata": {},
   "outputs": [
    {
     "name": "stdout",
     "output_type": "stream",
     "text": [
      "{'não', 'talvez', 'sim'}\n"
     ]
    }
   ],
   "source": [
    "conjunto.add('talvez')\n",
    "print(conjunto)"
   ]
  },
  {
   "cell_type": "markdown",
   "metadata": {},
   "source": [
    "Como os conjuntos excluem os valores duplicados, nada acontece quando tentamos adicionar um valor já existente."
   ]
  },
  {
   "cell_type": "code",
   "execution_count": 9,
   "metadata": {},
   "outputs": [],
   "source": [
    "conjunto.add('sim')"
   ]
  },
  {
   "cell_type": "markdown",
   "metadata": {},
   "source": [
    "Sabemos que podemos acessar e atualizar elementos em listas pelo seu índice, mas ao contrário das listas, os conjuntos não podem ser ordenados. Isso significa que os elementos não possuem índices e devido isso, só podemos verificar se um elemento está presente no conjunto usando o operador in"
   ]
  },
  {
   "cell_type": "code",
   "execution_count": 10,
   "metadata": {},
   "outputs": [
    {
     "name": "stdout",
     "output_type": "stream",
     "text": [
      "True\n"
     ]
    }
   ],
   "source": [
    "print('sim' in conjunto)"
   ]
  },
  {
   "cell_type": "markdown",
   "metadata": {},
   "source": [
    "Também podemos usar um loop for para iterar pelos elementos do conjunto e acessá-los um por um"
   ]
  },
  {
   "cell_type": "code",
   "execution_count": 11,
   "metadata": {},
   "outputs": [
    {
     "name": "stdout",
     "output_type": "stream",
     "text": [
      "Opção: não\n",
      "Opção: talvez\n",
      "Opção: sim\n"
     ]
    }
   ],
   "source": [
    "for elemento in conjunto:\n",
    "    print(f'Opção: {elemento}')"
   ]
  },
  {
   "cell_type": "markdown",
   "metadata": {},
   "source": [
    "Para remover um elemento do conjunto como 'sim', codificamos o nome do conjunto seguido da instrução .remove() com o elemento entre parênteses. Para evitar erros verificamos antes se o elemento pertence ao conjunto."
   ]
  },
  {
   "cell_type": "code",
   "execution_count": 12,
   "metadata": {},
   "outputs": [
    {
     "name": "stdout",
     "output_type": "stream",
     "text": [
      "{'não', 'talvez'}\n"
     ]
    }
   ],
   "source": [
    "if 'sim' in conjunto:\n",
    "    conjunto.remove('sim')\n",
    "print(conjunto)"
   ]
  },
  {
   "cell_type": "markdown",
   "metadata": {},
   "source": [
    "### Conjuntos e listas\n",
    "\n",
    "Ao contrário dos conjuntos, listas permitem valores duplicados. Para eliminar duplicatas em uma lista, podemos transformá-la em um conjunto com a instrução set() contendo o nome da lista entre os parênteses."
   ]
  },
  {
   "cell_type": "code",
   "execution_count": 13,
   "metadata": {},
   "outputs": [
    {
     "name": "stdout",
     "output_type": "stream",
     "text": [
      "[1, 2, 2, 3, 4, 5, 5, 6]\n"
     ]
    }
   ],
   "source": [
    "lista = [1, 2, 2, 3, 4, 5, 5, 6]\n",
    "print(lista)"
   ]
  },
  {
   "cell_type": "markdown",
   "metadata": {},
   "source": [
    "set() nos fornece um conjunto de valores exclusivos que podemos armazenar em uma variável"
   ]
  },
  {
   "cell_type": "code",
   "execution_count": 14,
   "metadata": {},
   "outputs": [
    {
     "name": "stdout",
     "output_type": "stream",
     "text": [
      "{1, 2, 3, 4, 5, 6}\n"
     ]
    }
   ],
   "source": [
    "nova_lista = set(lista)\n",
    "print(nova_lista)"
   ]
  },
  {
   "cell_type": "markdown",
   "metadata": {},
   "source": [
    "Podemos transformar o conjunto de volta em uma lista com a instrução list() contendo o nome do conjunto entre os parênteses."
   ]
  },
  {
   "cell_type": "code",
   "execution_count": 15,
   "metadata": {},
   "outputs": [
    {
     "name": "stdout",
     "output_type": "stream",
     "text": [
      "[1, 2, 3, 4, 5, 6]\n"
     ]
    }
   ],
   "source": [
    "print(list(nova_lista))"
   ]
  },
  {
   "cell_type": "markdown",
   "metadata": {},
   "source": [
    "## Operações com conjuntos\n",
    "\n",
    "Assim como listas, podemos obter o tamanho de um conjunto com a instrução len()\n",
    "\n",
    "Quando todos os elementos de um conjunto estão presentes em outro, dizemos que este é um subconjunto do outro."
   ]
  },
  {
   "cell_type": "code",
   "execution_count": 16,
   "metadata": {},
   "outputs": [],
   "source": [
    "numeros = {0, 1, 2, 3, 4, 5, 6, 7, 8, 9} # Todos os números\n",
    "pares = {0, 2, 4, 6, 8} # Apenas os pares"
   ]
  },
  {
   "cell_type": "markdown",
   "metadata": {},
   "source": [
    "### .issubset()\n",
    "\n",
    "Para verificar isso, usamos a instrução .issubset() com o conjunto que queremos verificar entre os parênteses\n",
    "\n",
    ".issubset() retorna True se o conjunto da esquerda for um subconjunto do da direita e False caso contráro"
   ]
  },
  {
   "cell_type": "markdown",
   "metadata": {},
   "source": [
    "Todos os elementos do conjunto nums estão no conjunto pares?"
   ]
  },
  {
   "cell_type": "code",
   "execution_count": 20,
   "metadata": {},
   "outputs": [
    {
     "name": "stdout",
     "output_type": "stream",
     "text": [
      "{0, 1, 2, 3, 4, 5, 6, 7, 8, 9}\n",
      "{0, 2, 4, 6, 8}\n",
      "False\n"
     ]
    }
   ],
   "source": [
    "print(numeros)\n",
    "print(pares)\n",
    "print(numeros.issubset(pares)) # False - 1, 3, 5, 7, 9 não estão em pares"
   ]
  },
  {
   "cell_type": "markdown",
   "metadata": {},
   "source": [
    "Todos os elementos do conjunto pares estão no conjunto numeros?"
   ]
  },
  {
   "cell_type": "code",
   "execution_count": 22,
   "metadata": {},
   "outputs": [
    {
     "name": "stdout",
     "output_type": "stream",
     "text": [
      "{0, 1, 2, 3, 4, 5, 6, 7, 8, 9}\n",
      "{0, 2, 4, 6, 8}\n",
      "True\n"
     ]
    }
   ],
   "source": [
    "print(numeros)\n",
    "print(pares)\n",
    "print(pares.issubset(numeros)) # True - são eles: 0, 2, 4, 6, 8"
   ]
  },
  {
   "cell_type": "markdown",
   "metadata": {},
   "source": [
    "### issuperset()\n",
    "\n",
    "Podemos salvar o boolean fornecido em uma variável.\n",
    "\n",
    "Podemos usar a instrução .issuperset() para verificar se um conjunto contém todos os elementos de outro conjunto.\n",
    "\n",
    ".issuperset() retorna True se o conjunto da esquerda contiver todos os elementos do conjunto da direita e False caso contrário.\n",
    "\n",
    "Todos os elementos do conjunto nums estão no conjunto pares?"
   ]
  },
  {
   "cell_type": "code",
   "execution_count": 24,
   "metadata": {},
   "outputs": [
    {
     "name": "stdout",
     "output_type": "stream",
     "text": [
      "{0, 1, 2, 3, 4, 5, 6, 7, 8, 9}\n",
      "{0, 2, 4, 6, 8}\n",
      "True\n"
     ]
    }
   ],
   "source": [
    "print(numeros)\n",
    "print(pares)\n",
    "print(numeros.issuperset(pares)) # True - são eles: 0, 2, 4, 6, 8"
   ]
  },
  {
   "cell_type": "markdown",
   "metadata": {},
   "source": [
    "Todos os elementos do conjunto pares estão no conjunto 'nums'?"
   ]
  },
  {
   "cell_type": "code",
   "execution_count": 26,
   "metadata": {},
   "outputs": [
    {
     "name": "stdout",
     "output_type": "stream",
     "text": [
      "{0, 1, 2, 3, 4, 5, 6, 7, 8, 9}\n",
      "{0, 2, 4, 6, 8}\n",
      "False\n"
     ]
    }
   ],
   "source": [
    "print(numeros)\n",
    "print(pares)\n",
    "print(pares.issuperset(numeros)) # False - 1, 3, 5, 7, 9 não estão em pares"
   ]
  },
  {
   "cell_type": "markdown",
   "metadata": {},
   "source": [
    "### .union()\n",
    "\n",
    "Podemos juntar dois conjuntos usando a instrução .union()\n",
    "\n",
    "\n",
    ".union() nos dá um novo conjunto com todos os elementos dos conjuntos originais"
   ]
  },
  {
   "cell_type": "code",
   "execution_count": 27,
   "metadata": {},
   "outputs": [
    {
     "name": "stdout",
     "output_type": "stream",
     "text": [
      "União: {0, 1, 2, 3, 4, 5, 6, 7, 8, 9}\n"
     ]
    }
   ],
   "source": [
    "pares = {0, 2, 4, 6, 8}\n",
    "impares = {1, 3, 5, 7, 9}\n",
    "\n",
    "nums = impares.union(pares)\n",
    "print(f'União: {nums}')"
   ]
  },
  {
   "cell_type": "markdown",
   "metadata": {},
   "source": [
    ".union() nos da um novo conjunto, sem duplicatas, mesmo que alguns elementos estejam em ambos os conjuntos originais."
   ]
  },
  {
   "cell_type": "code",
   "execution_count": 28,
   "metadata": {},
   "outputs": [
    {
     "name": "stdout",
     "output_type": "stream",
     "text": [
      "União: {0, 1, 2, 3, 4, 5, 6, 7, 8, 9}\n"
     ]
    }
   ],
   "source": [
    "nums = pares.union(impares)\n",
    "print(f'União: {nums}')"
   ]
  },
  {
   "cell_type": "code",
   "execution_count": null,
   "metadata": {},
   "outputs": [],
   "source": []
  },
  {
   "cell_type": "markdown",
   "metadata": {},
   "source": [
    "### .intersection()\n",
    "\n",
    "Da mesma forma, podemos criar um conjunto com os elementos que estão em ambos os conjuntos (interseção) com .intersection()\n",
    "\n",
    ".intersection() nos dá um novo conjunto com os elementos que estão em ambos os conjuntos originais"
   ]
  },
  {
   "cell_type": "code",
   "execution_count": 29,
   "metadata": {},
   "outputs": [],
   "source": [
    "conjunto_a = {'a', 'e', 'i', 'o', 'u'}\n",
    "conjunto_b = {'a', 'b', 'c', 'd', 'e', 'f', 'g', 'h'}"
   ]
  },
  {
   "cell_type": "code",
   "execution_count": 30,
   "metadata": {},
   "outputs": [
    {
     "name": "stdout",
     "output_type": "stream",
     "text": [
      "Vogais: {'e', 'a'}\n"
     ]
    }
   ],
   "source": [
    "vogais = conjunto_a.intersection(conjunto_b)\n",
    "print(f'Vogais: {vogais}') # {'a', 'e'}"
   ]
  },
  {
   "cell_type": "markdown",
   "metadata": {},
   "source": [
    ".intersection() nos da um novo conjunto, sem duplicatas, mesmo que alguns elementos estejam em ambos os conjuntos originais."
   ]
  },
  {
   "cell_type": "code",
   "execution_count": 31,
   "metadata": {},
   "outputs": [
    {
     "name": "stdout",
     "output_type": "stream",
     "text": [
      "Vogais: {'e', 'a'}\n"
     ]
    }
   ],
   "source": [
    "vogais = conjunto_b.intersection(conjunto_a)\n",
    "print(f'Vogais: {vogais}') # {'a', 'e'}"
   ]
  },
  {
   "cell_type": "markdown",
   "metadata": {},
   "source": [
    "Enquanto .union() nos fornece todos os elementos, .intersection() nos fornece apenas os elementos em comum.\n",
    "\n",
    "Podemos salvar os conjuntos dados por union() e intersection() em variáveis\n",
    "\n",
    "### difference()\n",
    "\n",
    "Para obter um conjunto de elementos que estão presentes em um conjunto, mas não em outro, utilizamos a instrução .difference()\n",
    "\n",
    " A instrução nos dá os elementos que o conjunto da esquerda tem, mas que o conjunto da direita não tem"
   ]
  },
  {
   "cell_type": "code",
   "execution_count": 32,
   "metadata": {},
   "outputs": [],
   "source": [
    "conjunto_a = {'a', 'e', 'i', 'o', 'u'}\n",
    "conjunto_b = {'a', 'b', 'c', 'd', 'e', 'f', 'g', 'h'}"
   ]
  },
  {
   "cell_type": "markdown",
   "metadata": {},
   "source": [
    ".difference() nos dá um novo conjunto com os elementos que estão no conjunto da esquerda, mas não no da direita"
   ]
  },
  {
   "cell_type": "code",
   "execution_count": 33,
   "metadata": {},
   "outputs": [
    {
     "name": "stdout",
     "output_type": "stream",
     "text": [
      "Tem no a mas não no b: {'i', 'o', 'u'}\n"
     ]
    }
   ],
   "source": [
    "print(f'Tem no a mas não no b: {conjunto_a.difference(conjunto_b)}') # {'i', 'o', 'u'}"
   ]
  },
  {
   "cell_type": "markdown",
   "metadata": {},
   "source": [
    ".difference() nos da um novo conjunto, sem duplicatas, mesmo que alguns elementos estejam em ambos os conjuntos originais."
   ]
  },
  {
   "cell_type": "code",
   "execution_count": 34,
   "metadata": {},
   "outputs": [
    {
     "name": "stdout",
     "output_type": "stream",
     "text": [
      "Tem no b mas não no a: {'g', 'h', 'b', 'c', 'f', 'd'}\n"
     ]
    }
   ],
   "source": [
    "print(f'Tem no b mas não no a: {conjunto_b.difference(conjunto_a)}') # {'c', 'd', 'f', 'g', 'h', 'b'}"
   ]
  },
  {
   "cell_type": "markdown",
   "metadata": {},
   "source": [
    "Como antes, podemos salvar esse resultado em uma variável se necessário"
   ]
  }
 ],
 "metadata": {
  "kernelspec": {
   "display_name": "Python 3",
   "language": "python",
   "name": "python3"
  },
  "language_info": {
   "codemirror_mode": {
    "name": "ipython",
    "version": 3
   },
   "file_extension": ".py",
   "mimetype": "text/x-python",
   "name": "python",
   "nbconvert_exporter": "python",
   "pygments_lexer": "ipython3",
   "version": "3.12.1"
  }
 },
 "nbformat": 4,
 "nbformat_minor": 2
}
